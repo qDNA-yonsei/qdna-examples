{
 "cells": [
  {
   "cell_type": "code",
   "execution_count": 1,
   "metadata": {},
   "outputs": [],
   "source": [
    "import numpy as np"
   ]
  },
  {
   "cell_type": "markdown",
   "metadata": {},
   "source": [
    "***\n",
    "## Configuration\n",
    "***"
   ]
  },
  {
   "cell_type": "code",
   "execution_count": 2,
   "metadata": {},
   "outputs": [],
   "source": [
    "# PARAMETERS\n",
    "# Modify this section to adjust the classifier's behavior.\n",
    "shots = 8192\n",
    "dataset_size = 600 + 300\n",
    "training_size = 600/dataset_size\n",
    "n_trash_qubits = 2\n",
    "\n",
    "batch_size = 25\n",
    "epochs = 50\n",
    "iters = 4000 # int((dataset_size * training_size * epochs) / batch_size)"
   ]
  },
  {
   "cell_type": "code",
   "execution_count": 3,
   "metadata": {},
   "outputs": [
    {
     "data": {
      "text/plain": [
       "1200"
      ]
     },
     "execution_count": 3,
     "metadata": {},
     "output_type": "execute_result"
    }
   ],
   "source": [
    "int((dataset_size * training_size * epochs) / batch_size)"
   ]
  },
  {
   "cell_type": "code",
   "execution_count": 4,
   "metadata": {},
   "outputs": [],
   "source": [
    "# SIMULATION CONFIG\n",
    "# Modify this section to change the type of simulation used.\n",
    "from qiskit_aer import AerSimulator\n",
    "# from qiskit_aer.noise import NoiseModel\n",
    "# from qiskit_ibm_runtime.fake_provider import FakeNairobiV2\n",
    "\n",
    "# noise_model = NoiseModel.from_backend(FakeNairobiV2())\n",
    "# backend = AerSimulator(noise_model=noise_model)\n",
    "backend = AerSimulator()"
   ]
  },
  {
   "cell_type": "markdown",
   "metadata": {},
   "source": [
    "***\n",
    "## Dataset\n",
    "***"
   ]
  },
  {
   "cell_type": "code",
   "execution_count": 5,
   "metadata": {},
   "outputs": [],
   "source": [
    "from credit_card import load_fraud_dataset\n",
    "\n",
    "features, labels = load_fraud_dataset(dataset_size, 42, False)\n",
    "\n",
    "feature_dim = len(features[0])\n",
    "n_qubits = int(np.ceil(np.log2(feature_dim)))"
   ]
  },
  {
   "cell_type": "markdown",
   "metadata": {},
   "source": [
    "***\n",
    "## Experiment\n",
    "***"
   ]
  },
  {
   "cell_type": "code",
   "execution_count": 6,
   "metadata": {},
   "outputs": [
    {
     "name": "stdout",
     "output_type": "stream",
     "text": [
      "max_fidelity_loss: 0.0\n",
      "configuring compressor...\n",
      "\ttrash qubits: 2\n",
      "\ttrash_partition: [0, 1]\n",
      "\tcompressor depth: 30\n",
      "\tcompressor cnots: 18\n",
      "extracting features...\n",
      "training and testing...\n",
      "\trep: 0  1  2  3  4  5  6  7  8  9 \n"
     ]
    }
   ],
   "source": [
    "from qiskit.circuit.library import StatePreparation\n",
    "\n",
    "import warnings\n",
    "warnings.simplefilter('ignore')\n",
    "\n",
    "from credit_card import configure_compressor, extract_features, training, testing\n",
    "\n",
    "def full_experiment(target_class, n_trash_partition, reps=1):\n",
    "\n",
    "    print('configuring compressor...')\n",
    "\n",
    "    # 1. CONFIGURE COMPRESSOR\n",
    "    compressor = configure_compressor(\n",
    "        features, labels, target_class, n_qubits, n_trash_partition, training_size, backend, verbose=1\n",
    "    )\n",
    "\n",
    "    print('extracting features...')\n",
    "\n",
    "    # 2. CREATE DATASETS FROM EXTRACTED FEATURES (TRASH DATA)\n",
    "    train_data, train_targets, test_data, test_targets = extract_features(\n",
    "        features, labels, target_class, compressor, n_qubits, training_size, backend, shots, initializer, opt_params, verbose=0\n",
    "    )\n",
    "\n",
    "    # print(train_targets)\n",
    "    # train_targets = np.array(train_targets)\n",
    "    # indexes = np.where(train_targets < 1)\n",
    "    # train_data = np.array(train_data)\n",
    "    \n",
    "    # train_data = train_data[indexes]\n",
    "    # train_targets = train_targets[indexes]\n",
    "\n",
    "    # print(indexes)\n",
    "    # print(train_targets.shape)\n",
    "    # print(train_targets)\n",
    "\n",
    "    print('training and testing...')\n",
    "\n",
    "    # REPEAT TRAINING AND TESTING PROCESS `reps` TIMES\n",
    "    metrics = ([],[],[],[],[],[],[],[],[],[],[])\n",
    "\n",
    "    print(f'\\trep:', end='')\n",
    "    for rep in range(reps):\n",
    "        print(f' {rep} ', end='')\n",
    "\n",
    "        # 3. TRAINING\n",
    "        model = training(train_data, train_targets, iters, batch_size, verbose=0)\n",
    "\n",
    "        # 4. TESTING\n",
    "        total_loss, tp, tn, acc, fp, fn, f1, mcc, scores, auc = testing(model, test_data, test_targets, verbose=0)\n",
    "\n",
    "        # SAVES TESTING RESULTS FOR EACH `rep`\n",
    "        metrics[0].append(sum(total_loss))\n",
    "        metrics[1].append(tp)\n",
    "        metrics[2].append(tn)\n",
    "        metrics[3].append(acc)\n",
    "        metrics[4].append(fp)\n",
    "        metrics[5].append(fn)\n",
    "        metrics[6].append(f1)\n",
    "        metrics[7].append(mcc)\n",
    "        metrics[8].append(scores)\n",
    "        metrics[9].append(test_targets)\n",
    "        metrics[10].append(auc)\n",
    "\n",
    "    print()\n",
    "\n",
    "    return metrics\n",
    "\n",
    "\n",
    "results = {}\n",
    "target_class = 0\n",
    "for max_fidelity_loss in [0.0]: #, 0.1, 0.15, 0.2, 0.25, 0.30, 0.35, 0.40, 0.45, 0.50, 0.60, 1.0]:\n",
    "    print('max_fidelity_loss:', max_fidelity_loss)\n",
    "\n",
    "    if max_fidelity_loss == 0.0:\n",
    "        opt_params = None\n",
    "        initializer = StatePreparation\n",
    "    else:\n",
    "        from qclib.state_preparation import BaaLowRankInitialize\n",
    "        opt_params = {\n",
    "            'max_fidelity_loss': max_fidelity_loss,\n",
    "            'strategy': 'brute_force',\n",
    "            'use_low_rank': True\n",
    "        }\n",
    "        initializer = BaaLowRankInitialize\n",
    "\n",
    "    results[max_fidelity_loss] = full_experiment(target_class, n_trash_partition=n_trash_qubits, reps=10)"
   ]
  },
  {
   "cell_type": "code",
   "execution_count": 7,
   "metadata": {},
   "outputs": [
    {
     "data": {
      "text/markdown": [
       "| max loss | avg. TP | std. TP | avg. TN | std. TN | avg. FP | std. FP | avg. FN | std. FN | avg. acc | std. acc | avg. F1 | std. F1 | avg. MCC | std. MCC | avg. AUC | std. AUC |\n",
       "|:---:|:---:|:---:|:---:|:---:|:---:|:---:|:---:|:---:|:---:|:---:|:---:|:---:|:---:|:---:|:---:|:---:|\n",
       "| 0.0 | 135.6 | 5.0833 | 117.6 | 2.7641 | 32.4 | 2.7641 | 14.4 | 5.0833 | 0.844 | 0.0093 | 0.8526 | 0.012 | 0.6941 | 0.0223 | 0.9069 | 0.0007 |\n"
      ],
      "text/plain": [
       "<IPython.core.display.Markdown object>"
      ]
     },
     "metadata": {},
     "output_type": "display_data"
    }
   ],
   "source": [
    "from credit_card import display_results\n",
    "display_results(results)"
   ]
  },
  {
   "cell_type": "code",
   "execution_count": 8,
   "metadata": {},
   "outputs": [
    {
     "name": "stdout",
     "output_type": "stream",
     "text": [
      "max_fidelity_loss: 0.0\n",
      "MAX. AUC: 0.9082222222222222\n"
     ]
    },
    {
     "data": {
      "image/png": "[encoded data removed]",
      "text/plain": [
       "<Figure size 640x480 with 1 Axes>"
      ]
     },
     "metadata": {},
     "output_type": "display_data"
    }
   ],
   "source": [
    "import matplotlib.pyplot as plt\n",
    "from sklearn.metrics import roc_curve\n",
    "\n",
    "def plot_roc(fpr, tpr):\n",
    "    plt.plot(fpr, tpr, label='ROC curve')\n",
    "    plt.xlabel('False Positive Rate')\n",
    "    plt.ylabel('True Positive Rate')\n",
    "    plt.title('ROC curve')\n",
    "    plt.legend()\n",
    "    plt.show()\n",
    "\n",
    "for max_fidelity_loss, result in results.items():\n",
    "    auc_max = max(result[10])\n",
    "    auc_index = result[10].index(auc_max)\n",
    "    scores = result[8][auc_index]\n",
    "    y_test = result[9][auc_index]\n",
    "    fprs, tprs, _ = roc_curve(y_test, scores)\n",
    "\n",
    "    print('max_fidelity_loss:', max_fidelity_loss)\n",
    "    print('MAX. AUC:', auc_max)\n",
    "    plot_roc(fprs, tprs)"
   ]
  }
 ],
 "metadata": {
  "kernelspec": {
   "display_name": "py311",
   "language": "python",
   "name": "python3"
  },
  "language_info": {
   "codemirror_mode": {
    "name": "ipython",
    "version": 3
   },
   "file_extension": ".py",
   "mimetype": "text/x-python",
   "name": "python",
   "nbconvert_exporter": "python",
   "pygments_lexer": "ipython3",
   "version": "3.11.8"
  },
  "orig_nbformat": 4
 },
 "nbformat": 4,
 "nbformat_minor": 2
}

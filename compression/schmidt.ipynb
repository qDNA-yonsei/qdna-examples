{
 "cells": [
  {
   "cell_type": "code",
   "execution_count": 41,
   "metadata": {},
   "outputs": [],
   "source": [
    "import numpy as np\n",
    "from qiskit import QuantumCircuit\n",
    "from qiskit.circuit.library import StatePreparation\n",
    "\n",
    "from qclib.machine_learning.datasets import digits\n",
    "\n",
    "# If you are not using the `qdna-lib` source code,\n",
    "# comment out the following two lines.\n",
    "import sys\n",
    "sys.path.append('../../qdna-lib/')\n",
    "\n",
    "from qdna.compression import SchmidtCompressor"
   ]
  },
  {
   "cell_type": "code",
   "execution_count": 42,
   "metadata": {},
   "outputs": [],
   "source": [
    "# Dataset load.\n",
    "seed = 42\n",
    "\n",
    "# Here you can choose the dataset classes. For example: [0,1], [1,8], [2,4,7], etc.\n",
    "# At least two classes must be chosen.\n",
    "sample_total, training_input, test_input, class_labels = digits.load(classes=[0,1],\n",
    "                                                                     training_size=160,\n",
    "                                                                     test_size=10,\n",
    "                                                                     random_seed=seed)\n",
    "feature_dim = len(training_input[class_labels[0]][0])\n",
    "n_qubits = int(np.ceil(np.log2(feature_dim)))\n",
    "\n",
    "# Variables to collect data for the summary.\n",
    "fidelities = [[],[]]\n",
    "figures = [[],[]]"
   ]
  },
  {
   "cell_type": "code",
   "execution_count": 43,
   "metadata": {},
   "outputs": [
    {
     "name": "stdout",
     "output_type": "stream",
     "text": [
      "(160, 64)\n",
      "(160, 64)\n",
      "(10, 64)\n",
      "(10, 64)\n"
     ]
    }
   ],
   "source": [
    "# Prints information on training and test datasets.\n",
    "for _, train_samples in training_input.items():\n",
    "    print(train_samples.shape)\n",
    "for _, test_samples in test_input.items():\n",
    "    print(test_samples.shape)"
   ]
  },
  {
   "cell_type": "code",
   "execution_count": 44,
   "metadata": {},
   "outputs": [],
   "source": [
    "# Utility functions.\n",
    "def calc_fidelity(state1, state2):\n",
    "    bra = np.conj(state1)\n",
    "    ket = state2\n",
    "\n",
    "    return np.power(np.abs(bra.dot(ket)), 2)\n",
    "\n",
    "def plot_digits(vectors, num_data_qubits, text=''):\n",
    "    import matplotlib.pyplot as plt\n",
    "    _dpi = 96\n",
    "    matrix_dim_1 = 2**(int(np.ceil(num_data_qubits/2)))\n",
    "    matrix_dim_2 = 2**(int(np.floor(num_data_qubits/2)))\n",
    "\n",
    "    ncols = len(vectors)\n",
    "    _, axes = plt.subplots(nrows=1, ncols=ncols, figsize=(ncols*10*matrix_dim_1/_dpi, 10*matrix_dim_2/_dpi), dpi=_dpi)\n",
    "    for ax, vector in zip(axes, vectors):\n",
    "        ax.set_axis_off()\n",
    "        image = vector.reshape(matrix_dim_1, matrix_dim_2)\n",
    "        ax.imshow(image, cmap=plt.cm.gray, interpolation='none')\n",
    "\n",
    "    plt.show()"
   ]
  },
  {
   "cell_type": "markdown",
   "metadata": {},
   "source": [
    "***\n",
    "## Calculates the typical state\n",
    "***"
   ]
  },
  {
   "cell_type": "code",
   "execution_count": 45,
   "metadata": {},
   "outputs": [
    {
     "name": "stdout",
     "output_type": "stream",
     "text": [
      "(64,)\n"
     ]
    }
   ],
   "source": [
    "# Estimate the centroid.\n",
    "# Simply the average of the training samples (or a random selection of samples).\n",
    "\n",
    "centroid = np.zeros(2**n_qubits)\n",
    "for train_sample in np.concatenate([train_samples for _, train_samples in training_input.items()]):\n",
    "    centroid += train_sample\n",
    "\n",
    "typical_state = centroid / np.linalg.norm(centroid)\n",
    "\n",
    "print(typical_state.shape)"
   ]
  },
  {
   "cell_type": "markdown",
   "metadata": {},
   "source": [
    "***\n",
    "## Creates de compressor\n",
    "***"
   ]
  },
  {
   "cell_type": "code",
   "execution_count": 46,
   "metadata": {},
   "outputs": [
    {
     "data": {
      "image/png": "[encoded data removed]",
      "text/plain": [
       "<Figure size 436.387x267.556 with 1 Axes>"
      ]
     },
     "execution_count": 46,
     "metadata": {},
     "output_type": "execute_result"
    }
   ],
   "source": [
    "# Creates the compressor.\n",
    "\n",
    "# These are the qubits of the quantum channel for data transmission.\n",
    "# It can take on any configuration. For example: [0], [0,1,2,3,4], [1,3,5], etc.\n",
    "channel = [3,4,5]\n",
    "\n",
    "partition = list(set(range(n_qubits)).difference(\n",
    "    set([n_qubits-i-1 for i in channel])\n",
    "))\n",
    "\n",
    "compressor = SchmidtCompressor(typical_state, opt_params={'partition': partition, 'lr': 0})\n",
    "decompressor = compressor.inverse()\n",
    "\n",
    "# Draw an example of the circuit.\n",
    "initializer = StatePreparation(typical_state)\n",
    "\n",
    "circuit = QuantumCircuit(n_qubits)\n",
    "circuit.append(initializer.definition, range(n_qubits))\n",
    "circuit.append(compressor.definition, range(n_qubits))\n",
    "circuit.reset(compressor.trash_qubits)\n",
    "circuit.append(decompressor.definition, range(n_qubits))\n",
    "\n",
    "circuit.draw('mpl', scale=0.5, style=\"iqp\")"
   ]
  },
  {
   "cell_type": "code",
   "execution_count": 47,
   "metadata": {},
   "outputs": [
    {
     "name": "stdout",
     "output_type": "stream",
     "text": [
      "43\n"
     ]
    }
   ],
   "source": [
    "from qclib.util import get_cnot_count\n",
    "print(get_cnot_count(compressor.definition))"
   ]
  },
  {
   "cell_type": "markdown",
   "metadata": {},
   "source": [
    "***\n",
    "## Main experiment\n",
    "***\n",
    "Using |0> as the reference state."
   ]
  },
  {
   "cell_type": "code",
   "execution_count": 48,
   "metadata": {},
   "outputs": [
    {
     "name": "stdout",
     "output_type": "stream",
     "text": [
      "0 - Recovered state fidelity = 0.9205221343622271\n"
     ]
    },
    {
     "data": {
      "image/png": "[encoded data removed]",
      "text/plain": [
       "<Figure size 160x80 with 2 Axes>"
      ]
     },
     "metadata": {},
     "output_type": "display_data"
    },
    {
     "name": "stdout",
     "output_type": "stream",
     "text": [
      "1 - Recovered state fidelity = 0.810112434364102\n"
     ]
    },
    {
     "data": {
      "image/png": "[encoded data removed]",
      "text/plain": [
       "<Figure size 160x80 with 2 Axes>"
      ]
     },
     "metadata": {},
     "output_type": "display_data"
    },
    {
     "name": "stdout",
     "output_type": "stream",
     "text": [
      "2 - Recovered state fidelity = 0.916705777360894\n"
     ]
    },
    {
     "data": {
      "image/png": "[encoded data removed]",
      "text/plain": [
       "<Figure size 160x80 with 2 Axes>"
      ]
     },
     "metadata": {},
     "output_type": "display_data"
    },
    {
     "name": "stdout",
     "output_type": "stream",
     "text": [
      "3 - Recovered state fidelity = 0.8707497611790468\n"
     ]
    },
    {
     "data": {
      "image/png": "[encoded data removed]",
      "text/plain": [
       "<Figure size 160x80 with 2 Axes>"
      ]
     },
     "metadata": {},
     "output_type": "display_data"
    },
    {
     "name": "stdout",
     "output_type": "stream",
     "text": [
      "4 - Recovered state fidelity = 0.7489445921175802\n"
     ]
    },
    {
     "data": {
      "image/png": "[encoded data removed]",
      "text/plain": [
       "<Figure size 160x80 with 2 Axes>"
      ]
     },
     "metadata": {},
     "output_type": "display_data"
    },
    {
     "name": "stdout",
     "output_type": "stream",
     "text": [
      "5 - Recovered state fidelity = 0.8409808824543301\n"
     ]
    },
    {
     "data": {
      "image/png": "[encoded data removed]",
      "text/plain": [
       "<Figure size 160x80 with 2 Axes>"
      ]
     },
     "metadata": {},
     "output_type": "display_data"
    },
    {
     "name": "stdout",
     "output_type": "stream",
     "text": [
      "6 - Recovered state fidelity = 0.8765367123901708\n"
     ]
    },
    {
     "data": {
      "image/png": "[encoded data removed]",
      "text/plain": [
       "<Figure size 160x80 with 2 Axes>"
      ]
     },
     "metadata": {},
     "output_type": "display_data"
    },
    {
     "name": "stdout",
     "output_type": "stream",
     "text": [
      "7 - Recovered state fidelity = 0.7817234146998625\n"
     ]
    },
    {
     "data": {
      "image/png": "[encoded data removed]",
      "text/plain": [
       "<Figure size 160x80 with 2 Axes>"
      ]
     },
     "metadata": {},
     "output_type": "display_data"
    },
    {
     "name": "stdout",
     "output_type": "stream",
     "text": [
      "8 - Recovered state fidelity = 0.7853216388614361\n"
     ]
    },
    {
     "data": {
      "image/png": "[encoded data removed]",
      "text/plain": [
       "<Figure size 160x80 with 2 Axes>"
      ]
     },
     "metadata": {},
     "output_type": "display_data"
    },
    {
     "name": "stdout",
     "output_type": "stream",
     "text": [
      "9 - Recovered state fidelity = 0.8141954557217153\n"
     ]
    },
    {
     "data": {
      "image/png": "[encoded data removed]",
      "text/plain": [
       "<Figure size 160x80 with 2 Axes>"
      ]
     },
     "metadata": {},
     "output_type": "display_data"
    },
    {
     "name": "stdout",
     "output_type": "stream",
     "text": [
      "10 - Recovered state fidelity = 0.6751952411300443\n"
     ]
    },
    {
     "data": {
      "image/png": "[encoded data removed]",
      "text/plain": [
       "<Figure size 160x80 with 2 Axes>"
      ]
     },
     "metadata": {},
     "output_type": "display_data"
    },
    {
     "name": "stdout",
     "output_type": "stream",
     "text": [
      "11 - Recovered state fidelity = 0.7375150544553863\n"
     ]
    },
    {
     "data": {
      "image/png": "[encoded data removed]",
      "text/plain": [
       "<Figure size 160x80 with 2 Axes>"
      ]
     },
     "metadata": {},
     "output_type": "display_data"
    },
    {
     "name": "stdout",
     "output_type": "stream",
     "text": [
      "12 - Recovered state fidelity = 0.5208767211617332\n"
     ]
    },
    {
     "data": {
      "image/png": "[encoded data removed]",
      "text/plain": [
       "<Figure size 160x80 with 2 Axes>"
      ]
     },
     "metadata": {},
     "output_type": "display_data"
    },
    {
     "name": "stdout",
     "output_type": "stream",
     "text": [
      "13 - Recovered state fidelity = 0.7099670371186231\n"
     ]
    },
    {
     "data": {
      "image/png": "[encoded data removed]",
      "text/plain": [
       "<Figure size 160x80 with 2 Axes>"
      ]
     },
     "metadata": {},
     "output_type": "display_data"
    },
    {
     "name": "stdout",
     "output_type": "stream",
     "text": [
      "14 - Recovered state fidelity = 0.7000503563796698\n"
     ]
    },
    {
     "data": {
      "image/png": "[encoded data removed]",
      "text/plain": [
       "<Figure size 160x80 with 2 Axes>"
      ]
     },
     "metadata": {},
     "output_type": "display_data"
    },
    {
     "name": "stdout",
     "output_type": "stream",
     "text": [
      "15 - Recovered state fidelity = 0.6852100610981293\n"
     ]
    },
    {
     "data": {
      "image/png": "[encoded data removed]",
      "text/plain": [
       "<Figure size 160x80 with 2 Axes>"
      ]
     },
     "metadata": {},
     "output_type": "display_data"
    },
    {
     "name": "stdout",
     "output_type": "stream",
     "text": [
      "16 - Recovered state fidelity = 0.641858762046758\n"
     ]
    },
    {
     "data": {
      "image/png": "[encoded data removed]",
      "text/plain": [
       "<Figure size 160x80 with 2 Axes>"
      ]
     },
     "metadata": {},
     "output_type": "display_data"
    },
    {
     "name": "stdout",
     "output_type": "stream",
     "text": [
      "17 - Recovered state fidelity = 0.82288963570337\n"
     ]
    },
    {
     "data": {
      "image/png": "[encoded data removed]",
      "text/plain": [
       "<Figure size 160x80 with 2 Axes>"
      ]
     },
     "metadata": {},
     "output_type": "display_data"
    },
    {
     "name": "stdout",
     "output_type": "stream",
     "text": [
      "18 - Recovered state fidelity = 0.8341165928395756\n"
     ]
    },
    {
     "data": {
      "image/png": "[encoded data removed]",
      "text/plain": [
       "<Figure size 160x80 with 2 Axes>"
      ]
     },
     "metadata": {},
     "output_type": "display_data"
    },
    {
     "name": "stdout",
     "output_type": "stream",
     "text": [
      "19 - Recovered state fidelity = 0.557789127794584\n"
     ]
    },
    {
     "data": {
      "image/png": "[encoded data removed]",
      "text/plain": [
       "<Figure size 160x80 with 2 Axes>"
      ]
     },
     "metadata": {},
     "output_type": "display_data"
    }
   ],
   "source": [
    "from qiskit.quantum_info import Statevector\n",
    "\n",
    "fidelities[0].clear()\n",
    "figures[0].clear()\n",
    "\n",
    "# Applies the compression-decompression process to each of the test samples.\n",
    "\n",
    "for i, test_sample in enumerate(np.concatenate([test_samples for _, test_samples in test_input.items()])):\n",
    "    initializer = StatePreparation(test_sample)\n",
    "\n",
    "    circuit = QuantumCircuit(n_qubits)\n",
    "    circuit.append(initializer.definition, range(n_qubits))\n",
    "    circuit.append(compressor.definition, range(n_qubits))\n",
    "\n",
    "    circuit.reset(compressor.trash_qubits)\n",
    "    circuit.append(decompressor.definition, range(n_qubits))\n",
    "\n",
    "    # There is a sporadic bug in the reset.\n",
    "    # For now, I've decided to run the same piece of code five\n",
    "    # times to avoid it, but at some point it will be necessary\n",
    "    # to investigate the problem.\n",
    "    output_probs = None\n",
    "    fidelity = 0.0\n",
    "    for _ in range(10):\n",
    "        _output_state = Statevector(circuit).data\n",
    "        _fidelity = calc_fidelity(test_sample, _output_state)\n",
    "        if _fidelity > fidelity:\n",
    "            fidelity = _fidelity\n",
    "            output_probs = np.abs(_output_state)**2\n",
    "\n",
    "    fidelities[0].append(fidelity)\n",
    "    figures[0].append([np.abs(test_sample)**2, output_probs])\n",
    "    print(i, '- Recovered state fidelity =', fidelity)\n",
    "    plot_digits([np.abs(test_sample)**2, output_probs], n_qubits)"
   ]
  },
  {
   "cell_type": "markdown",
   "metadata": {},
   "source": [
    "***\n",
    "## Optimization\n",
    "***\n",
    "This optimization is based on the conservation of entropy.\n",
    "As we are dealing with a pure state (Alice's side), our goal is to produce an initial state of zero entropy (or close to zero) on Bob's side."
   ]
  },
  {
   "cell_type": "code",
   "execution_count": 49,
   "metadata": {},
   "outputs": [],
   "source": [
    "# Calculates one average trash state density matrix.\n",
    "from qiskit.quantum_info import Statevector, partial_trace\n",
    "\n",
    "# Applies the compression process to each of the train samples\n",
    "# and calculates the correspondent trash state.\n",
    "\n",
    "for i, train_sample in enumerate(np.concatenate([train_samples for _, train_samples in training_input.items()])):\n",
    "    initializer = StatePreparation(train_sample)\n",
    "\n",
    "    circuit = QuantumCircuit(n_qubits)\n",
    "    circuit.append(initializer.definition, range(n_qubits))\n",
    "    circuit.append(compressor.definition, range(n_qubits))\n",
    "\n",
    "    trash_state = partial_trace(Statevector(circuit), compressor.latent_qubits)\n",
    "    \n",
    "    break"
   ]
  },
  {
   "cell_type": "markdown",
   "metadata": {},
   "source": [
    "### Creates an example of the reference state initializer"
   ]
  },
  {
   "cell_type": "code",
   "execution_count": 50,
   "metadata": {},
   "outputs": [
    {
     "data": {
      "image/png": "[encoded data removed]",
      "text/plain": [
       "<Figure size 244.787x267.556 with 1 Axes>"
      ]
     },
     "execution_count": 50,
     "metadata": {},
     "output_type": "execute_result"
    }
   ],
   "source": [
    "import numpy as np\n",
    "from qclib.state_preparation import MixedInitialize\n",
    "# Creates the reference state initializer based on the average trash state.\n",
    "reference_initializer = MixedInitialize(trash_state.data.T, classical=True, reset=True)\n",
    "\n",
    "reference_initializer.definition.draw('mpl', scale=0.5, style=\"iqp\")"
   ]
  },
  {
   "cell_type": "markdown",
   "metadata": {},
   "source": [
    "### Draws an example of the complete circuit"
   ]
  },
  {
   "cell_type": "code",
   "execution_count": 51,
   "metadata": {},
   "outputs": [
    {
     "data": {
      "image/png": "[encoded data removed]",
      "text/plain": [
       "<Figure size 561.804x392.972 with 1 Axes>"
      ]
     },
     "execution_count": 51,
     "metadata": {},
     "output_type": "execute_result"
    }
   ],
   "source": [
    "# Draw an example of the circuit.\n",
    "initializer = StatePreparation(typical_state)\n",
    "\n",
    "n_aux_qubits = reference_initializer.num_qubits - len(compressor.trash_qubits)\n",
    "aux_qubits = list(range(n_qubits, n_qubits+n_aux_qubits))\n",
    "\n",
    "circuit = QuantumCircuit(n_qubits + n_aux_qubits)\n",
    "circuit.append(initializer.definition, range(n_qubits))\n",
    "circuit.append(compressor.definition, range(n_qubits))\n",
    "circuit.reset(compressor.trash_qubits)\n",
    "circuit.compose(\n",
    "    reference_initializer.definition,\n",
    "    aux_qubits + compressor.trash_qubits,\n",
    "    inplace=True\n",
    ")\n",
    "circuit.append(decompressor.definition, range(n_qubits))\n",
    "\n",
    "circuit.draw('mpl', scale=0.5, style=\"iqp\")"
   ]
  },
  {
   "cell_type": "markdown",
   "metadata": {},
   "source": [
    "## Optimized experiment:\n",
    "Uses the exact trash state as the reference state.\n",
    "This relies on classical communication, as the trash state must be transmited between Alice and Bob for each execution."
   ]
  },
  {
   "cell_type": "code",
   "execution_count": 52,
   "metadata": {},
   "outputs": [
    {
     "name": "stdout",
     "output_type": "stream",
     "text": [
      "0 - Recovered state fidelity = 0.9466591233218239\n"
     ]
    },
    {
     "data": {
      "image/png": "[encoded data removed]",
      "text/plain": [
       "<Figure size 160x80 with 2 Axes>"
      ]
     },
     "metadata": {},
     "output_type": "display_data"
    },
    {
     "name": "stdout",
     "output_type": "stream",
     "text": [
      "1 - Recovered state fidelity = 0.8379940232171736\n"
     ]
    },
    {
     "data": {
      "image/png": "[encoded data removed]",
      "text/plain": [
       "<Figure size 160x80 with 2 Axes>"
      ]
     },
     "metadata": {},
     "output_type": "display_data"
    },
    {
     "name": "stdout",
     "output_type": "stream",
     "text": [
      "2 - Recovered state fidelity = 0.9440010098214429\n"
     ]
    },
    {
     "data": {
      "image/png": "[encoded data removed]",
      "text/plain": [
       "<Figure size 160x80 with 2 Axes>"
      ]
     },
     "metadata": {},
     "output_type": "display_data"
    },
    {
     "name": "stdout",
     "output_type": "stream",
     "text": [
      "3 - Recovered state fidelity = 0.8895636331899871\n"
     ]
    },
    {
     "data": {
      "image/png": "[encoded data removed]",
      "text/plain": [
       "<Figure size 160x80 with 2 Axes>"
      ]
     },
     "metadata": {},
     "output_type": "display_data"
    },
    {
     "name": "stdout",
     "output_type": "stream",
     "text": [
      "4 - Recovered state fidelity = 0.8339473707978474\n"
     ]
    },
    {
     "data": {
      "image/png": "[encoded data removed]",
      "text/plain": [
       "<Figure size 160x80 with 2 Axes>"
      ]
     },
     "metadata": {},
     "output_type": "display_data"
    },
    {
     "name": "stdout",
     "output_type": "stream",
     "text": [
      "5 - Recovered state fidelity = 0.9012687449104158\n"
     ]
    },
    {
     "data": {
      "image/png": "[encoded data removed]",
      "text/plain": [
       "<Figure size 160x80 with 2 Axes>"
      ]
     },
     "metadata": {},
     "output_type": "display_data"
    },
    {
     "name": "stdout",
     "output_type": "stream",
     "text": [
      "6 - Recovered state fidelity = 0.9079355642399348\n"
     ]
    },
    {
     "data": {
      "image/png": "[encoded data removed]",
      "text/plain": [
       "<Figure size 160x80 with 2 Axes>"
      ]
     },
     "metadata": {},
     "output_type": "display_data"
    },
    {
     "name": "stdout",
     "output_type": "stream",
     "text": [
      "7 - Recovered state fidelity = 0.847844404550011\n"
     ]
    },
    {
     "data": {
      "image/png": "[encoded data removed]",
      "text/plain": [
       "<Figure size 160x80 with 2 Axes>"
      ]
     },
     "metadata": {},
     "output_type": "display_data"
    },
    {
     "name": "stdout",
     "output_type": "stream",
     "text": [
      "8 - Recovered state fidelity = 0.8306131773475278\n"
     ]
    },
    {
     "data": {
      "image/png": "[encoded data removed]",
      "text/plain": [
       "<Figure size 160x80 with 2 Axes>"
      ]
     },
     "metadata": {},
     "output_type": "display_data"
    },
    {
     "name": "stdout",
     "output_type": "stream",
     "text": [
      "9 - Recovered state fidelity = 0.8189982142638467\n"
     ]
    },
    {
     "data": {
      "image/png": "[encoded data removed]",
      "text/plain": [
       "<Figure size 160x80 with 2 Axes>"
      ]
     },
     "metadata": {},
     "output_type": "display_data"
    },
    {
     "name": "stdout",
     "output_type": "stream",
     "text": [
      "10 - Recovered state fidelity = 0.8892322642605515\n"
     ]
    },
    {
     "data": {
      "image/png": "[encoded data removed]",
      "text/plain": [
       "<Figure size 160x80 with 2 Axes>"
      ]
     },
     "metadata": {},
     "output_type": "display_data"
    },
    {
     "name": "stdout",
     "output_type": "stream",
     "text": [
      "11 - Recovered state fidelity = 0.8044419073682754\n"
     ]
    },
    {
     "data": {
      "image/png": "[encoded data removed]",
      "text/plain": [
       "<Figure size 160x80 with 2 Axes>"
      ]
     },
     "metadata": {},
     "output_type": "display_data"
    },
    {
     "name": "stdout",
     "output_type": "stream",
     "text": [
      "12 - Recovered state fidelity = 0.8178479413523151\n"
     ]
    },
    {
     "data": {
      "image/png": "[encoded data removed]",
      "text/plain": [
       "<Figure size 160x80 with 2 Axes>"
      ]
     },
     "metadata": {},
     "output_type": "display_data"
    },
    {
     "name": "stdout",
     "output_type": "stream",
     "text": [
      "13 - Recovered state fidelity = 0.8795580682016574\n"
     ]
    },
    {
     "data": {
      "image/png": "[encoded data removed]",
      "text/plain": [
       "<Figure size 160x80 with 2 Axes>"
      ]
     },
     "metadata": {},
     "output_type": "display_data"
    },
    {
     "name": "stdout",
     "output_type": "stream",
     "text": [
      "14 - Recovered state fidelity = 0.9501786612434188\n"
     ]
    },
    {
     "data": {
      "image/png": "[encoded data removed]",
      "text/plain": [
       "<Figure size 160x80 with 2 Axes>"
      ]
     },
     "metadata": {},
     "output_type": "display_data"
    },
    {
     "name": "stdout",
     "output_type": "stream",
     "text": [
      "15 - Recovered state fidelity = 0.7901034142143109\n"
     ]
    },
    {
     "data": {
      "image/png": "[encoded data removed]",
      "text/plain": [
       "<Figure size 160x80 with 2 Axes>"
      ]
     },
     "metadata": {},
     "output_type": "display_data"
    },
    {
     "name": "stdout",
     "output_type": "stream",
     "text": [
      "16 - Recovered state fidelity = 0.7738211738480822\n"
     ]
    },
    {
     "data": {
      "image/png": "[encoded data removed]",
      "text/plain": [
       "<Figure size 160x80 with 2 Axes>"
      ]
     },
     "metadata": {},
     "output_type": "display_data"
    },
    {
     "name": "stdout",
     "output_type": "stream",
     "text": [
      "17 - Recovered state fidelity = 0.8987623057797335\n"
     ]
    },
    {
     "data": {
      "image/png": "[encoded data removed]",
      "text/plain": [
       "<Figure size 160x80 with 2 Axes>"
      ]
     },
     "metadata": {},
     "output_type": "display_data"
    },
    {
     "name": "stdout",
     "output_type": "stream",
     "text": [
      "18 - Recovered state fidelity = 0.9347369207565205\n"
     ]
    },
    {
     "data": {
      "image/png": "[encoded data removed]",
      "text/plain": [
       "<Figure size 160x80 with 2 Axes>"
      ]
     },
     "metadata": {},
     "output_type": "display_data"
    },
    {
     "name": "stdout",
     "output_type": "stream",
     "text": [
      "19 - Recovered state fidelity = 0.9727609109411081\n"
     ]
    },
    {
     "data": {
      "image/png": "[encoded data removed]",
      "text/plain": [
       "<Figure size 160x80 with 2 Axes>"
      ]
     },
     "metadata": {},
     "output_type": "display_data"
    }
   ],
   "source": [
    "from qiskit.quantum_info import Statevector, partial_trace\n",
    "\n",
    "aux_zero = [1] + [0] * (2**n_aux_qubits-1)\n",
    "\n",
    "fidelities[1].clear()\n",
    "figures[1].clear()\n",
    "\n",
    "# Applies the compression-decompression process to each of the test samples.\n",
    "\n",
    "for i, test_sample in enumerate(np.concatenate([test_samples for _, test_samples in test_input.items()])):\n",
    "    initializer = StatePreparation(test_sample)\n",
    "\n",
    "    circuit = QuantumCircuit(n_qubits + n_aux_qubits)\n",
    "    circuit.append(initializer.definition, range(n_qubits))\n",
    "    circuit.append(compressor.definition, range(n_qubits))\n",
    "\n",
    "    trash_state = partial_trace(Statevector(circuit), aux_qubits + compressor.latent_qubits)\n",
    "    trash_initializer = MixedInitialize(trash_state.data.T, classical=True, reset=True)\n",
    "    \n",
    "    circuit.reset(compressor.trash_qubits)\n",
    "    circuit.compose(\n",
    "        trash_initializer.definition,\n",
    "        aux_qubits + compressor.trash_qubits,\n",
    "        inplace=True\n",
    "    )\n",
    "    circuit.append(decompressor.definition, range(n_qubits))\n",
    "\n",
    "    # There is a sporadic bug in the reset.\n",
    "    # For now, I've decided to run the same piece of code five\n",
    "    # times to avoid it, but at some point it will be necessary\n",
    "    # to investigate the problem.\n",
    "    output_probs = None\n",
    "    fidelity = 0.0\n",
    "    for _ in range(10):\n",
    "        state_vector = Statevector(circuit)\n",
    "        _output_state = state_vector.data\n",
    "        _fidelity = calc_fidelity(np.kron(aux_zero, test_sample), _output_state)\n",
    "        if _fidelity > fidelity:\n",
    "            fidelity = _fidelity\n",
    "            output_probs = _output_state = state_vector.probabilities(range(n_qubits))\n",
    "\n",
    "    fidelities[1].append(fidelity)\n",
    "    figures[1].append([output_probs])\n",
    "    print(i, '- Recovered state fidelity =', fidelity)\n",
    "    plot_digits([np.abs(test_sample)**2, output_probs], n_qubits)"
   ]
  },
  {
   "cell_type": "markdown",
   "metadata": {},
   "source": [
    "***\n",
    "## Summary\n",
    "***"
   ]
  },
  {
   "cell_type": "code",
   "execution_count": 53,
   "metadata": {},
   "outputs": [
    {
     "name": "stdout",
     "output_type": "stream",
     "text": [
      "0 - 0.9205221343622271 0.9466591233218239\n",
      "1 - 0.810112434364102 0.8379940232171736\n",
      "2 - 0.916705777360894 0.9440010098214429\n",
      "3 - 0.8707497611790468 0.8895636331899871\n",
      "4 - 0.7489445921175802 0.8339473707978474\n",
      "5 - 0.8409808824543301 0.9012687449104158\n",
      "6 - 0.8765367123901708 0.9079355642399348\n",
      "7 - 0.7817234146998625 0.847844404550011\n",
      "8 - 0.7853216388614361 0.8306131773475278\n",
      "9 - 0.8141954557217153 0.8189982142638467\n",
      "10 - 0.6751952411300443 0.8892322642605515\n",
      "11 - 0.7375150544553863 0.8044419073682754\n",
      "12 - 0.5208767211617332 0.8178479413523151\n",
      "13 - 0.7099670371186231 0.8795580682016574\n",
      "14 - 0.7000503563796698 0.9501786612434188\n",
      "15 - 0.6852100610981293 0.7901034142143109\n",
      "16 - 0.641858762046758 0.7738211738480822\n",
      "17 - 0.82288963570337 0.8987623057797335\n",
      "18 - 0.8341165928395756 0.9347369207565205\n",
      "19 - 0.557789127794584 0.9727609109411081\n"
     ]
    }
   ],
   "source": [
    "for i, (item1, item2) in enumerate(zip(fidelities[0],fidelities[1])):\n",
    "    print(i, '-', item1, item2)"
   ]
  },
  {
   "cell_type": "code",
   "execution_count": 54,
   "metadata": {},
   "outputs": [
    {
     "name": "stdout",
     "output_type": "stream",
     "text": [
      "0\n"
     ]
    },
    {
     "data": {
      "image/png": "[encoded data removed]",
      "text/plain": [
       "<Figure size 240x80 with 3 Axes>"
      ]
     },
     "metadata": {},
     "output_type": "display_data"
    },
    {
     "name": "stdout",
     "output_type": "stream",
     "text": [
      "1\n"
     ]
    },
    {
     "data": {
      "image/png": "[encoded data removed]",
      "text/plain": [
       "<Figure size 240x80 with 3 Axes>"
      ]
     },
     "metadata": {},
     "output_type": "display_data"
    },
    {
     "name": "stdout",
     "output_type": "stream",
     "text": [
      "2\n"
     ]
    },
    {
     "data": {
      "image/png": "[encoded data removed]",
      "text/plain": [
       "<Figure size 240x80 with 3 Axes>"
      ]
     },
     "metadata": {},
     "output_type": "display_data"
    },
    {
     "name": "stdout",
     "output_type": "stream",
     "text": [
      "3\n"
     ]
    },
    {
     "data": {
      "image/png": "[encoded data removed]",
      "text/plain": [
       "<Figure size 240x80 with 3 Axes>"
      ]
     },
     "metadata": {},
     "output_type": "display_data"
    },
    {
     "name": "stdout",
     "output_type": "stream",
     "text": [
      "4\n"
     ]
    },
    {
     "data": {
      "image/png": "[encoded data removed]",
      "text/plain": [
       "<Figure size 240x80 with 3 Axes>"
      ]
     },
     "metadata": {},
     "output_type": "display_data"
    },
    {
     "name": "stdout",
     "output_type": "stream",
     "text": [
      "5\n"
     ]
    },
    {
     "data": {
      "image/png": "[encoded data removed]",
      "text/plain": [
       "<Figure size 240x80 with 3 Axes>"
      ]
     },
     "metadata": {},
     "output_type": "display_data"
    },
    {
     "name": "stdout",
     "output_type": "stream",
     "text": [
      "6\n"
     ]
    },
    {
     "data": {
      "image/png": "[encoded data removed]",
      "text/plain": [
       "<Figure size 240x80 with 3 Axes>"
      ]
     },
     "metadata": {},
     "output_type": "display_data"
    },
    {
     "name": "stdout",
     "output_type": "stream",
     "text": [
      "7\n"
     ]
    },
    {
     "data": {
      "image/png": "[encoded data removed]",
      "text/plain": [
       "<Figure size 240x80 with 3 Axes>"
      ]
     },
     "metadata": {},
     "output_type": "display_data"
    },
    {
     "name": "stdout",
     "output_type": "stream",
     "text": [
      "8\n"
     ]
    },
    {
     "data": {
      "image/png": "[encoded data removed]",
      "text/plain": [
       "<Figure size 240x80 with 3 Axes>"
      ]
     },
     "metadata": {},
     "output_type": "display_data"
    },
    {
     "name": "stdout",
     "output_type": "stream",
     "text": [
      "9\n"
     ]
    },
    {
     "data": {
      "image/png": "[encoded data removed]",
      "text/plain": [
       "<Figure size 240x80 with 3 Axes>"
      ]
     },
     "metadata": {},
     "output_type": "display_data"
    },
    {
     "name": "stdout",
     "output_type": "stream",
     "text": [
      "10\n"
     ]
    },
    {
     "data": {
      "image/png": "[encoded data removed]",
      "text/plain": [
       "<Figure size 240x80 with 3 Axes>"
      ]
     },
     "metadata": {},
     "output_type": "display_data"
    },
    {
     "name": "stdout",
     "output_type": "stream",
     "text": [
      "11\n"
     ]
    },
    {
     "data": {
      "image/png": "[encoded data removed]",
      "text/plain": [
       "<Figure size 240x80 with 3 Axes>"
      ]
     },
     "metadata": {},
     "output_type": "display_data"
    },
    {
     "name": "stdout",
     "output_type": "stream",
     "text": [
      "12\n"
     ]
    },
    {
     "data": {
      "image/png": "[encoded data removed]",
      "text/plain": [
       "<Figure size 240x80 with 3 Axes>"
      ]
     },
     "metadata": {},
     "output_type": "display_data"
    },
    {
     "name": "stdout",
     "output_type": "stream",
     "text": [
      "13\n"
     ]
    },
    {
     "data": {
      "image/png": "[encoded data removed]",
      "text/plain": [
       "<Figure size 240x80 with 3 Axes>"
      ]
     },
     "metadata": {},
     "output_type": "display_data"
    },
    {
     "name": "stdout",
     "output_type": "stream",
     "text": [
      "14\n"
     ]
    },
    {
     "data": {
      "image/png": "[encoded data removed]",
      "text/plain": [
       "<Figure size 240x80 with 3 Axes>"
      ]
     },
     "metadata": {},
     "output_type": "display_data"
    },
    {
     "name": "stdout",
     "output_type": "stream",
     "text": [
      "15\n"
     ]
    },
    {
     "data": {
      "image/png": "[encoded data removed]",
      "text/plain": [
       "<Figure size 240x80 with 3 Axes>"
      ]
     },
     "metadata": {},
     "output_type": "display_data"
    },
    {
     "name": "stdout",
     "output_type": "stream",
     "text": [
      "16\n"
     ]
    },
    {
     "data": {
      "image/png": "[encoded data removed]",
      "text/plain": [
       "<Figure size 240x80 with 3 Axes>"
      ]
     },
     "metadata": {},
     "output_type": "display_data"
    },
    {
     "name": "stdout",
     "output_type": "stream",
     "text": [
      "17\n"
     ]
    },
    {
     "data": {
      "image/png": "[encoded data removed]",
      "text/plain": [
       "<Figure size 240x80 with 3 Axes>"
      ]
     },
     "metadata": {},
     "output_type": "display_data"
    },
    {
     "name": "stdout",
     "output_type": "stream",
     "text": [
      "18\n"
     ]
    },
    {
     "data": {
      "image/png": "[encoded data removed]",
      "text/plain": [
       "<Figure size 240x80 with 3 Axes>"
      ]
     },
     "metadata": {},
     "output_type": "display_data"
    },
    {
     "name": "stdout",
     "output_type": "stream",
     "text": [
      "19\n"
     ]
    },
    {
     "data": {
      "image/png": "[encoded data removed]",
      "text/plain": [
       "<Figure size 240x80 with 3 Axes>"
      ]
     },
     "metadata": {},
     "output_type": "display_data"
    }
   ],
   "source": [
    "for i, (item1, item2) in enumerate(zip(figures[0],figures[1])):\n",
    "    print(i)\n",
    "    plot_digits([item1[0], item1[1], item2[0]], n_qubits)"
   ]
  },
  {
   "cell_type": "code",
   "execution_count": null,
   "metadata": {},
   "outputs": [],
   "source": []
  }
 ],
 "metadata": {
  "kernelspec": {
   "display_name": "py39",
   "language": "python",
   "name": "python3"
  },
  "language_info": {
   "codemirror_mode": {
    "name": "ipython",
    "version": 3
   },
   "file_extension": ".py",
   "mimetype": "text/x-python",
   "name": "python",
   "nbconvert_exporter": "python",
   "pygments_lexer": "ipython3",
   "version": "3.11.5"
  },
  "orig_nbformat": 4
 },
 "nbformat": 4,
 "nbformat_minor": 2
}

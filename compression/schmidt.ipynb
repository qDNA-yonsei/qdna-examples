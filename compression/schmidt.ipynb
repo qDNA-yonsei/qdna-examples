{
 "cells": [
  {
   "cell_type": "code",
   "execution_count": 28,
   "metadata": {},
   "outputs": [],
   "source": [
    "import numpy as np\n",
    "from itertools import combinations\n",
    "from qiskit import QuantumCircuit\n",
    "from qiskit.circuit.library import StatePreparation\n",
    "from qiskit.quantum_info import Statevector, partial_trace\n",
    "from qclib.state_preparation import MixedInitialize\n",
    "from qclib.machine_learning.datasets import digits\n",
    "from qclib.entanglement import schmidt_decomposition\n",
    "from qclib.state_preparation.util.baa import _split_combinations\n",
    "\n",
    "# If you are not using the `qdna-lib` source code,\n",
    "# comment out the following two lines.\n",
    "import sys\n",
    "sys.path.append('../../qdna-lib/')\n",
    "\n",
    "from qdna.compression import SchmidtCompressor"
   ]
  },
  {
   "cell_type": "code",
   "execution_count": 29,
   "metadata": {},
   "outputs": [],
   "source": [
    "# Dataset load.\n",
    "seed = 42\n",
    "\n",
    "# Here you can choose the dataset classes. For example: [3], [0,1], [1,8], [2,4,7], etc.\n",
    "sample_total, training_input, test_input, class_labels = digits.load(classes=[0,1],\n",
    "                                                                     training_size=160,\n",
    "                                                                     test_size=10,\n",
    "                                                                     random_seed=seed)\n",
    "feature_dim = len(training_input[class_labels[0]][0])\n",
    "n_qubits = int(np.ceil(np.log2(feature_dim)))\n",
    "\n",
    "# Variables to collect data for the summary.\n",
    "fidelities = [[],[],[]]\n",
    "figures = [[],[],[]]"
   ]
  },
  {
   "cell_type": "code",
   "execution_count": 30,
   "metadata": {},
   "outputs": [
    {
     "name": "stdout",
     "output_type": "stream",
     "text": [
      "(160, 64)\n",
      "(160, 64)\n",
      "(10, 64)\n",
      "(10, 64)\n"
     ]
    }
   ],
   "source": [
    "# Prints information on training and test datasets.\n",
    "for _, train_samples in training_input.items():\n",
    "    print(train_samples.shape)\n",
    "for _, test_samples in test_input.items():\n",
    "    print(test_samples.shape)"
   ]
  },
  {
   "cell_type": "code",
   "execution_count": 31,
   "metadata": {},
   "outputs": [],
   "source": [
    "# Utility functions.\n",
    "def calc_fidelity(state1, state2):\n",
    "    bra = np.conj(state1)\n",
    "    ket = state2\n",
    "\n",
    "    return np.power(np.abs(bra.dot(ket)), 2)\n",
    "\n",
    "def plot_digits(vectors, num_data_qubits, text=''):\n",
    "    import matplotlib.pyplot as plt\n",
    "    _dpi = 96\n",
    "    matrix_dim_1 = 2**(int(np.ceil(num_data_qubits/2)))\n",
    "    matrix_dim_2 = 2**(int(np.floor(num_data_qubits/2)))\n",
    "\n",
    "    ncols = len(vectors)\n",
    "    _, axes = plt.subplots(nrows=1, ncols=ncols, figsize=(ncols*10*matrix_dim_1/_dpi, 10*matrix_dim_2/_dpi), dpi=_dpi)\n",
    "    for ax, vector in zip(axes, vectors):\n",
    "        ax.set_axis_off()\n",
    "        image = vector.reshape(matrix_dim_1, matrix_dim_2)\n",
    "        ax.imshow(image, cmap=plt.cm.gray, interpolation='none')\n",
    "\n",
    "    plt.show()"
   ]
  },
  {
   "cell_type": "markdown",
   "metadata": {},
   "source": [
    "***\n",
    "## Experiment main routine\n",
    "***"
   ]
  },
  {
   "cell_type": "code",
   "execution_count": 32,
   "metadata": {},
   "outputs": [],
   "source": [
    "def experiment(test_input, compressor, decompressor, references=None, verbose=1):\n",
    "    # Applies the compression-decompression process to each of the test samples.\n",
    "\n",
    "    fidelities = []\n",
    "    figures = []\n",
    "\n",
    "    # Info about the auxiliary space.\n",
    "    aux_zero = [1]\n",
    "    n_aux_qubits = 0\n",
    "    if references is not None:\n",
    "        len_aux = references[0][0].num_qubits // 2\n",
    "        n_aux_qubits = len_aux * len(references[0])\n",
    "        aux_zero = [1] + [0] * (2**n_aux_qubits-1)\n",
    "        aux_qubits = np.array(range(n_qubits, n_qubits+n_aux_qubits))\n",
    "\n",
    "    # Iterates through all test samples.\n",
    "    for i, test_sample in enumerate(np.concatenate([test_samples for _, test_samples in test_input.items()])):\n",
    "        initializer = StatePreparation(test_sample)\n",
    "\n",
    "        # Circuit on Alice's side.\n",
    "        circuit = QuantumCircuit(n_qubits + n_aux_qubits)\n",
    "        circuit.append(initializer.definition, range(n_qubits))\n",
    "        circuit.append(compressor.definition, range(n_qubits))\n",
    "        circuit.reset(compressor.trash_qubits)\n",
    "\n",
    "        # Circuit on Bob's side.\n",
    "        if references is not None:\n",
    "            trash_qubits = np.array(compressor.trash_qubits)\n",
    "            for j, ref_initializer in enumerate(references[i]):\n",
    "                qubits_idx = list(range(j * len_aux, (j+1) * len_aux))\n",
    "                circuit.compose(\n",
    "                    ref_initializer.definition,\n",
    "                    [*aux_qubits[qubits_idx], *trash_qubits[qubits_idx]],\n",
    "                    inplace=True\n",
    "                )\n",
    "        circuit.append(decompressor.definition, range(n_qubits))\n",
    "\n",
    "        # Measures the recovered state and compares it with the original state.\n",
    "        #\n",
    "        # There is a sporadic bug in the reset.\n",
    "        # For now, I've decided to run the same piece of code five\n",
    "        # times to avoid it, but at some point it will be necessary\n",
    "        # to investigate the problem.\n",
    "        output_probs = None\n",
    "        fidelity = 0.0\n",
    "        for _ in range(10):\n",
    "            state_vector = Statevector(circuit)\n",
    "            _output_state = state_vector.data\n",
    "            _fidelity = calc_fidelity(np.kron(aux_zero, test_sample), _output_state)\n",
    "            if _fidelity > fidelity:\n",
    "                fidelity = _fidelity\n",
    "                output_probs = state_vector.probabilities(range(n_qubits))\n",
    "\n",
    "        # Stores and prints the results.\n",
    "        fidelities.append(fidelity)\n",
    "        figures.append([np.abs(test_sample)**2, output_probs])\n",
    "        if verbose > 0:\n",
    "            print(i, '- Recovered state fidelity =', fidelity)\n",
    "        if verbose > 1:\n",
    "            plot_digits([np.abs(test_sample)**2, output_probs], n_qubits)\n",
    "\n",
    "    return fidelities, figures"
   ]
  },
  {
   "cell_type": "code",
   "execution_count": 33,
   "metadata": {},
   "outputs": [],
   "source": [
    "# Creates an example of the circuit.\n",
    "def complete_circuit(compressor, decompressor, references=None):\n",
    "    \n",
    "    # Random typical state.\n",
    "    typical_state = np.random.rand(2**n_qubits)\n",
    "    typical_state = typical_state / np.linalg.norm(typical_state)\n",
    "\n",
    "    # Typical state initializer.\n",
    "    initializer = StatePreparation(typical_state)\n",
    "\n",
    "    # Info about the auxiliary space.\n",
    "    n_aux_qubits = 0\n",
    "    if references is not None:\n",
    "        len_aux = references[0][0].num_qubits // 2\n",
    "        n_aux_qubits = len_aux * len(references[0])\n",
    "        aux_qubits = np.array(range(n_qubits, n_qubits + n_aux_qubits))\n",
    "\n",
    "    # Creates the quantum circuit.\n",
    "    circuit = QuantumCircuit(n_qubits + n_aux_qubits)\n",
    "\n",
    "    # Circuit on Alice's side.\n",
    "    circuit.append(initializer.definition, range(n_qubits))\n",
    "    circuit.append(compressor.definition, range(n_qubits))\n",
    "    circuit.reset(compressor.trash_qubits)\n",
    "    \n",
    "    # Circuit on Bob's side.\n",
    "    if references is not None:\n",
    "        circuit.barrier()\n",
    "        trash_qubits = np.array(compressor.trash_qubits)\n",
    "        for i, ref_initializer in enumerate(references[0]):\n",
    "            qubits_idx = list(range(i * len_aux, (i+1) * len_aux))\n",
    "            circuit.compose(\n",
    "                ref_initializer.definition,\n",
    "                [*aux_qubits[qubits_idx], *trash_qubits[qubits_idx]],\n",
    "                inplace=True\n",
    "            )\n",
    "        circuit.barrier()\n",
    "    circuit.append(decompressor.definition, range(n_qubits))\n",
    "\n",
    "    return circuit    "
   ]
  },
  {
   "cell_type": "markdown",
   "metadata": {},
   "source": [
    "***\n",
    "## Calculates the typical state\n",
    "***"
   ]
  },
  {
   "cell_type": "code",
   "execution_count": 34,
   "metadata": {},
   "outputs": [
    {
     "name": "stdout",
     "output_type": "stream",
     "text": [
      "(64,)\n"
     ]
    }
   ],
   "source": [
    "# Estimate the centroid.\n",
    "# Simply the average of the training samples (or a random selection of samples).\n",
    "\n",
    "centroid = np.zeros(2**n_qubits)\n",
    "for train_sample in np.concatenate([train_samples for _, train_samples in training_input.items()]):\n",
    "    centroid += train_sample\n",
    "\n",
    "typical_state = centroid / np.linalg.norm(centroid)\n",
    "\n",
    "print(typical_state.shape)"
   ]
  },
  {
   "cell_type": "code",
   "execution_count": 35,
   "metadata": {},
   "outputs": [
    {
     "data": {
      "text/plain": [
       "1.0"
      ]
     },
     "execution_count": 35,
     "metadata": {},
     "output_type": "execute_result"
    }
   ],
   "source": [
    "np.linalg.norm(typical_state)"
   ]
  },
  {
   "cell_type": "markdown",
   "metadata": {},
   "source": [
    "***\n",
    "## Find the best partitioning configuration.\n",
    "***"
   ]
  },
  {
   "cell_type": "code",
   "execution_count": 36,
   "metadata": {},
   "outputs": [
    {
     "name": "stdout",
     "output_type": "stream",
     "text": [
      "trash_qubits (0, 1, 2) entropy 0.2671940046300695\n",
      "trash_qubits (0, 1, 3) entropy 0.9286829198048681\n",
      "trash_qubits (0, 1, 4) entropy 0.9405683918342369\n",
      "trash_qubits (0, 1, 5) entropy 0.4312852752224746\n",
      "trash_qubits (0, 2, 3) entropy 0.9722818204677055\n",
      "trash_qubits (0, 2, 4) entropy 0.9615693411987976\n",
      "trash_qubits (0, 2, 5) entropy 0.43194813154194395\n",
      "trash_qubits (0, 3, 4) entropy 0.3896715799342443\n",
      "trash_qubits (0, 3, 5) entropy 0.9311020598127034\n",
      "trash_qubits (0, 4, 5) entropy 0.948098211267135\n"
     ]
    }
   ],
   "source": [
    "# Defines the number of latent qubits.\n",
    "# `0 < n_latent_qubits < n_qubits`.\n",
    "n_latent_qubits = n_qubits // 2\n",
    "\n",
    "n_trash_qubits = n_qubits - n_latent_qubits\n",
    "\n",
    "def von_neumann_entropy(singular_values):\n",
    "    squared_singular_values = np.power([s for s in singular_values if s >= 1e-17], 2)\n",
    "    return -np.sum(squared_singular_values * np.log(squared_singular_values))\n",
    "\n",
    "# Set `min_entropy` equal to the maximum entropy for the system.\n",
    "min_entropy = von_neumann_entropy(\n",
    "    [1/np.sqrt(2**n_latent_qubits)] * 2**n_latent_qubits\n",
    ")\n",
    "\n",
    "for trash_qubits in _split_combinations(range(n_qubits), n_trash_qubits):\n",
    "    rank, svd_u, singular_values, svd_v = schmidt_decomposition(\n",
    "        typical_state, trash_qubits, rank=0, svd='auto'\n",
    "    )\n",
    "\n",
    "    entropy = von_neumann_entropy(singular_values)\n",
    "\n",
    "    print('trash_qubits', trash_qubits, 'entropy', entropy)\n",
    "    if entropy <= min_entropy:\n",
    "        min_entropy = entropy\n",
    "        latent_qubits = sorted(set(range(n_qubits)).difference(set(trash_qubits)))"
   ]
  },
  {
   "cell_type": "code",
   "execution_count": 37,
   "metadata": {},
   "outputs": [
    {
     "name": "stdout",
     "output_type": "stream",
     "text": [
      "Best channel: [3, 4, 5]\n"
     ]
    }
   ],
   "source": [
    "print('Best channel:', latent_qubits)"
   ]
  },
  {
   "cell_type": "markdown",
   "metadata": {},
   "source": [
    "***\n",
    "## Creates the compressor and the decompressor\n",
    "***"
   ]
  },
  {
   "cell_type": "code",
   "execution_count": 38,
   "metadata": {},
   "outputs": [],
   "source": [
    "# Creates the compressor.\n",
    "\n",
    "# These are the qubits of the quantum channel for data transmission.\n",
    "# It can take on any configuration. For example: [0], [0,1,2,3,4], [1,3,5], etc.\n",
    "# latent_qubits = [3,4,5]\n",
    "\n",
    "compressor = SchmidtCompressor(typical_state, opt_params={'partition': latent_qubits, 'lr': 0})\n",
    "decompressor = compressor.inverse()"
   ]
  },
  {
   "cell_type": "markdown",
   "metadata": {},
   "source": [
    "***\n",
    "## Experiment without optimization\n",
    "***\n",
    "Using |0> as the reference state."
   ]
  },
  {
   "cell_type": "markdown",
   "metadata": {},
   "source": [
    "\n",
    "### Draw an example of the circuit\n"
   ]
  },
  {
   "cell_type": "code",
   "execution_count": 39,
   "metadata": {},
   "outputs": [
    {
     "data": {
      "image/png": "[encoded data removed]",
      "text/plain": [
       "<Figure size 436.387x267.556 with 1 Axes>"
      ]
     },
     "execution_count": 39,
     "metadata": {},
     "output_type": "execute_result"
    }
   ],
   "source": [
    "circuit = complete_circuit(compressor, decompressor)\n",
    "# Draw the circuit diagram.\n",
    "circuit.draw('mpl', scale=0.5, style=\"iqp\")"
   ]
  },
  {
   "cell_type": "markdown",
   "metadata": {},
   "source": [
    "### Run the experiment without optimization"
   ]
  },
  {
   "cell_type": "code",
   "execution_count": 40,
   "metadata": {},
   "outputs": [
    {
     "name": "stdout",
     "output_type": "stream",
     "text": [
      "0 - Recovered state fidelity = 0.9205221343622257\n"
     ]
    },
    {
     "data": {
      "image/png": "[encoded data removed]",
      "text/plain": [
       "<Figure size 160x80 with 2 Axes>"
      ]
     },
     "metadata": {},
     "output_type": "display_data"
    },
    {
     "name": "stdout",
     "output_type": "stream",
     "text": [
      "1 - Recovered state fidelity = 0.8101124343641004\n"
     ]
    },
    {
     "data": {
      "image/png": "[encoded data removed]",
      "text/plain": [
       "<Figure size 160x80 with 2 Axes>"
      ]
     },
     "metadata": {},
     "output_type": "display_data"
    },
    {
     "name": "stdout",
     "output_type": "stream",
     "text": [
      "2 - Recovered state fidelity = 0.9167057773608935\n"
     ]
    },
    {
     "data": {
      "image/png": "[encoded data removed]",
      "text/plain": [
       "<Figure size 160x80 with 2 Axes>"
      ]
     },
     "metadata": {},
     "output_type": "display_data"
    },
    {
     "name": "stdout",
     "output_type": "stream",
     "text": [
      "3 - Recovered state fidelity = 0.8707497611790435\n"
     ]
    },
    {
     "data": {
      "image/png": "[encoded data removed]",
      "text/plain": [
       "<Figure size 160x80 with 2 Axes>"
      ]
     },
     "metadata": {},
     "output_type": "display_data"
    },
    {
     "name": "stdout",
     "output_type": "stream",
     "text": [
      "4 - Recovered state fidelity = 0.7489445921175792\n"
     ]
    },
    {
     "data": {
      "image/png": "[encoded data removed]",
      "text/plain": [
       "<Figure size 160x80 with 2 Axes>"
      ]
     },
     "metadata": {},
     "output_type": "display_data"
    },
    {
     "name": "stdout",
     "output_type": "stream",
     "text": [
      "5 - Recovered state fidelity = 0.8409808824543301\n"
     ]
    },
    {
     "data": {
      "image/png": "[encoded data removed]",
      "text/plain": [
       "<Figure size 160x80 with 2 Axes>"
      ]
     },
     "metadata": {},
     "output_type": "display_data"
    },
    {
     "name": "stdout",
     "output_type": "stream",
     "text": [
      "6 - Recovered state fidelity = 0.8765367123901685\n"
     ]
    },
    {
     "data": {
      "image/png": "[encoded data removed]",
      "text/plain": [
       "<Figure size 160x80 with 2 Axes>"
      ]
     },
     "metadata": {},
     "output_type": "display_data"
    },
    {
     "name": "stdout",
     "output_type": "stream",
     "text": [
      "7 - Recovered state fidelity = 0.7817234146998604\n"
     ]
    },
    {
     "data": {
      "image/png": "[encoded data removed]",
      "text/plain": [
       "<Figure size 160x80 with 2 Axes>"
      ]
     },
     "metadata": {},
     "output_type": "display_data"
    },
    {
     "name": "stdout",
     "output_type": "stream",
     "text": [
      "8 - Recovered state fidelity = 0.7853216388614346\n"
     ]
    },
    {
     "data": {
      "image/png": "[encoded data removed]",
      "text/plain": [
       "<Figure size 160x80 with 2 Axes>"
      ]
     },
     "metadata": {},
     "output_type": "display_data"
    },
    {
     "name": "stdout",
     "output_type": "stream",
     "text": [
      "9 - Recovered state fidelity = 0.814195455721713\n"
     ]
    },
    {
     "data": {
      "image/png": "[encoded data removed]",
      "text/plain": [
       "<Figure size 160x80 with 2 Axes>"
      ]
     },
     "metadata": {},
     "output_type": "display_data"
    },
    {
     "name": "stdout",
     "output_type": "stream",
     "text": [
      "10 - Recovered state fidelity = 0.6751952411300457\n"
     ]
    },
    {
     "data": {
      "image/png": "[encoded data removed]",
      "text/plain": [
       "<Figure size 160x80 with 2 Axes>"
      ]
     },
     "metadata": {},
     "output_type": "display_data"
    },
    {
     "name": "stdout",
     "output_type": "stream",
     "text": [
      "11 - Recovered state fidelity = 0.7375150544553848\n"
     ]
    },
    {
     "data": {
      "image/png": "[encoded data removed]",
      "text/plain": [
       "<Figure size 160x80 with 2 Axes>"
      ]
     },
     "metadata": {},
     "output_type": "display_data"
    },
    {
     "name": "stdout",
     "output_type": "stream",
     "text": [
      "12 - Recovered state fidelity = 0.5208767211617339\n"
     ]
    },
    {
     "data": {
      "image/png": "[encoded data removed]",
      "text/plain": [
       "<Figure size 160x80 with 2 Axes>"
      ]
     },
     "metadata": {},
     "output_type": "display_data"
    },
    {
     "name": "stdout",
     "output_type": "stream",
     "text": [
      "13 - Recovered state fidelity = 0.7099670371186245\n"
     ]
    },
    {
     "data": {
      "image/png": "[encoded data removed]",
      "text/plain": [
       "<Figure size 160x80 with 2 Axes>"
      ]
     },
     "metadata": {},
     "output_type": "display_data"
    },
    {
     "name": "stdout",
     "output_type": "stream",
     "text": [
      "14 - Recovered state fidelity = 0.7000503563796691\n"
     ]
    },
    {
     "data": {
      "image/png": "[encoded data removed]",
      "text/plain": [
       "<Figure size 160x80 with 2 Axes>"
      ]
     },
     "metadata": {},
     "output_type": "display_data"
    },
    {
     "name": "stdout",
     "output_type": "stream",
     "text": [
      "15 - Recovered state fidelity = 0.6852100610981271\n"
     ]
    },
    {
     "data": {
      "image/png": "[encoded data removed]",
      "text/plain": [
       "<Figure size 160x80 with 2 Axes>"
      ]
     },
     "metadata": {},
     "output_type": "display_data"
    },
    {
     "name": "stdout",
     "output_type": "stream",
     "text": [
      "16 - Recovered state fidelity = 0.6418587620467568\n"
     ]
    },
    {
     "data": {
      "image/png": "[encoded data removed]",
      "text/plain": [
       "<Figure size 160x80 with 2 Axes>"
      ]
     },
     "metadata": {},
     "output_type": "display_data"
    },
    {
     "name": "stdout",
     "output_type": "stream",
     "text": [
      "17 - Recovered state fidelity = 0.8228896357033716\n"
     ]
    },
    {
     "data": {
      "image/png": "[encoded data removed]",
      "text/plain": [
       "<Figure size 160x80 with 2 Axes>"
      ]
     },
     "metadata": {},
     "output_type": "display_data"
    },
    {
     "name": "stdout",
     "output_type": "stream",
     "text": [
      "18 - Recovered state fidelity = 0.834116592839574\n"
     ]
    },
    {
     "data": {
      "image/png": "[encoded data removed]",
      "text/plain": [
       "<Figure size 160x80 with 2 Axes>"
      ]
     },
     "metadata": {},
     "output_type": "display_data"
    },
    {
     "name": "stdout",
     "output_type": "stream",
     "text": [
      "19 - Recovered state fidelity = 0.5577891277945837\n"
     ]
    },
    {
     "data": {
      "image/png": "[encoded data removed]",
      "text/plain": [
       "<Figure size 160x80 with 2 Axes>"
      ]
     },
     "metadata": {},
     "output_type": "display_data"
    }
   ],
   "source": [
    "fidelities[0], figures[0] = experiment(\n",
    "    test_input,\n",
    "    compressor,\n",
    "    decompressor,\n",
    "    verbose=2\n",
    ")"
   ]
  },
  {
   "cell_type": "markdown",
   "metadata": {},
   "source": [
    "***\n",
    "## Experiment with optimization 1\n",
    "***\n",
    "This optimization is based on the conservation of entropy.\n",
    "As we are dealing with a pure state (Alice's side), our goal is to produce an initial state of zero entropy (or close to zero) on Bob's side."
   ]
  },
  {
   "cell_type": "markdown",
   "metadata": {},
   "source": [
    "### Constructs the set of gates to initialize the mixed-states."
   ]
  },
  {
   "cell_type": "code",
   "execution_count": 41,
   "metadata": {},
   "outputs": [],
   "source": [
    "# Applies the compression process to each of the train samples,\n",
    "# calculates the correspondent trash state,\n",
    "# and stores the correspondent mixed state initializer gate.\n",
    "\n",
    "references_1 = []\n",
    "for i, test_sample in enumerate(np.concatenate([test_samples for _, test_samples in test_input.items()])):\n",
    "    initializer = StatePreparation(test_sample)\n",
    "\n",
    "    circuit = QuantumCircuit(n_qubits)\n",
    "    circuit.append(initializer.definition, range(n_qubits))\n",
    "    circuit.append(compressor.definition, range(n_qubits))\n",
    "\n",
    "    trash_state = partial_trace(Statevector(circuit), compressor.latent_qubits)\n",
    "    references_1.append([\n",
    "        MixedInitialize(trash_state.data.T, classical=True, reset=True)\n",
    "    ])"
   ]
  },
  {
   "cell_type": "markdown",
   "metadata": {},
   "source": [
    "### Draw an example of the reference state initializer"
   ]
  },
  {
   "cell_type": "code",
   "execution_count": 42,
   "metadata": {},
   "outputs": [
    {
     "data": {
      "image/png": "[encoded data removed]",
      "text/plain": [
       "<Figure size 244.787x267.556 with 1 Axes>"
      ]
     },
     "execution_count": 42,
     "metadata": {},
     "output_type": "execute_result"
    }
   ],
   "source": [
    "references_1[0][0].definition.draw('mpl', scale=0.5, style=\"iqp\")"
   ]
  },
  {
   "cell_type": "markdown",
   "metadata": {},
   "source": [
    "### Draws an example of the complete circuit"
   ]
  },
  {
   "cell_type": "code",
   "execution_count": 43,
   "metadata": {},
   "outputs": [
    {
     "data": {
      "image/png": "[encoded data removed]",
      "text/plain": [
       "<Figure size 687.22x392.972 with 1 Axes>"
      ]
     },
     "execution_count": 43,
     "metadata": {},
     "output_type": "execute_result"
    }
   ],
   "source": [
    "circuit = complete_circuit(compressor, decompressor, references_1)\n",
    "# Draw an example of the circuit.\n",
    "circuit.draw('mpl', scale=0.5, style=\"iqp\")"
   ]
  },
  {
   "cell_type": "markdown",
   "metadata": {},
   "source": [
    "## Optimized experiment:\n",
    "Uses the exact trash state as the reference state.\n",
    "This relies on classical communication, as the trash state must be transmited between Alice and Bob for each execution."
   ]
  },
  {
   "cell_type": "code",
   "execution_count": 44,
   "metadata": {},
   "outputs": [
    {
     "name": "stdout",
     "output_type": "stream",
     "text": [
      "0 - Recovered state fidelity = 0.9488067461406064\n",
      "1 - Recovered state fidelity = 0.8418067356224022\n",
      "2 - Recovered state fidelity = 0.9386105815365916\n",
      "3 - Recovered state fidelity = 0.8928516973874786\n",
      "4 - Recovered state fidelity = 0.8315858467914228\n",
      "5 - Recovered state fidelity = 0.9076674173054692\n",
      "6 - Recovered state fidelity = 0.9153569632155247\n",
      "7 - Recovered state fidelity = 0.8262147416727622\n",
      "8 - Recovered state fidelity = 0.8402005052618523\n",
      "9 - Recovered state fidelity = 0.8226684719306091\n",
      "10 - Recovered state fidelity = 0.8791811384626418\n",
      "11 - Recovered state fidelity = 0.7876358106431824\n",
      "12 - Recovered state fidelity = 0.806226582001115\n",
      "13 - Recovered state fidelity = 0.879144790401407\n",
      "14 - Recovered state fidelity = 0.9468603283144288\n",
      "15 - Recovered state fidelity = 0.7923116635639793\n",
      "16 - Recovered state fidelity = 0.7221433761149022\n",
      "17 - Recovered state fidelity = 0.8816281947458785\n",
      "18 - Recovered state fidelity = 0.9314034530763164\n",
      "19 - Recovered state fidelity = 0.9650106076431113\n"
     ]
    }
   ],
   "source": [
    "fidelities[1], figures[1] = experiment(\n",
    "    test_input,\n",
    "    compressor,\n",
    "    decompressor,\n",
    "    references=references_1,\n",
    "    verbose=1\n",
    ")"
   ]
  },
  {
   "cell_type": "markdown",
   "metadata": {},
   "source": [
    "***\n",
    "## Experiment with optimization 2\n",
    "***\n",
    "This optimization reduces the cost of the previous one by relying on single-qubit tomography. That way, the cost of the tomography is linear on the number of trash qubits, O(n_t), and the cost of the classical communication is also O(n_t)."
   ]
  },
  {
   "cell_type": "markdown",
   "metadata": {},
   "source": [
    "### Constructs the set of gates to initialize the mixed-states."
   ]
  },
  {
   "cell_type": "code",
   "execution_count": 45,
   "metadata": {},
   "outputs": [],
   "source": [
    "references_2 = []\n",
    "\n",
    "for i, test_sample in enumerate(np.concatenate([test_samples for _, test_samples in test_input.items()])):\n",
    "    initializer = StatePreparation(test_sample)\n",
    "\n",
    "    circuit = QuantumCircuit(n_qubits)\n",
    "    circuit.append(initializer.definition, range(n_qubits))\n",
    "    circuit.append(compressor.definition, range(n_qubits))\n",
    "\n",
    "    single_qubit_initializers = []\n",
    "    for trash_qubit in compressor.trash_qubits:\n",
    "        trash_qubits = list(set(compressor.trash_qubits) - set([trash_qubit]))\n",
    "        trash_state = partial_trace(Statevector(circuit), trash_qubits + compressor.latent_qubits)\n",
    "        single_qubit_initializers.append(\n",
    "            MixedInitialize(trash_state.data.T, classical=True, reset=True)\n",
    "        )\n",
    "\n",
    "    references_2.append(single_qubit_initializers)"
   ]
  },
  {
   "cell_type": "markdown",
   "metadata": {},
   "source": [
    "### Draw an example of the reference state initializer"
   ]
  },
  {
   "cell_type": "code",
   "execution_count": 46,
   "metadata": {},
   "outputs": [
    {
     "data": {
      "image/png": "[encoded data removed]",
      "text/plain": [
       "<Figure size 235.571x100.333 with 1 Axes>"
      ]
     },
     "execution_count": 46,
     "metadata": {},
     "output_type": "execute_result"
    }
   ],
   "source": [
    "references_2[0][0].definition.draw('mpl', scale=0.5, style=\"iqp\")"
   ]
  },
  {
   "cell_type": "markdown",
   "metadata": {},
   "source": [
    "### Draw an example of the complete circuit"
   ]
  },
  {
   "cell_type": "code",
   "execution_count": 47,
   "metadata": {},
   "outputs": [
    {
     "data": {
      "image/png": "[encoded data removed]",
      "text/plain": [
       "<Figure size 938.054x392.972 with 1 Axes>"
      ]
     },
     "execution_count": 47,
     "metadata": {},
     "output_type": "execute_result"
    }
   ],
   "source": [
    "circuit = complete_circuit(compressor, decompressor, references_2)\n",
    "# Draw an example of the circuit.\n",
    "circuit.draw('mpl', scale=0.5, style=\"iqp\")"
   ]
  },
  {
   "cell_type": "markdown",
   "metadata": {},
   "source": [
    "## Optimized experiment:\n",
    "Uses the single-qubit trash states as the reference state.\n",
    "This relies on classical communication, as the trash state must be transmited between Alice and Bob for each execution, but the cost is only O(n_t)."
   ]
  },
  {
   "cell_type": "code",
   "execution_count": 48,
   "metadata": {},
   "outputs": [
    {
     "name": "stdout",
     "output_type": "stream",
     "text": [
      "0 - Recovered state fidelity = 0.9441165015201232\n",
      "1 - Recovered state fidelity = 0.8395934537419419\n",
      "2 - Recovered state fidelity = 0.9368949589792828\n",
      "3 - Recovered state fidelity = 0.8913682988497345\n",
      "4 - Recovered state fidelity = 0.8157897743185247\n",
      "5 - Recovered state fidelity = 0.9004532743521587\n",
      "6 - Recovered state fidelity = 0.9128572982806876\n",
      "7 - Recovered state fidelity = 0.8110119936687804\n",
      "8 - Recovered state fidelity = 0.8224669938307401\n",
      "9 - Recovered state fidelity = 0.8209232072924306\n",
      "10 - Recovered state fidelity = 0.7311922046480941\n",
      "11 - Recovered state fidelity = 0.7565602259126003\n",
      "12 - Recovered state fidelity = 0.6678443830122908\n",
      "13 - Recovered state fidelity = 0.7720841606720775\n",
      "14 - Recovered state fidelity = 0.9298192239437724\n",
      "15 - Recovered state fidelity = 0.7228720237152233\n",
      "16 - Recovered state fidelity = 0.6791769919384526\n",
      "17 - Recovered state fidelity = 0.8551870345188269\n",
      "18 - Recovered state fidelity = 0.895714172143219\n",
      "19 - Recovered state fidelity = 0.9189144773727432\n"
     ]
    }
   ],
   "source": [
    "fidelities[2], figures[2] = experiment(\n",
    "    test_input,\n",
    "    compressor,\n",
    "    decompressor,\n",
    "    references=references_2,\n",
    "    verbose=1\n",
    ")"
   ]
  },
  {
   "cell_type": "markdown",
   "metadata": {},
   "source": [
    "***\n",
    "## Summary\n",
    "***"
   ]
  },
  {
   "cell_type": "code",
   "execution_count": 49,
   "metadata": {},
   "outputs": [
    {
     "name": "stdout",
     "output_type": "stream",
     "text": [
      "0 - 0.9205221343622257 0.9488067461406064 0.9441165015201232\n",
      "1 - 0.8101124343641004 0.8418067356224022 0.8395934537419419\n",
      "2 - 0.9167057773608935 0.9386105815365916 0.9368949589792828\n",
      "3 - 0.8707497611790435 0.8928516973874786 0.8913682988497345\n",
      "4 - 0.7489445921175792 0.8315858467914228 0.8157897743185247\n",
      "5 - 0.8409808824543301 0.9076674173054692 0.9004532743521587\n",
      "6 - 0.8765367123901685 0.9153569632155247 0.9128572982806876\n",
      "7 - 0.7817234146998604 0.8262147416727622 0.8110119936687804\n",
      "8 - 0.7853216388614346 0.8402005052618523 0.8224669938307401\n",
      "9 - 0.814195455721713 0.8226684719306091 0.8209232072924306\n",
      "10 - 0.6751952411300457 0.8791811384626418 0.7311922046480941\n",
      "11 - 0.7375150544553848 0.7876358106431824 0.7565602259126003\n",
      "12 - 0.5208767211617339 0.806226582001115 0.6678443830122908\n",
      "13 - 0.7099670371186245 0.879144790401407 0.7720841606720775\n",
      "14 - 0.7000503563796691 0.9468603283144288 0.9298192239437724\n",
      "15 - 0.6852100610981271 0.7923116635639793 0.7228720237152233\n",
      "16 - 0.6418587620467568 0.7221433761149022 0.6791769919384526\n",
      "17 - 0.8228896357033716 0.8816281947458785 0.8551870345188269\n",
      "18 - 0.834116592839574 0.9314034530763164 0.895714172143219\n",
      "19 - 0.5577891277945837 0.9650106076431113 0.9189144773727432\n"
     ]
    }
   ],
   "source": [
    "for i, (item1, item2, item3) in enumerate(zip(fidelities[0],fidelities[1],fidelities[2])):\n",
    "    print(i, '-', item1, item2, item3)"
   ]
  },
  {
   "cell_type": "code",
   "execution_count": 50,
   "metadata": {},
   "outputs": [
    {
     "name": "stdout",
     "output_type": "stream",
     "text": [
      "0\n"
     ]
    },
    {
     "data": {
      "image/png": "[encoded data removed]",
      "text/plain": [
       "<Figure size 320x80 with 4 Axes>"
      ]
     },
     "metadata": {},
     "output_type": "display_data"
    },
    {
     "name": "stdout",
     "output_type": "stream",
     "text": [
      "1\n"
     ]
    },
    {
     "data": {
      "image/png": "[encoded data removed]",
      "text/plain": [
       "<Figure size 320x80 with 4 Axes>"
      ]
     },
     "metadata": {},
     "output_type": "display_data"
    },
    {
     "name": "stdout",
     "output_type": "stream",
     "text": [
      "2\n"
     ]
    },
    {
     "data": {
      "image/png": "[encoded data removed]",
      "text/plain": [
       "<Figure size 320x80 with 4 Axes>"
      ]
     },
     "metadata": {},
     "output_type": "display_data"
    },
    {
     "name": "stdout",
     "output_type": "stream",
     "text": [
      "3\n"
     ]
    },
    {
     "data": {
      "image/png": "[encoded data removed]",
      "text/plain": [
       "<Figure size 320x80 with 4 Axes>"
      ]
     },
     "metadata": {},
     "output_type": "display_data"
    },
    {
     "name": "stdout",
     "output_type": "stream",
     "text": [
      "4\n"
     ]
    },
    {
     "data": {
      "image/png": "[encoded data removed]",
      "text/plain": [
       "<Figure size 320x80 with 4 Axes>"
      ]
     },
     "metadata": {},
     "output_type": "display_data"
    },
    {
     "name": "stdout",
     "output_type": "stream",
     "text": [
      "5\n"
     ]
    },
    {
     "data": {
      "image/png": "[encoded data removed]",
      "text/plain": [
       "<Figure size 320x80 with 4 Axes>"
      ]
     },
     "metadata": {},
     "output_type": "display_data"
    },
    {
     "name": "stdout",
     "output_type": "stream",
     "text": [
      "6\n"
     ]
    },
    {
     "data": {
      "image/png": "[encoded data removed]",
      "text/plain": [
       "<Figure size 320x80 with 4 Axes>"
      ]
     },
     "metadata": {},
     "output_type": "display_data"
    },
    {
     "name": "stdout",
     "output_type": "stream",
     "text": [
      "7\n"
     ]
    },
    {
     "data": {
      "image/png": "[encoded data removed]",
      "text/plain": [
       "<Figure size 320x80 with 4 Axes>"
      ]
     },
     "metadata": {},
     "output_type": "display_data"
    },
    {
     "name": "stdout",
     "output_type": "stream",
     "text": [
      "8\n"
     ]
    },
    {
     "data": {
      "image/png": "[encoded data removed]",
      "text/plain": [
       "<Figure size 320x80 with 4 Axes>"
      ]
     },
     "metadata": {},
     "output_type": "display_data"
    },
    {
     "name": "stdout",
     "output_type": "stream",
     "text": [
      "9\n"
     ]
    },
    {
     "data": {
      "image/png": "[encoded data removed]",
      "text/plain": [
       "<Figure size 320x80 with 4 Axes>"
      ]
     },
     "metadata": {},
     "output_type": "display_data"
    },
    {
     "name": "stdout",
     "output_type": "stream",
     "text": [
      "10\n"
     ]
    },
    {
     "data": {
      "image/png": "[encoded data removed]",
      "text/plain": [
       "<Figure size 320x80 with 4 Axes>"
      ]
     },
     "metadata": {},
     "output_type": "display_data"
    },
    {
     "name": "stdout",
     "output_type": "stream",
     "text": [
      "11\n"
     ]
    },
    {
     "data": {
      "image/png": "[encoded data removed]",
      "text/plain": [
       "<Figure size 320x80 with 4 Axes>"
      ]
     },
     "metadata": {},
     "output_type": "display_data"
    },
    {
     "name": "stdout",
     "output_type": "stream",
     "text": [
      "12\n"
     ]
    },
    {
     "data": {
      "image/png": "[encoded data removed]",
      "text/plain": [
       "<Figure size 320x80 with 4 Axes>"
      ]
     },
     "metadata": {},
     "output_type": "display_data"
    },
    {
     "name": "stdout",
     "output_type": "stream",
     "text": [
      "13\n"
     ]
    },
    {
     "data": {
      "image/png": "[encoded data removed]",
      "text/plain": [
       "<Figure size 320x80 with 4 Axes>"
      ]
     },
     "metadata": {},
     "output_type": "display_data"
    },
    {
     "name": "stdout",
     "output_type": "stream",
     "text": [
      "14\n"
     ]
    },
    {
     "data": {
      "image/png": "[encoded data removed]",
      "text/plain": [
       "<Figure size 320x80 with 4 Axes>"
      ]
     },
     "metadata": {},
     "output_type": "display_data"
    },
    {
     "name": "stdout",
     "output_type": "stream",
     "text": [
      "15\n"
     ]
    },
    {
     "data": {
      "image/png": "[encoded data removed]",
      "text/plain": [
       "<Figure size 320x80 with 4 Axes>"
      ]
     },
     "metadata": {},
     "output_type": "display_data"
    },
    {
     "name": "stdout",
     "output_type": "stream",
     "text": [
      "16\n"
     ]
    },
    {
     "data": {
      "image/png": "[encoded data removed]",
      "text/plain": [
       "<Figure size 320x80 with 4 Axes>"
      ]
     },
     "metadata": {},
     "output_type": "display_data"
    },
    {
     "name": "stdout",
     "output_type": "stream",
     "text": [
      "17\n"
     ]
    },
    {
     "data": {
      "image/png": "[encoded data removed]",
      "text/plain": [
       "<Figure size 320x80 with 4 Axes>"
      ]
     },
     "metadata": {},
     "output_type": "display_data"
    },
    {
     "name": "stdout",
     "output_type": "stream",
     "text": [
      "18\n"
     ]
    },
    {
     "data": {
      "image/png": "[encoded data removed]",
      "text/plain": [
       "<Figure size 320x80 with 4 Axes>"
      ]
     },
     "metadata": {},
     "output_type": "display_data"
    },
    {
     "name": "stdout",
     "output_type": "stream",
     "text": [
      "19\n"
     ]
    },
    {
     "data": {
      "image/png": "[encoded data removed]",
      "text/plain": [
       "<Figure size 320x80 with 4 Axes>"
      ]
     },
     "metadata": {},
     "output_type": "display_data"
    }
   ],
   "source": [
    "for i, (item1, item2, item3) in enumerate(zip(figures[0],figures[1],figures[2])):\n",
    "    print(i)\n",
    "    plot_digits([item1[0], item1[1], item2[1], item3[1]], n_qubits)"
   ]
  },
  {
   "cell_type": "code",
   "execution_count": null,
   "metadata": {},
   "outputs": [],
   "source": []
  }
 ],
 "metadata": {
  "kernelspec": {
   "display_name": "py39",
   "language": "python",
   "name": "python3"
  },
  "language_info": {
   "codemirror_mode": {
    "name": "ipython",
    "version": 3
   },
   "file_extension": ".py",
   "mimetype": "text/x-python",
   "name": "python",
   "nbconvert_exporter": "python",
   "pygments_lexer": "ipython3",
   "version": "3.11.5"
  },
  "orig_nbformat": 4
 },
 "nbformat": 4,
 "nbformat_minor": 2
}

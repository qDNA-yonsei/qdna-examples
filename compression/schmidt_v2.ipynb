{
 "cells": [
  {
   "cell_type": "code",
   "execution_count": 2,
   "metadata": {},
   "outputs": [],
   "source": [
    "import numpy as np\n",
    "import networkx as nx\n",
    "from qiskit import QuantumCircuit, ClassicalRegister\n",
    "from qiskit.quantum_info import Statevector, DensityMatrix, partial_trace, state_fidelity\n",
    "from qiskit_experiments.library import StateTomography\n",
    "from qclib.state_preparation import MixedInitialize, BaaLowRankInitialize\n",
    "from qclib.state_preparation.util.baa import adaptive_approximation\n",
    "from qclib.machine_learning.datasets import digits\n",
    "from qclib.entanglement import schmidt_decomposition\n",
    "from qclib.state_preparation.util.baa import _split_combinations\n",
    "from qclib.util import get_cnot_count\n",
    "\n",
    "# If you are not using the `qdna-lib` source code,\n",
    "# comment out the following two lines.\n",
    "import sys\n",
    "sys.path.append('../../qdna-lib/')\n",
    "\n",
    "from qdna.compression import SchmidtCompressor\n",
    "from qdna.quantum_info import correlation_graph, \\\n",
    "                              concurrence, \\\n",
    "                              mutual_information, \\\n",
    "                              von_neumann_entropy, \\\n",
    "                              correlation\n"
   ]
  },
  {
   "cell_type": "markdown",
   "metadata": {},
   "source": [
    "***\n",
    "## Configuration\n",
    "***"
   ]
  },
  {
   "cell_type": "code",
   "execution_count": 3,
   "metadata": {},
   "outputs": [],
   "source": [
    "shots = 1024 * 8\n",
    "backend_type = 'local' # local, local_noisy, cloud, cloud_device\n",
    "calc_type = 'ideal' # ideal, tomography, quasi-probs\n",
    "classes = [1]\n",
    "training_size = 160\n",
    "test_size = 10\n",
    "n_qubits = 6\n",
    "low_rank = 0\n",
    "max_fidelity_loss = 0.0\n",
    "baa_strategy = 'brute_force'\n",
    "use_low_rank = False\n",
    "partitioning_method = 'brute_force' # brute_force, graph\n",
    "info_measure = mutual_information # concurrence, mutual_information, von_neumann_entropy"
   ]
  },
  {
   "cell_type": "markdown",
   "metadata": {},
   "source": [
    "***\n",
    "## Backend configuration\n",
    "***"
   ]
  },
  {
   "cell_type": "code",
   "execution_count": 4,
   "metadata": {},
   "outputs": [],
   "source": [
    "noise_model = None\n",
    "coupling_map = None\n",
    "basis_gates = None\n",
    "\n",
    "if backend_type == 'cloud':\n",
    "    # Cloud noiseless simulation\n",
    "    from qiskit_ibm_provider import IBMProvider\n",
    "    from qiskit.primitives import BackendSampler\n",
    "\n",
    "    provider = IBMProvider(instance='ibm-q/open/main')\n",
    "    backend  = provider.get_backend('ibmq_qasm_simulator')\n",
    "    sampler = BackendSampler(\n",
    "        backend=backend,\n",
    "        options = {\n",
    "            'shots' : shots\n",
    "        }\n",
    "    )\n",
    "\n",
    "elif backend_type == 'cloud_device':\n",
    "    # Cloud device\n",
    "    from qiskit_ibm_provider import IBMProvider\n",
    "    from qiskit.primitives import BackendSampler\n",
    "\n",
    "    provider = IBMProvider(instance='ibm-q/open/main')\n",
    "    backend  = provider.get_backend('ibm_osaka')\n",
    "    sampler = BackendSampler(\n",
    "        backend=backend,\n",
    "        options = {\n",
    "            'shots' : shots\n",
    "        }\n",
    "    )\n",
    "\n",
    "elif backend_type == 'local_noisy':\n",
    "    # Local noisy simulation\n",
    "    from qiskit_aer import AerSimulator\n",
    "    from qiskit.primitives import BackendSampler\n",
    "    from qiskit.providers.fake_provider import FakeMumbai\n",
    "    \n",
    "    noisy_backend = FakeMumbai()\n",
    "    \n",
    "    backend = AerSimulator.from_backend(noisy_backend)\n",
    "    sampler = BackendSampler(\n",
    "        backend=backend,\n",
    "        options = {\n",
    "            'shots' : shots\n",
    "        }\n",
    "    )\n",
    "\n",
    "else:\n",
    "    # Local noiseless simulation\n",
    "    from qiskit_aer import AerSimulator\n",
    "    from qiskit.primitives import BackendSampler\n",
    "    backend = AerSimulator(shots=shots)\n",
    "    sampler = BackendSampler(\n",
    "        backend=backend,\n",
    "        options = {\n",
    "            'shots' : shots\n",
    "        }\n",
    "    )"
   ]
  },
  {
   "cell_type": "markdown",
   "metadata": {},
   "source": [
    "***\n",
    "## Dataset\n",
    "***"
   ]
  },
  {
   "cell_type": "code",
   "execution_count": 5,
   "metadata": {},
   "outputs": [],
   "source": [
    "# Dataset load.\n",
    "seed = 42\n",
    "\n",
    "# Here you can choose the dataset classes. For example: [3], [0,1], [1,8], [2,4,7], etc.\n",
    "sample_total, training_input, test_input, class_labels = digits.load(classes=classes,\n",
    "                                                                     training_size=training_size,\n",
    "                                                                     test_size=test_size,\n",
    "                                                                     random_seed=seed,\n",
    "                                                                     features=2**n_qubits)\n",
    "feature_dim = len(training_input[class_labels[0]][0])\n",
    "n_qubits = int(np.ceil(np.log2(feature_dim)))\n",
    "\n",
    "# Variables to collect data for the summary.\n",
    "fidelities = [[],[],[]]\n",
    "figures = [[],[],[]]"
   ]
  },
  {
   "cell_type": "code",
   "execution_count": 6,
   "metadata": {},
   "outputs": [
    {
     "name": "stdout",
     "output_type": "stream",
     "text": [
      "(160, 64)\n",
      "(10, 64)\n"
     ]
    }
   ],
   "source": [
    "# Prints information on training and test datasets.\n",
    "for _, train_samples in training_input.items():\n",
    "    print(train_samples.shape)\n",
    "for _, test_samples in test_input.items():\n",
    "    print(test_samples.shape)"
   ]
  },
  {
   "cell_type": "markdown",
   "metadata": {},
   "source": [
    "***\n",
    "## Experiment main routine\n",
    "***"
   ]
  },
  {
   "cell_type": "code",
   "execution_count": 7,
   "metadata": {},
   "outputs": [],
   "source": [
    "def calc_fidelity(state1, state2):\n",
    "    bra = np.conj(state1)\n",
    "    ket = state2\n",
    "\n",
    "    return np.power(np.abs(bra.dot(ket)), 2)\n",
    "\n",
    "def measurement(circuit, n_qubits, classical_register, backend, shots):\n",
    "    \"\"\" run circuit and return measurements \"\"\"\n",
    "    circuit.measure(range(n_qubits), classical_register)\n",
    "\n",
    "    result = sampler.run(circuit).result()\n",
    "\n",
    "    counts = result.quasi_dists[0]\n",
    "\n",
    "    counts2 = {}\n",
    "    for k in range(2 ** n_qubits):\n",
    "        if k in counts:\n",
    "            counts2[k] = counts[k]\n",
    "        else:\n",
    "            counts2[k] = 0.0\n",
    "\n",
    "    return np.array([value for (_, value) in counts2.items()])\n",
    "\n",
    "def plot_digits(vectors, num_data_qubits, text=''):\n",
    "    import matplotlib.pyplot as plt\n",
    "    _dpi = 96\n",
    "    matrix_dim_1 = 2**(int(np.ceil(num_data_qubits/2)))\n",
    "    matrix_dim_2 = 2**(int(np.floor(num_data_qubits/2)))\n",
    "\n",
    "    ncols = len(vectors)\n",
    "    _, axes = plt.subplots(\n",
    "        nrows=1,\n",
    "        ncols=ncols,\n",
    "        figsize=(\n",
    "            ncols*10*matrix_dim_1/_dpi,\n",
    "            10*matrix_dim_2/_dpi\n",
    "        ),\n",
    "        dpi=_dpi\n",
    "    )\n",
    "    for ax, vector in zip(axes, vectors):\n",
    "        ax.set_axis_off()\n",
    "        image = vector.reshape(matrix_dim_1, matrix_dim_2)\n",
    "        ax.imshow(image, cmap=plt.cm.gray, interpolation='none')\n",
    "\n",
    "    plt.show()\n",
    "\n",
    "def calc_probabilities(circuit, test_sample):\n",
    "    \n",
    "    if calc_type == 'quasi-probs':\n",
    "        c_reg = ClassicalRegister(n_qubits)\n",
    "        circuit.add_register(c_reg)\n",
    "        output_probs = measurement(circuit, n_qubits, c_reg, backend, shots)\n",
    "        fidelity = calc_fidelity(test_sample, np.sqrt(output_probs))\n",
    "\n",
    "    elif calc_type == 'tomography':\n",
    "        st = StateTomography(\n",
    "            circuit,\n",
    "            measurement_indices=range(n_qubits)\n",
    "        )\n",
    "        st_data = st.run(\n",
    "            backend,\n",
    "            basis_gates=basis_gates,\n",
    "            coupling_map=coupling_map,\n",
    "            shots=shots\n",
    "        ).block_for_results()\n",
    "        state = st_data.analysis_results(\"state\").value\n",
    "        rho = DensityMatrix(state)\n",
    "        sigma = DensityMatrix(test_sample, dims=2**n_qubits)\n",
    "        fidelity = state_fidelity(sigma, rho)\n",
    "        output_probs = rho.probabilities(range(n_qubits))\n",
    "\n",
    "    else:\n",
    "        # calc_type == 'ideal'\n",
    "        rho = partial_trace(DensityMatrix(circuit), range(n_qubits, circuit.num_qubits))\n",
    "        sigma = DensityMatrix(test_sample, dims=2**n_qubits)\n",
    "        fidelity = state_fidelity(sigma, rho)\n",
    "        output_probs = rho.probabilities()\n",
    "\n",
    "    return output_probs, fidelity\n",
    "\n",
    "# Creates an example of the circuit.\n",
    "def complete_circuit(initializer, compressor, decompressor, reference=None):\n",
    "\n",
    "    # Info about the auxiliary space.\n",
    "    len_aux = 0\n",
    "    len_reference = 0\n",
    "    if reference is not None:\n",
    "        len_aux = reference[0].num_qubits // 2\n",
    "        len_reference = len(reference)\n",
    "\n",
    "    n_trash_qubits = len(compressor.trash_qubits)\n",
    "    n_aux_qubits = len_aux * len_reference\n",
    "\n",
    "    # Creates the quantum circuit.\n",
    "    circuit = QuantumCircuit(n_qubits + n_trash_qubits + n_aux_qubits)\n",
    "\n",
    "    latent_qubits = np.array(compressor.latent_qubits)\n",
    "    trash_qubits = np.array(range(n_qubits, n_qubits+n_trash_qubits))\n",
    "    aux_qubits = np.array(range(n_qubits+n_trash_qubits, n_qubits + n_trash_qubits + n_aux_qubits))\n",
    "\n",
    "    # Circuit on Alice's side.\n",
    "    alice_register = np.array([None] * compressor.num_qubits)\n",
    "    alice_register[compressor.trash_qubits] = trash_qubits[:]\n",
    "    alice_register[compressor.latent_qubits] = latent_qubits[:]\n",
    "\n",
    "    circuit.append(initializer.definition, [*alice_register])\n",
    "    circuit.append(compressor.definition, [*alice_register])\n",
    "\n",
    "    # Circuit on Bob's side.\n",
    "    bob_register = list(range(n_qubits))\n",
    "\n",
    "    if reference is not None:\n",
    "        circuit.barrier()\n",
    "        bob_trash_qubits = np.array(decompressor.trash_qubits)\n",
    "        for i, ref_initializer in enumerate(reference):\n",
    "            qubits_idx = list(range(i * len_aux, (i+1) * len_aux))\n",
    "            circuit.compose(\n",
    "                ref_initializer.definition,\n",
    "                [*aux_qubits[qubits_idx], *bob_trash_qubits[qubits_idx]],\n",
    "                inplace=True\n",
    "            )\n",
    "        circuit.barrier()\n",
    "    circuit.append(decompressor.definition, bob_register)\n",
    "\n",
    "    return circuit  \n",
    "\n",
    "def experiment(test_input, compressor, decompressor, references=None, verbose=1):\n",
    "    # Applies the compression-decompression process to each of the test samples.\n",
    "\n",
    "    fidelities = []\n",
    "    figures = []\n",
    "\n",
    "    # Iterates through all test samples.\n",
    "    for i, test_sample in enumerate(np.concatenate([test_samples for _, test_samples in test_input.items()])):\n",
    "        reference = None\n",
    "        if references is not None:\n",
    "            reference = references[i]\n",
    "\n",
    "        # initializer = StatePreparation(test_sample)\n",
    "        initializer = BaaLowRankInitialize(\n",
    "            test_sample,\n",
    "            opt_params={\n",
    "                'max_fidelity_loss': max_fidelity_loss,\n",
    "                'strategy': baa_strategy,\n",
    "                'use_low_rank': use_low_rank\n",
    "            }\n",
    "        )\n",
    "        circuit = complete_circuit(initializer, compressor, decompressor, reference=reference)\n",
    "\n",
    "        output_probs, fidelity = calc_probabilities(circuit, test_sample)\n",
    "\n",
    "        # Calculates the approximate state vector\n",
    "        node = adaptive_approximation(\n",
    "            test_sample,\n",
    "            max_fidelity_loss=max_fidelity_loss,\n",
    "            strategy=baa_strategy,\n",
    "            use_low_rank=use_low_rank\n",
    "        )\n",
    "\n",
    "        # Stores and prints the results.\n",
    "        fidelities.append(fidelity)\n",
    "        figures.append([np.abs(test_sample)**2, np.abs(node.state_vector())**2, output_probs])\n",
    "        if verbose > 0:\n",
    "            print(i, '- Recovered state fidelity =', fidelity)\n",
    "        if verbose > 1:\n",
    "            plot_digits([np.abs(test_sample)**2, np.abs(node.state_vector())**2, output_probs], n_qubits)\n",
    "\n",
    "    return fidelities, figures"
   ]
  },
  {
   "cell_type": "markdown",
   "metadata": {},
   "source": [
    "***\n",
    "## Calculates the typical state\n",
    "***"
   ]
  },
  {
   "cell_type": "code",
   "execution_count": 8,
   "metadata": {},
   "outputs": [
    {
     "name": "stdout",
     "output_type": "stream",
     "text": [
      "(64,)\n"
     ]
    }
   ],
   "source": [
    "# Estimate the centroid.\n",
    "# Simply the average of the training samples (or a random selection of samples).\n",
    "\n",
    "centroid = np.zeros(2**n_qubits)\n",
    "for train_sample in np.concatenate([train_samples for _, train_samples in training_input.items()]):\n",
    "    # Calculates the approximate state vector\n",
    "    node = adaptive_approximation(\n",
    "        train_sample,\n",
    "        max_fidelity_loss=max_fidelity_loss,\n",
    "        strategy=baa_strategy,\n",
    "        use_low_rank=use_low_rank\n",
    "    )\n",
    "    centroid += node.state_vector()\n",
    "\n",
    "typical_state = centroid / np.linalg.norm(centroid)\n",
    "\n",
    "print(typical_state.shape)"
   ]
  },
  {
   "cell_type": "markdown",
   "metadata": {},
   "source": [
    "***\n",
    "## Find the best partitioning configuration.\n",
    "***"
   ]
  },
  {
   "cell_type": "code",
   "execution_count": 9,
   "metadata": {},
   "outputs": [],
   "source": [
    "# Defines the number of latent qubits.\n",
    "# `0 < n_latent_partition < n_qubits`.\n",
    "n_latent_partition = n_qubits // 2\n",
    "n_trash_partition = n_qubits - n_latent_partition"
   ]
  },
  {
   "cell_type": "code",
   "execution_count": 10,
   "metadata": {},
   "outputs": [
    {
     "name": "stdout",
     "output_type": "stream",
     "text": [
      "partition (0, 1, 2) entropy 0.0974419207230959\n",
      "partition (0, 1, 3) entropy 0.7685015170928456\n",
      "partition (0, 1, 4) entropy 0.7618424639605473\n",
      "partition (0, 1, 5) entropy 0.4330338972803513\n",
      "partition (0, 2, 3) entropy 0.782412596575376\n",
      "partition (0, 2, 4) entropy 0.7804374454995948\n",
      "partition (0, 2, 5) entropy 0.4581764477883932\n",
      "partition (0, 3, 4) entropy 0.4609236925843123\n",
      "partition (0, 3, 5) entropy 0.7806211355882298\n",
      "partition (0, 4, 5) entropy 0.7846569696506073\n",
      "min_entropy 0.0974419207230959\n"
     ]
    }
   ],
   "source": [
    "if partitioning_method == 'graph':\n",
    "    graph = correlation_graph(typical_state, n_qubits, max_set_size=1, correlation_measure=info_measure)\n",
    "    nodes = list(graph.nodes())\n",
    "\n",
    "    # Off-the-shelf algorithm for finding the best bipartition.\n",
    "    (set_a, set_b) = nx.community.kernighan_lin_bisection(\n",
    "        graph,\n",
    "        (nodes[:n_latent_partition], nodes[n_latent_partition:]),\n",
    "        weight='weight'\n",
    "    )\n",
    "\n",
    "    # Flatten the results.\n",
    "    flat_set_a = set([item for sublist in set_a for item in sublist if len(sublist)==1])\n",
    "    flat_set_b = set([item for sublist in set_b for item in sublist if len(sublist)==1])\n",
    "\n",
    "    latent_partition = sorted(flat_set_a)\n",
    "    trash_partition = sorted(flat_set_b)\n",
    "\n",
    "    # Calculate the sum of weights of edges between the two sets\n",
    "    cut_weight = sum(\n",
    "        graph[u][v]['weight'] for u in set_a for v in set_b if graph.has_edge(u, v)\n",
    "    )\n",
    "    print('cut_weight', cut_weight)\n",
    "\n",
    "    # Draw graph result\n",
    "    cut_edges = [(u, v) for u, v in graph.edges if (u in set_a and v in set_b) or (u in set_b and v in set_a)]\n",
    "    uncut_edges = [(u, v) for u, v in graph.edges if (u in set_a and v in set_a) or (u in set_b and v in set_b)]\n",
    "\n",
    "    pos = nx.shell_layout(graph)\n",
    "    nx.draw_networkx_nodes(graph, pos, nodelist=set_a, node_color='r')\n",
    "    nx.draw_networkx_nodes(graph, pos, nodelist=set_b, node_color='c')\n",
    "    nx.draw_networkx_edges(graph, pos, edgelist=cut_edges, style='dashdot', alpha=0.25, width=3)\n",
    "    nx.draw_networkx_edges(graph, pos, edgelist=uncut_edges, style='solid', width=3)\n",
    "    nx.draw_networkx_labels(graph, pos)\n",
    "else:\n",
    "    # partitioning_method == 'brute_force'\n",
    "\n",
    "    def vn_entropy(singular_values):\n",
    "        '''\n",
    "        Calculates the entropy using the singular values.\n",
    "        '''\n",
    "        squared_singular_values = np.power([s for s in singular_values if s >= 1e-17], 2)\n",
    "        return -np.sum(squared_singular_values * np.log(squared_singular_values))\n",
    "\n",
    "    # Set `min_entropy` equal to the maximum entropy for the system.\n",
    "    min_entropy = vn_entropy(\n",
    "        [1/np.sqrt(2**n_trash_partition)] * 2**n_trash_partition\n",
    "    )\n",
    "\n",
    "    for partition in _split_combinations(range(n_qubits), n_trash_partition):\n",
    "        rank, svd_u, singular_values, svd_v = schmidt_decomposition(\n",
    "            typical_state, partition, rank=0, svd='auto'\n",
    "        )\n",
    "\n",
    "        entropy = vn_entropy(singular_values)\n",
    "\n",
    "        print('partition', partition, 'entropy', entropy)\n",
    "        if entropy <= min_entropy:\n",
    "            min_entropy = entropy\n",
    "            trash_partition = partition\n",
    "            latent_partition = sorted(set(range(n_qubits)).difference(set(trash_partition)))\n",
    "\n",
    "    print('min_entropy', min_entropy)"
   ]
  },
  {
   "cell_type": "code",
   "execution_count": 11,
   "metadata": {},
   "outputs": [
    {
     "name": "stdout",
     "output_type": "stream",
     "text": [
      "Best channel: [3, 4, 5]\n"
     ]
    }
   ],
   "source": [
    "print('Best channel:', latent_partition)"
   ]
  },
  {
   "cell_type": "code",
   "execution_count": 12,
   "metadata": {},
   "outputs": [
    {
     "name": "stdout",
     "output_type": "stream",
     "text": [
      "correlation between subsystems A and B: 0.28115795160380413\n"
     ]
    }
   ],
   "source": [
    "typical_cor = correlation(\n",
    "    typical_state,\n",
    "    set(latent_partition),\n",
    "    set(trash_partition),\n",
    "    correlation_measure=mutual_information\n",
    ")\n",
    "print('correlation between subsystems A and B:', typical_cor)"
   ]
  },
  {
   "cell_type": "markdown",
   "metadata": {},
   "source": [
    "***\n",
    "## Creates the compressor and the decompressor\n",
    "***"
   ]
  },
  {
   "cell_type": "code",
   "execution_count": 13,
   "metadata": {},
   "outputs": [],
   "source": [
    "# Creates the compressor.\n",
    "\n",
    "# These are the qubits of the quantum channel for data transmission.\n",
    "# It can take on any configuration. For example: [0], [0,1,2,3,4], [1,3,5], etc.\n",
    "# trash_partition = [3,4,5]\n",
    "\n",
    "compressor = SchmidtCompressor(\n",
    "    typical_state,\n",
    "    opt_params={'partition': trash_partition, 'lr': low_rank}\n",
    ")\n",
    "decompressor = compressor.inverse()"
   ]
  },
  {
   "cell_type": "code",
   "execution_count": 16,
   "metadata": {},
   "outputs": [
    {
     "name": "stdout",
     "output_type": "stream",
     "text": [
      "info_1: 1.5429963788894934e-17\n",
      "info_2: 1.5429963788894934e-17\n",
      "rho_a: DensityMatrix([[9.82747852e-01+0.00000000e+00j,\n",
      "                1.18815776e-01+3.40081056e-17j,\n",
      "                4.14997719e-02+1.04823947e-16j,\n",
      "                3.10399228e-02+3.99491992e-18j,\n",
      "                1.00236795e-02-5.36123213e-16j,\n",
      "                6.60445250e-03-1.19751810e-17j,\n",
      "                2.71556012e-03-1.62486945e-16j,\n",
      "                3.83960415e-04-3.69539016e-17j],\n",
      "               [1.18815776e-01-3.40081056e-17j,\n",
      "                1.43650160e-02+0.00000000e+00j,\n",
      "                5.01738832e-03+1.12372771e-17j,\n",
      "                3.75277596e-03-5.91148037e-19j,\n",
      "                1.21187877e-03-6.51650183e-17j,\n",
      "                7.98488794e-04-1.67636625e-18j,\n",
      "                3.28315530e-04-1.97389020e-17j,\n",
      "                4.64214239e-05-4.48107238e-18j],\n",
      "               [4.14997719e-02-1.04823947e-16j,\n",
      "                5.01738832e-03-1.12372771e-17j,\n",
      "                1.75246485e-03+0.00000000e+00j,\n",
      "                1.31076320e-03-3.14214775e-18j,\n",
      "                4.23282955e-04-2.37087394e-17j,\n",
      "                2.78894807e-04-1.21014974e-18j,\n",
      "                1.14673489e-04-7.15120046e-18j,\n",
      "                1.62139959e-05-1.60145528e-18j],\n",
      "               [3.10399228e-02-3.99491992e-18j,\n",
      "                3.75277596e-03+5.91148037e-19j,\n",
      "                1.31076320e-03+3.14214775e-18j,\n",
      "                9.80390653e-04+0.00000000e+00j,\n",
      "                3.16596204e-04-1.69741067e-17j,\n",
      "                2.08600503e-04-4.05081477e-19j,\n",
      "                8.57705018e-05-5.14316126e-18j,\n",
      "                1.21273240e-05-1.16874348e-18j],\n",
      "               [1.00236795e-02+5.36123213e-16j,\n",
      "                1.21187877e-03+6.51650183e-17j,\n",
      "                4.23282955e-04+2.37087394e-17j,\n",
      "                3.16596204e-04+1.69741067e-17j,\n",
      "                1.02237976e-04+0.00000000e+00j,\n",
      "                6.73630730e-05+3.48081647e-18j,\n",
      "                2.76977501e-05-1.75876501e-19j,\n",
      "                3.91626005e-06-1.67452898e-19j],\n",
      "               [6.60445250e-03+1.19751810e-17j,\n",
      "                7.98488794e-04+1.67636625e-18j,\n",
      "                2.78894807e-04+1.21014974e-18j,\n",
      "                2.08600503e-04+4.05081477e-19j,\n",
      "                6.73630730e-05-3.48081647e-18j,\n",
      "                4.43845211e-05+0.00000000e+00j,\n",
      "                1.82496332e-05-1.05888605e-18j,\n",
      "                2.58036517e-06-2.43666055e-19j],\n",
      "               [2.71556012e-03+1.62486945e-16j,\n",
      "                3.28315530e-04+1.97389020e-17j,\n",
      "                1.14673489e-04+7.15120046e-18j,\n",
      "                8.57705018e-05+5.14316126e-18j,\n",
      "                2.76977501e-05+1.75876501e-19j,\n",
      "                1.82496332e-05+1.05888605e-18j,\n",
      "                7.50372207e-06+0.00000000e+00j,\n",
      "                1.06097163e-06-3.86284094e-20j],\n",
      "               [3.83960415e-04+3.69539016e-17j,\n",
      "                4.64214239e-05+4.48107238e-18j,\n",
      "                1.62139959e-05+1.60145528e-18j,\n",
      "                1.21273240e-05+1.16874348e-18j,\n",
      "                3.91626005e-06+1.67452898e-19j,\n",
      "                2.58036517e-06+2.43666055e-19j,\n",
      "                1.06097163e-06+3.86284094e-20j,\n",
      "                1.50013658e-07+0.00000000e+00j]],\n",
      "              dims=(2, 2, 2))\n",
      "rho_b: DensityMatrix([[9.82747852e-01+0.00000000e+00j,\n",
      "                1.18815776e-01+3.40081056e-17j,\n",
      "                4.14997719e-02+1.04823947e-16j,\n",
      "                3.10399228e-02+3.99491992e-18j,\n",
      "                1.00236795e-02-5.36123213e-16j,\n",
      "                6.60445250e-03-1.19751810e-17j,\n",
      "                2.71556012e-03-1.62486945e-16j,\n",
      "                3.83960415e-04-3.69539016e-17j],\n",
      "               [1.18815776e-01-3.40081056e-17j,\n",
      "                1.43650160e-02+0.00000000e+00j,\n",
      "                5.01738832e-03+1.12372771e-17j,\n",
      "                3.75277596e-03-5.91148037e-19j,\n",
      "                1.21187877e-03-6.51650183e-17j,\n",
      "                7.98488794e-04-1.67636625e-18j,\n",
      "                3.28315530e-04-1.97389020e-17j,\n",
      "                4.64214239e-05-4.48107238e-18j],\n",
      "               [4.14997719e-02-1.04823947e-16j,\n",
      "                5.01738832e-03-1.12372771e-17j,\n",
      "                1.75246485e-03+0.00000000e+00j,\n",
      "                1.31076320e-03-3.14214775e-18j,\n",
      "                4.23282955e-04-2.37087394e-17j,\n",
      "                2.78894807e-04-1.21014974e-18j,\n",
      "                1.14673489e-04-7.15120046e-18j,\n",
      "                1.62139959e-05-1.60145528e-18j],\n",
      "               [3.10399228e-02-3.99491992e-18j,\n",
      "                3.75277596e-03+5.91148037e-19j,\n",
      "                1.31076320e-03+3.14214775e-18j,\n",
      "                9.80390653e-04+0.00000000e+00j,\n",
      "                3.16596204e-04-1.69741067e-17j,\n",
      "                2.08600503e-04-4.05081477e-19j,\n",
      "                8.57705018e-05-5.14316126e-18j,\n",
      "                1.21273240e-05-1.16874348e-18j],\n",
      "               [1.00236795e-02+5.36123213e-16j,\n",
      "                1.21187877e-03+6.51650183e-17j,\n",
      "                4.23282955e-04+2.37087394e-17j,\n",
      "                3.16596204e-04+1.69741067e-17j,\n",
      "                1.02237976e-04+0.00000000e+00j,\n",
      "                6.73630730e-05+3.48081647e-18j,\n",
      "                2.76977501e-05-1.75876501e-19j,\n",
      "                3.91626005e-06-1.67452898e-19j],\n",
      "               [6.60445250e-03+1.19751810e-17j,\n",
      "                7.98488794e-04+1.67636625e-18j,\n",
      "                2.78894807e-04+1.21014974e-18j,\n",
      "                2.08600503e-04+4.05081477e-19j,\n",
      "                6.73630730e-05-3.48081647e-18j,\n",
      "                4.43845211e-05+0.00000000e+00j,\n",
      "                1.82496332e-05-1.05888605e-18j,\n",
      "                2.58036517e-06-2.43666055e-19j],\n",
      "               [2.71556012e-03+1.62486945e-16j,\n",
      "                3.28315530e-04+1.97389020e-17j,\n",
      "                1.14673489e-04+7.15120046e-18j,\n",
      "                8.57705018e-05+5.14316126e-18j,\n",
      "                2.76977501e-05+1.75876501e-19j,\n",
      "                1.82496332e-05+1.05888605e-18j,\n",
      "                7.50372207e-06+0.00000000e+00j,\n",
      "                1.06097163e-06-3.86284094e-20j],\n",
      "               [3.83960415e-04+3.69539016e-17j,\n",
      "                4.64214239e-05+4.48107238e-18j,\n",
      "                1.62139959e-05+1.60145528e-18j,\n",
      "                1.21273240e-05+1.16874348e-18j,\n",
      "                3.91626005e-06+1.67452898e-19j,\n",
      "                2.58036517e-06+2.43666055e-19j,\n",
      "                1.06097163e-06+3.86284094e-20j,\n",
      "                1.50013658e-07+0.00000000e+00j]],\n",
      "              dims=(2, 2, 2))\n",
      "rho_a==rho_b: True\n"
     ]
    }
   ],
   "source": [
    "from qclib.entanglement import meyer_wallach_entanglement, geometric_entanglement\n",
    "\n",
    "if n_trash_partition == n_latent_partition:\n",
    "    '''\n",
    "    If both partition blocks are the same size, select the one\n",
    "    with the most entropy (information) as the latent system.\n",
    "    '''\n",
    "\n",
    "    # Uses the typical state for the evaluation.\n",
    "    initializer = BaaLowRankInitialize(\n",
    "        #list(training_input.values())[0][2],\n",
    "        typical_state,\n",
    "        opt_params={\n",
    "            'max_fidelity_loss': max_fidelity_loss,\n",
    "            'strategy': baa_strategy,\n",
    "            'use_low_rank': use_low_rank\n",
    "        }\n",
    "    )\n",
    "\n",
    "    # Compressor/Decompressor for the swapped configuration.\n",
    "    compressor2 = SchmidtCompressor(\n",
    "        typical_state,\n",
    "        opt_params={'partition': latent_partition, 'lr': low_rank}\n",
    "    )\n",
    "    decompressor2 = compressor2.inverse()\n",
    "\n",
    "    # Evaluate current configuration.\n",
    "    circuit = QuantumCircuit(n_qubits)\n",
    "    circuit.append(initializer.definition, range(n_qubits))\n",
    "    circuit.append(compressor.definition, range(n_qubits))\n",
    "\n",
    "    rho_a = partial_trace(Statevector(circuit), compressor.trash_qubits)\n",
    "    info_1 = von_neumann_entropy(rho_a)\n",
    "\n",
    "    # Evaluate swapped configuration.\n",
    "    circuit = QuantumCircuit(n_qubits)\n",
    "    circuit.append(initializer.definition, range(n_qubits))\n",
    "    circuit.append(compressor2.definition, range(n_qubits))\n",
    "\n",
    "    rho_b = partial_trace(Statevector(circuit), compressor2.trash_qubits)\n",
    "    info_2 = von_neumann_entropy(rho_b)\n",
    "\n",
    "    \n",
    "    # set_a = set([n_qubits-i-1 for i in latent_partition]) # Qiskit reverse.\n",
    "    # set_b = set(range(n_qubits)).difference(set_a)\n",
    "    # rho_a = partial_trace(typical_state, list(set_b))\n",
    "    # rho_b = partial_trace(typical_state, list(set_a))\n",
    "    # info_1 = np.trace(rho_a.data @ rho_a.data).real\n",
    "    # info_2 = np.trace(rho_b.data @ rho_b.data).real\n",
    "\n",
    "    print('info_1:', info_1)\n",
    "    print('info_2:', info_2)\n",
    "    print('rho_a:', rho_a)\n",
    "    print('rho_b:', rho_b)\n",
    "    print('rho_a==rho_b:', np.allclose(rho_a, rho_b))\n",
    "    # Compare results.\n",
    "    if info_2 > info_1:\n",
    "        # compressor = compressor2\n",
    "        # decompressor = decompressor2\n",
    "        trash_partition, latent_partition = latent_partition, trash_partition\n",
    "        print('Partitions swapped.')"
   ]
  },
  {
   "cell_type": "code",
   "execution_count": 14,
   "metadata": {},
   "outputs": [
    {
     "name": "stdout",
     "output_type": "stream",
     "text": [
      "41\n"
     ]
    }
   ],
   "source": [
    "print(get_cnot_count(compressor.definition))"
   ]
  },
  {
   "cell_type": "markdown",
   "metadata": {},
   "source": [
    "***\n",
    "## Experiment without optimization\n",
    "***\n",
    "Using |0> as the reference state."
   ]
  },
  {
   "cell_type": "markdown",
   "metadata": {},
   "source": [
    "\n",
    "### Draw an example of the circuit\n"
   ]
  },
  {
   "cell_type": "code",
   "execution_count": 15,
   "metadata": {},
   "outputs": [
    {
     "data": {
      "image/png": "[encoded data removed]",
      "text/plain": [
       "<Figure size 436.387x392.972 with 1 Axes>"
      ]
     },
     "execution_count": 15,
     "metadata": {},
     "output_type": "execute_result"
    }
   ],
   "source": [
    "circuit = complete_circuit(\n",
    "    BaaLowRankInitialize(\n",
    "        typical_state,\n",
    "        opt_params={\n",
    "            'max_fidelity_loss': max_fidelity_loss,\n",
    "            'strategy': baa_strategy,\n",
    "            'use_low_rank': use_low_rank\n",
    "        }\n",
    "    ),\n",
    "    compressor,\n",
    "    decompressor\n",
    ")\n",
    "# Draw the circuit diagram.\n",
    "circuit.draw('mpl', scale=0.5, style=\"iqp\")"
   ]
  },
  {
   "cell_type": "code",
   "execution_count": 16,
   "metadata": {},
   "outputs": [
    {
     "name": "stdout",
     "output_type": "stream",
     "text": [
      "127\n"
     ]
    }
   ],
   "source": [
    "print(get_cnot_count(circuit))"
   ]
  },
  {
   "cell_type": "markdown",
   "metadata": {},
   "source": [
    "### Run the experiment without optimization"
   ]
  },
  {
   "cell_type": "code",
   "execution_count": 17,
   "metadata": {},
   "outputs": [
    {
     "name": "stdout",
     "output_type": "stream",
     "text": [
      "0 - Recovered state fidelity = 0.7802487799868251\n"
     ]
    },
    {
     "data": {
      "image/png": "[encoded data removed]",
      "text/plain": [
       "<Figure size 240x80 with 3 Axes>"
      ]
     },
     "metadata": {},
     "output_type": "display_data"
    },
    {
     "name": "stdout",
     "output_type": "stream",
     "text": [
      "1 - Recovered state fidelity = 0.6580863856337054\n"
     ]
    },
    {
     "data": {
      "image/png": "[encoded data removed]",
      "text/plain": [
       "<Figure size 240x80 with 3 Axes>"
      ]
     },
     "metadata": {},
     "output_type": "display_data"
    },
    {
     "name": "stdout",
     "output_type": "stream",
     "text": [
      "2 - Recovered state fidelity = 0.7221255616414265\n"
     ]
    },
    {
     "data": {
      "image/png": "[encoded data removed]",
      "text/plain": [
       "<Figure size 240x80 with 3 Axes>"
      ]
     },
     "metadata": {},
     "output_type": "display_data"
    },
    {
     "name": "stdout",
     "output_type": "stream",
     "text": [
      "3 - Recovered state fidelity = 0.43914459563845215\n"
     ]
    },
    {
     "data": {
      "image/png": "[encoded data removed]",
      "text/plain": [
       "<Figure size 240x80 with 3 Axes>"
      ]
     },
     "metadata": {},
     "output_type": "display_data"
    },
    {
     "name": "stdout",
     "output_type": "stream",
     "text": [
      "4 - Recovered state fidelity = 0.44376364996911116\n"
     ]
    },
    {
     "data": {
      "image/png": "[encoded data removed]",
      "text/plain": [
       "<Figure size 240x80 with 3 Axes>"
      ]
     },
     "metadata": {},
     "output_type": "display_data"
    },
    {
     "name": "stdout",
     "output_type": "stream",
     "text": [
      "5 - Recovered state fidelity = 0.8578069472346521\n"
     ]
    },
    {
     "data": {
      "image/png": "[encoded data removed]",
      "text/plain": [
       "<Figure size 240x80 with 3 Axes>"
      ]
     },
     "metadata": {},
     "output_type": "display_data"
    },
    {
     "name": "stdout",
     "output_type": "stream",
     "text": [
      "6 - Recovered state fidelity = 0.4436431469497584\n"
     ]
    },
    {
     "data": {
      "image/png": "[encoded data removed]",
      "text/plain": [
       "<Figure size 240x80 with 3 Axes>"
      ]
     },
     "metadata": {},
     "output_type": "display_data"
    },
    {
     "name": "stdout",
     "output_type": "stream",
     "text": [
      "7 - Recovered state fidelity = 0.6864355612273615\n"
     ]
    },
    {
     "data": {
      "image/png": "[encoded data removed]",
      "text/plain": [
       "<Figure size 240x80 with 3 Axes>"
      ]
     },
     "metadata": {},
     "output_type": "display_data"
    },
    {
     "name": "stdout",
     "output_type": "stream",
     "text": [
      "8 - Recovered state fidelity = 0.7863645515602532\n"
     ]
    },
    {
     "data": {
      "image/png": "[encoded data removed]",
      "text/plain": [
       "<Figure size 240x80 with 3 Axes>"
      ]
     },
     "metadata": {},
     "output_type": "display_data"
    },
    {
     "name": "stdout",
     "output_type": "stream",
     "text": [
      "9 - Recovered state fidelity = 0.5867256087613125\n"
     ]
    },
    {
     "data": {
      "image/png": "[encoded data removed]",
      "text/plain": [
       "<Figure size 240x80 with 3 Axes>"
      ]
     },
     "metadata": {},
     "output_type": "display_data"
    },
    {
     "name": "stdout",
     "output_type": "stream",
     "text": [
      "10 - Recovered state fidelity = 0.7604267642403925\n"
     ]
    },
    {
     "data": {
      "image/png": "[encoded data removed]",
      "text/plain": [
       "<Figure size 240x80 with 3 Axes>"
      ]
     },
     "metadata": {},
     "output_type": "display_data"
    },
    {
     "name": "stdout",
     "output_type": "stream",
     "text": [
      "11 - Recovered state fidelity = 0.7034213168547369\n"
     ]
    },
    {
     "data": {
      "image/png": "[encoded data removed]",
      "text/plain": [
       "<Figure size 240x80 with 3 Axes>"
      ]
     },
     "metadata": {},
     "output_type": "display_data"
    },
    {
     "name": "stdout",
     "output_type": "stream",
     "text": [
      "12 - Recovered state fidelity = 0.54680864263509\n"
     ]
    },
    {
     "data": {
      "image/png": "[encoded data removed]",
      "text/plain": [
       "<Figure size 240x80 with 3 Axes>"
      ]
     },
     "metadata": {},
     "output_type": "display_data"
    },
    {
     "name": "stdout",
     "output_type": "stream",
     "text": [
      "13 - Recovered state fidelity = 0.87534829363053\n"
     ]
    },
    {
     "data": {
      "image/png": "[encoded data removed]",
      "text/plain": [
       "<Figure size 240x80 with 3 Axes>"
      ]
     },
     "metadata": {},
     "output_type": "display_data"
    },
    {
     "name": "stdout",
     "output_type": "stream",
     "text": [
      "14 - Recovered state fidelity = 0.82050518302179\n"
     ]
    },
    {
     "data": {
      "image/png": "[encoded data removed]",
      "text/plain": [
       "<Figure size 240x80 with 3 Axes>"
      ]
     },
     "metadata": {},
     "output_type": "display_data"
    },
    {
     "name": "stdout",
     "output_type": "stream",
     "text": [
      "15 - Recovered state fidelity = 0.6283955209885989\n"
     ]
    },
    {
     "data": {
      "image/png": "[encoded data removed]",
      "text/plain": [
       "<Figure size 240x80 with 3 Axes>"
      ]
     },
     "metadata": {},
     "output_type": "display_data"
    },
    {
     "name": "stdout",
     "output_type": "stream",
     "text": [
      "16 - Recovered state fidelity = 0.39418215331588735\n"
     ]
    },
    {
     "data": {
      "image/png": "[encoded data removed]",
      "text/plain": [
       "<Figure size 240x80 with 3 Axes>"
      ]
     },
     "metadata": {},
     "output_type": "display_data"
    },
    {
     "name": "stdout",
     "output_type": "stream",
     "text": [
      "17 - Recovered state fidelity = 0.26195952974797226\n"
     ]
    },
    {
     "data": {
      "image/png": "[encoded data removed]",
      "text/plain": [
       "<Figure size 240x80 with 3 Axes>"
      ]
     },
     "metadata": {},
     "output_type": "display_data"
    },
    {
     "name": "stdout",
     "output_type": "stream",
     "text": [
      "18 - Recovered state fidelity = 0.6346303918793992\n"
     ]
    },
    {
     "data": {
      "image/png": "[encoded data removed]",
      "text/plain": [
       "<Figure size 240x80 with 3 Axes>"
      ]
     },
     "metadata": {},
     "output_type": "display_data"
    },
    {
     "name": "stdout",
     "output_type": "stream",
     "text": [
      "19 - Recovered state fidelity = 0.2121256923347075\n"
     ]
    },
    {
     "data": {
      "image/png": "[encoded data removed]",
      "text/plain": [
       "<Figure size 240x80 with 3 Axes>"
      ]
     },
     "metadata": {},
     "output_type": "display_data"
    }
   ],
   "source": [
    "fidelities[0], figures[0] = experiment(\n",
    "    test_input,\n",
    "    compressor,\n",
    "    decompressor,\n",
    "    verbose=2\n",
    ")"
   ]
  },
  {
   "cell_type": "markdown",
   "metadata": {},
   "source": [
    "***\n",
    "## Experiment with optimization 1\n",
    "***\n",
    "This optimization is based on the conservation of entropy.\n",
    "As we are dealing with a pure state (Alice's side), our goal is to produce an initial state of zero entropy (or close to zero) on Bob's side."
   ]
  },
  {
   "cell_type": "markdown",
   "metadata": {},
   "source": [
    "### Constructs the set of gates to initialize the mixed-states."
   ]
  },
  {
   "cell_type": "code",
   "execution_count": 18,
   "metadata": {},
   "outputs": [],
   "source": [
    "# Applies the compression process to each of the train samples,\n",
    "# calculates the correspondent trash state,\n",
    "# and stores the correspondent mixed state initializer gate.\n",
    "\n",
    "references_1 = []\n",
    "for i, test_sample in enumerate(np.concatenate([test_samples for _, test_samples in test_input.items()])):\n",
    "    initializer = BaaLowRankInitialize(\n",
    "        test_sample,\n",
    "        opt_params={\n",
    "            'max_fidelity_loss': max_fidelity_loss,\n",
    "            'strategy': baa_strategy,\n",
    "            'use_low_rank': use_low_rank\n",
    "        }\n",
    "    )\n",
    "\n",
    "    circuit = QuantumCircuit(n_qubits)\n",
    "    circuit.append(initializer.definition, range(n_qubits))\n",
    "    circuit.append(compressor.definition, range(n_qubits))\n",
    "\n",
    "    trash_state = partial_trace(Statevector(circuit), compressor.latent_qubits)\n",
    "    references_1.append([\n",
    "        MixedInitialize(\n",
    "            trash_state.data.T,\n",
    "            classical=True,\n",
    "            reset=False,\n",
    "            initializer=BaaLowRankInitialize,\n",
    "            opt_params={\n",
    "                'max_fidelity_loss': max_fidelity_loss,\n",
    "                'strategy': baa_strategy,\n",
    "                'use_low_rank': use_low_rank\n",
    "            }\n",
    "        )\n",
    "    ])"
   ]
  },
  {
   "cell_type": "markdown",
   "metadata": {},
   "source": [
    "### Draw an example of the reference state initializer"
   ]
  },
  {
   "cell_type": "code",
   "execution_count": 19,
   "metadata": {},
   "outputs": [
    {
     "data": {
      "image/png": "[encoded data removed]",
      "text/plain": [
       "<Figure size 202.981x267.556 with 1 Axes>"
      ]
     },
     "execution_count": 19,
     "metadata": {},
     "output_type": "execute_result"
    }
   ],
   "source": [
    "references_1[0][0].definition.draw('mpl', scale=0.5, style=\"iqp\")"
   ]
  },
  {
   "cell_type": "markdown",
   "metadata": {},
   "source": [
    "### Draws an example of the complete circuit"
   ]
  },
  {
   "cell_type": "code",
   "execution_count": 20,
   "metadata": {},
   "outputs": [
    {
     "data": {
      "image/png": "[encoded data removed]",
      "text/plain": [
       "<Figure size 654.429x518.389 with 1 Axes>"
      ]
     },
     "execution_count": 20,
     "metadata": {},
     "output_type": "execute_result"
    }
   ],
   "source": [
    "circuit = complete_circuit(\n",
    "    BaaLowRankInitialize(\n",
    "        typical_state,\n",
    "        opt_params={\n",
    "            'max_fidelity_loss': max_fidelity_loss,\n",
    "            'strategy': baa_strategy,\n",
    "            'use_low_rank': use_low_rank\n",
    "        }\n",
    "    ),\n",
    "    compressor,\n",
    "    decompressor,\n",
    "    references_1[0]\n",
    ")\n",
    "# Draw an example of the circuit.\n",
    "circuit.draw('mpl', scale=0.5, style=\"iqp\")"
   ]
  },
  {
   "cell_type": "code",
   "execution_count": 21,
   "metadata": {},
   "outputs": [
    {
     "name": "stdout",
     "output_type": "stream",
     "text": [
      "174\n"
     ]
    }
   ],
   "source": [
    "print(get_cnot_count(circuit))"
   ]
  },
  {
   "cell_type": "markdown",
   "metadata": {},
   "source": [
    "## Optimized experiment:\n",
    "Uses the exact trash state as the reference state.\n",
    "This relies on classical communication, as the trash state must be transmited between Alice and Bob for each execution."
   ]
  },
  {
   "cell_type": "code",
   "execution_count": 22,
   "metadata": {},
   "outputs": [
    {
     "name": "stdout",
     "output_type": "stream",
     "text": [
      "0 - Recovered state fidelity = 0.7864364281970281\n",
      "1 - Recovered state fidelity = 0.6500795374298759\n",
      "2 - Recovered state fidelity = 0.7159105233143815\n",
      "3 - Recovered state fidelity = 0.4769763181226349\n",
      "4 - Recovered state fidelity = 0.44206898258501537\n",
      "5 - Recovered state fidelity = 0.8641057045919529\n",
      "6 - Recovered state fidelity = 0.4509201639716751\n",
      "7 - Recovered state fidelity = 0.6787276450009018\n",
      "8 - Recovered state fidelity = 0.7848625145871357\n",
      "9 - Recovered state fidelity = 0.5654751657205411\n",
      "10 - Recovered state fidelity = 0.7693372142351576\n",
      "11 - Recovered state fidelity = 0.697683867910326\n",
      "12 - Recovered state fidelity = 0.5865370275977737\n",
      "13 - Recovered state fidelity = 0.895606902410606\n",
      "14 - Recovered state fidelity = 0.8248042413686244\n",
      "15 - Recovered state fidelity = 0.6127298276797147\n",
      "16 - Recovered state fidelity = 0.40560318112269855\n",
      "17 - Recovered state fidelity = 0.2173313779567897\n",
      "18 - Recovered state fidelity = 0.6296730144813347\n",
      "19 - Recovered state fidelity = 0.19310674646363685\n"
     ]
    }
   ],
   "source": [
    "fidelities[1], figures[1] = experiment(\n",
    "    test_input,\n",
    "    compressor,\n",
    "    decompressor,\n",
    "    references=references_1,\n",
    "    verbose=1\n",
    ")"
   ]
  },
  {
   "cell_type": "markdown",
   "metadata": {},
   "source": [
    "***\n",
    "## Experiment with optimization 2\n",
    "***\n",
    "This optimization reduces the cost of the previous one by relying on single-qubit tomography. That way, the cost of the tomography is linear on the number of trash qubits, O(n_t), and the cost of the classical communication is also O(n_t)."
   ]
  },
  {
   "cell_type": "markdown",
   "metadata": {},
   "source": [
    "### Constructs the set of gates to initialize the mixed-states."
   ]
  },
  {
   "cell_type": "code",
   "execution_count": 23,
   "metadata": {},
   "outputs": [],
   "source": [
    "references_2 = []\n",
    "\n",
    "for i, test_sample in enumerate(np.concatenate([test_samples for _, test_samples in test_input.items()])):\n",
    "    initializer = BaaLowRankInitialize(\n",
    "        test_sample,\n",
    "        opt_params={\n",
    "            'max_fidelity_loss': max_fidelity_loss,\n",
    "            'strategy': baa_strategy,\n",
    "            'use_low_rank': use_low_rank\n",
    "        }\n",
    "    )\n",
    "\n",
    "    circuit = QuantumCircuit(n_qubits)\n",
    "    circuit.append(initializer.definition, range(n_qubits))\n",
    "    circuit.append(compressor.definition, range(n_qubits))\n",
    "\n",
    "    single_qubit_initializers = []\n",
    "    for trash_qubit in compressor.trash_qubits:\n",
    "        trash_qubits = list(set(compressor.trash_qubits) - set([trash_qubit]))\n",
    "        trash_state = partial_trace(Statevector(circuit), trash_qubits + compressor.latent_qubits)\n",
    "        single_qubit_initializers.append(\n",
    "            MixedInitialize(\n",
    "                trash_state.data.T,\n",
    "                classical=True,\n",
    "                reset=False\n",
    "            )\n",
    "        )\n",
    "\n",
    "    references_2.append(single_qubit_initializers)"
   ]
  },
  {
   "cell_type": "markdown",
   "metadata": {},
   "source": [
    "### Draw an example of the reference state initializer"
   ]
  },
  {
   "cell_type": "code",
   "execution_count": 24,
   "metadata": {},
   "outputs": [
    {
     "data": {
      "image/png": "[encoded data removed]",
      "text/plain": [
       "<Figure size 193.765x100.333 with 1 Axes>"
      ]
     },
     "execution_count": 24,
     "metadata": {},
     "output_type": "execute_result"
    }
   ],
   "source": [
    "references_2[0][0].definition.draw('mpl', scale=0.5, style=\"iqp\")"
   ]
  },
  {
   "cell_type": "markdown",
   "metadata": {},
   "source": [
    "### Draw an example of the complete circuit"
   ]
  },
  {
   "cell_type": "code",
   "execution_count": 25,
   "metadata": {},
   "outputs": [
    {
     "data": {
      "image/png": "[encoded data removed]",
      "text/plain": [
       "<Figure size 905.263x518.389 with 1 Axes>"
      ]
     },
     "execution_count": 25,
     "metadata": {},
     "output_type": "execute_result"
    }
   ],
   "source": [
    "circuit = complete_circuit(\n",
    "    BaaLowRankInitialize(\n",
    "        typical_state,\n",
    "        opt_params={\n",
    "            'max_fidelity_loss': max_fidelity_loss,\n",
    "            'strategy': baa_strategy,\n",
    "            'use_low_rank': use_low_rank\n",
    "        }\n",
    "    ),\n",
    "    compressor,\n",
    "    decompressor,\n",
    "    references_2[0]\n",
    ")\n",
    "# Draw an example of the circuit.\n",
    "circuit.draw('mpl', scale=0.5, style=\"iqp\")"
   ]
  },
  {
   "cell_type": "code",
   "execution_count": 26,
   "metadata": {},
   "outputs": [
    {
     "name": "stdout",
     "output_type": "stream",
     "text": [
      "130\n"
     ]
    }
   ],
   "source": [
    "print(get_cnot_count(circuit))"
   ]
  },
  {
   "cell_type": "markdown",
   "metadata": {},
   "source": [
    "## Optimized experiment:\n",
    "Uses the single-qubit trash states as the reference state.\n",
    "This relies on classical communication, as the trash state must be transmited between Alice and Bob for each execution, but the cost is only O(n_t)."
   ]
  },
  {
   "cell_type": "code",
   "execution_count": 27,
   "metadata": {},
   "outputs": [
    {
     "name": "stdout",
     "output_type": "stream",
     "text": [
      "0 - Recovered state fidelity = 0.7801038340141768\n",
      "1 - Recovered state fidelity = 0.6218517665921788\n",
      "2 - Recovered state fidelity = 0.7042789168067046\n",
      "3 - Recovered state fidelity = 0.346237917210027\n",
      "4 - Recovered state fidelity = 0.3816115094783057\n",
      "5 - Recovered state fidelity = 0.8590668200792478\n",
      "6 - Recovered state fidelity = 0.37663973638081333\n",
      "7 - Recovered state fidelity = 0.6657071837574923\n",
      "8 - Recovered state fidelity = 0.7730535178633274\n",
      "9 - Recovered state fidelity = 0.5521164944023798\n",
      "10 - Recovered state fidelity = 0.7511674801485746\n",
      "11 - Recovered state fidelity = 0.6826717156052029\n",
      "12 - Recovered state fidelity = 0.516004026070911\n",
      "13 - Recovered state fidelity = 0.8794838954360155\n",
      "14 - Recovered state fidelity = 0.8208367549119019\n",
      "15 - Recovered state fidelity = 0.5782492164860924\n",
      "16 - Recovered state fidelity = 0.33217667992146493\n",
      "17 - Recovered state fidelity = 0.19632170186176315\n",
      "18 - Recovered state fidelity = 0.6036961591270825\n",
      "19 - Recovered state fidelity = 0.126860258165515\n"
     ]
    }
   ],
   "source": [
    "fidelities[2], figures[2] = experiment(\n",
    "    test_input,\n",
    "    compressor,\n",
    "    decompressor,\n",
    "    references=references_2,\n",
    "    verbose=1\n",
    ")"
   ]
  },
  {
   "cell_type": "markdown",
   "metadata": {},
   "source": [
    "***\n",
    "## Summary\n",
    "***"
   ]
  },
  {
   "cell_type": "code",
   "execution_count": 28,
   "metadata": {},
   "outputs": [
    {
     "name": "stdout",
     "output_type": "stream",
     "text": [
      "0 - 0.7802487799868251 0.7864364281970281 0.7801038340141768\n",
      "1 - 0.6580863856337054 0.6500795374298759 0.6218517665921788\n",
      "2 - 0.7221255616414265 0.7159105233143815 0.7042789168067046\n",
      "3 - 0.43914459563845215 0.4769763181226349 0.346237917210027\n",
      "4 - 0.44376364996911116 0.44206898258501537 0.3816115094783057\n",
      "5 - 0.8578069472346521 0.8641057045919529 0.8590668200792478\n",
      "6 - 0.4436431469497584 0.4509201639716751 0.37663973638081333\n",
      "7 - 0.6864355612273615 0.6787276450009018 0.6657071837574923\n",
      "8 - 0.7863645515602532 0.7848625145871357 0.7730535178633274\n",
      "9 - 0.5867256087613125 0.5654751657205411 0.5521164944023798\n",
      "10 - 0.7604267642403925 0.7693372142351576 0.7511674801485746\n",
      "11 - 0.7034213168547369 0.697683867910326 0.6826717156052029\n",
      "12 - 0.54680864263509 0.5865370275977737 0.516004026070911\n",
      "13 - 0.87534829363053 0.895606902410606 0.8794838954360155\n",
      "14 - 0.82050518302179 0.8248042413686244 0.8208367549119019\n",
      "15 - 0.6283955209885989 0.6127298276797147 0.5782492164860924\n",
      "16 - 0.39418215331588735 0.40560318112269855 0.33217667992146493\n",
      "17 - 0.26195952974797226 0.2173313779567897 0.19632170186176315\n",
      "18 - 0.6346303918793992 0.6296730144813347 0.6036961591270825\n",
      "19 - 0.2121256923347075 0.19310674646363685 0.126860258165515\n",
      "\n",
      "avg 0.6121074138625981 0.6123988192373904 0.5774067792159588\n",
      "min 0.2121256923347075 0.19310674646363685 0.126860258165515\n",
      "max 0.87534829363053 0.895606902410606 0.8794838954360155\n",
      "std 0.18764426050877292 0.19344170552991813 0.21469594581310364\n"
     ]
    }
   ],
   "source": [
    "zip_fidelities = list(zip(fidelities[0],fidelities[1],fidelities[2]))\n",
    "for i, (item1, item2, item3) in enumerate(zip_fidelities):\n",
    "    print(i, '-', item1, item2, item3)\n",
    "\n",
    "print('\\navg', *np.average(zip_fidelities, axis=0))\n",
    "print('min', *np.min(zip_fidelities, axis=0))\n",
    "print('max', *np.max(zip_fidelities, axis=0))\n",
    "print('std', *np.std(zip_fidelities, axis=0))"
   ]
  },
  {
   "cell_type": "code",
   "execution_count": 29,
   "metadata": {},
   "outputs": [
    {
     "name": "stdout",
     "output_type": "stream",
     "text": [
      "0\n"
     ]
    },
    {
     "data": {
      "image/png": "[encoded data removed]",
      "text/plain": [
       "<Figure size 400x80 with 5 Axes>"
      ]
     },
     "metadata": {},
     "output_type": "display_data"
    },
    {
     "name": "stdout",
     "output_type": "stream",
     "text": [
      "1\n"
     ]
    },
    {
     "data": {
      "image/png": "[encoded data removed]",
      "text/plain": [
       "<Figure size 400x80 with 5 Axes>"
      ]
     },
     "metadata": {},
     "output_type": "display_data"
    },
    {
     "name": "stdout",
     "output_type": "stream",
     "text": [
      "2\n"
     ]
    },
    {
     "data": {
      "image/png": "[encoded data removed]",
      "text/plain": [
       "<Figure size 400x80 with 5 Axes>"
      ]
     },
     "metadata": {},
     "output_type": "display_data"
    },
    {
     "name": "stdout",
     "output_type": "stream",
     "text": [
      "3\n"
     ]
    },
    {
     "data": {
      "image/png": "[encoded data removed]",
      "text/plain": [
       "<Figure size 400x80 with 5 Axes>"
      ]
     },
     "metadata": {},
     "output_type": "display_data"
    },
    {
     "name": "stdout",
     "output_type": "stream",
     "text": [
      "4\n"
     ]
    },
    {
     "data": {
      "image/png": "[encoded data removed]",
      "text/plain": [
       "<Figure size 400x80 with 5 Axes>"
      ]
     },
     "metadata": {},
     "output_type": "display_data"
    },
    {
     "name": "stdout",
     "output_type": "stream",
     "text": [
      "5\n"
     ]
    },
    {
     "data": {
      "image/png": "[encoded data removed]",
      "text/plain": [
       "<Figure size 400x80 with 5 Axes>"
      ]
     },
     "metadata": {},
     "output_type": "display_data"
    },
    {
     "name": "stdout",
     "output_type": "stream",
     "text": [
      "6\n"
     ]
    },
    {
     "data": {
      "image/png": "[encoded data removed]",
      "text/plain": [
       "<Figure size 400x80 with 5 Axes>"
      ]
     },
     "metadata": {},
     "output_type": "display_data"
    },
    {
     "name": "stdout",
     "output_type": "stream",
     "text": [
      "7\n"
     ]
    },
    {
     "data": {
      "image/png": "[encoded data removed]",
      "text/plain": [
       "<Figure size 400x80 with 5 Axes>"
      ]
     },
     "metadata": {},
     "output_type": "display_data"
    },
    {
     "name": "stdout",
     "output_type": "stream",
     "text": [
      "8\n"
     ]
    },
    {
     "data": {
      "image/png": "[encoded data removed]",
      "text/plain": [
       "<Figure size 400x80 with 5 Axes>"
      ]
     },
     "metadata": {},
     "output_type": "display_data"
    },
    {
     "name": "stdout",
     "output_type": "stream",
     "text": [
      "9\n"
     ]
    },
    {
     "data": {
      "image/png": "[encoded data removed]",
      "text/plain": [
       "<Figure size 400x80 with 5 Axes>"
      ]
     },
     "metadata": {},
     "output_type": "display_data"
    },
    {
     "name": "stdout",
     "output_type": "stream",
     "text": [
      "10\n"
     ]
    },
    {
     "data": {
      "image/png": "[encoded data removed]",
      "text/plain": [
       "<Figure size 400x80 with 5 Axes>"
      ]
     },
     "metadata": {},
     "output_type": "display_data"
    },
    {
     "name": "stdout",
     "output_type": "stream",
     "text": [
      "11\n"
     ]
    },
    {
     "data": {
      "image/png": "[encoded data removed]",
      "text/plain": [
       "<Figure size 400x80 with 5 Axes>"
      ]
     },
     "metadata": {},
     "output_type": "display_data"
    },
    {
     "name": "stdout",
     "output_type": "stream",
     "text": [
      "12\n"
     ]
    },
    {
     "data": {
      "image/png": "[encoded data removed]",
      "text/plain": [
       "<Figure size 400x80 with 5 Axes>"
      ]
     },
     "metadata": {},
     "output_type": "display_data"
    },
    {
     "name": "stdout",
     "output_type": "stream",
     "text": [
      "13\n"
     ]
    },
    {
     "data": {
      "image/png": "[encoded data removed]",
      "text/plain": [
       "<Figure size 400x80 with 5 Axes>"
      ]
     },
     "metadata": {},
     "output_type": "display_data"
    },
    {
     "name": "stdout",
     "output_type": "stream",
     "text": [
      "14\n"
     ]
    },
    {
     "data": {
      "image/png": "[encoded data removed]",
      "text/plain": [
       "<Figure size 400x80 with 5 Axes>"
      ]
     },
     "metadata": {},
     "output_type": "display_data"
    },
    {
     "name": "stdout",
     "output_type": "stream",
     "text": [
      "15\n"
     ]
    },
    {
     "data": {
      "image/png": "[encoded data removed]",
      "text/plain": [
       "<Figure size 400x80 with 5 Axes>"
      ]
     },
     "metadata": {},
     "output_type": "display_data"
    },
    {
     "name": "stdout",
     "output_type": "stream",
     "text": [
      "16\n"
     ]
    },
    {
     "data": {
      "image/png": "[encoded data removed]",
      "text/plain": [
       "<Figure size 400x80 with 5 Axes>"
      ]
     },
     "metadata": {},
     "output_type": "display_data"
    },
    {
     "name": "stdout",
     "output_type": "stream",
     "text": [
      "17\n"
     ]
    },
    {
     "data": {
      "image/png": "[encoded data removed]",
      "text/plain": [
       "<Figure size 400x80 with 5 Axes>"
      ]
     },
     "metadata": {},
     "output_type": "display_data"
    },
    {
     "name": "stdout",
     "output_type": "stream",
     "text": [
      "18\n"
     ]
    },
    {
     "data": {
      "image/png": "[encoded data removed]",
      "text/plain": [
       "<Figure size 400x80 with 5 Axes>"
      ]
     },
     "metadata": {},
     "output_type": "display_data"
    },
    {
     "name": "stdout",
     "output_type": "stream",
     "text": [
      "19\n"
     ]
    },
    {
     "data": {
      "image/png": "[encoded data removed]",
      "text/plain": [
       "<Figure size 400x80 with 5 Axes>"
      ]
     },
     "metadata": {},
     "output_type": "display_data"
    }
   ],
   "source": [
    "for i, (item1, item2, item3) in enumerate(zip(figures[0],figures[1],figures[2])):\n",
    "    print(i)\n",
    "    plot_digits([item1[0], item1[1], item1[2], item2[2], item3[2]], n_qubits)"
   ]
  },
  {
   "cell_type": "code",
   "execution_count": null,
   "metadata": {},
   "outputs": [],
   "source": []
  }
 ],
 "metadata": {
  "kernelspec": {
   "display_name": "py39",
   "language": "python",
   "name": "python3"
  },
  "language_info": {
   "codemirror_mode": {
    "name": "ipython",
    "version": 3
   },
   "file_extension": ".py",
   "mimetype": "text/x-python",
   "name": "python",
   "nbconvert_exporter": "python",
   "pygments_lexer": "ipython3",
   "version": "3.11.5"
  },
  "orig_nbformat": 4
 },
 "nbformat": 4,
 "nbformat_minor": 2
}

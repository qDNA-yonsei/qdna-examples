{
 "cells": [
  {
   "cell_type": "code",
   "execution_count": 1,
   "metadata": {},
   "outputs": [],
   "source": [
    "import numpy as np\n",
    "from qiskit import QuantumCircuit, ClassicalRegister\n",
    "from qiskit.quantum_info import Statevector, DensityMatrix, partial_trace, state_fidelity\n",
    "from qiskit_experiments.library import StateTomography\n",
    "from qclib.state_preparation import MixedInitialize, BaaLowRankInitialize\n",
    "from qclib.state_preparation.util.baa import adaptive_approximation\n",
    "from qclib.machine_learning.datasets import digits\n",
    "from qclib.entanglement import schmidt_decomposition\n",
    "from qclib.state_preparation.util.baa import _split_combinations\n",
    "from qclib.util import get_cnot_count\n",
    "\n",
    "# If you are not using the `qdna-lib` source code,\n",
    "# comment out the following two lines.\n",
    "import sys\n",
    "sys.path.append('../../qdna-lib/')\n",
    "\n",
    "from qdna.compression import SchmidtCompressor"
   ]
  },
  {
   "cell_type": "markdown",
   "metadata": {},
   "source": [
    "***\n",
    "## Configuration\n",
    "***"
   ]
  },
  {
   "cell_type": "code",
   "execution_count": 2,
   "metadata": {},
   "outputs": [],
   "source": [
    "shots = 1024 * 8\n",
    "backend_type = 'local' # local, local_noisy, cloud, cloud_device\n",
    "calc_type = 'tomography' # quasi-probs, tomography\n",
    "classes = [0,1]\n",
    "training_size = 160\n",
    "test_size = 10\n",
    "n_qubits = 6\n",
    "low_rank = 0\n",
    "max_fidelity_loss = 0.0\n",
    "baa_strategy = 'brute_force'\n",
    "use_low_rank = True"
   ]
  },
  {
   "cell_type": "markdown",
   "metadata": {},
   "source": [
    "***\n",
    "## Backend configuration\n",
    "***"
   ]
  },
  {
   "cell_type": "code",
   "execution_count": 3,
   "metadata": {},
   "outputs": [],
   "source": [
    "noise_model = None\n",
    "coupling_map = None\n",
    "basis_gates = None\n",
    "\n",
    "if backend_type == 'cloud':\n",
    "    # Cloud noiseless simulation\n",
    "    from qiskit_ibm_provider import IBMProvider\n",
    "    from qiskit.primitives import BackendSampler\n",
    "\n",
    "    provider = IBMProvider(instance='ibm-q/open/main')\n",
    "    backend  = provider.get_backend('ibmq_qasm_simulator')\n",
    "    sampler = BackendSampler(\n",
    "        backend=backend,\n",
    "        options = {\n",
    "            'shots' : shots\n",
    "        }\n",
    "    )\n",
    "\n",
    "elif backend_type == 'cloud_device':\n",
    "    # Cloud device\n",
    "    from qiskit_ibm_provider import IBMProvider\n",
    "    from qiskit.primitives import BackendSampler\n",
    "\n",
    "    provider = IBMProvider(instance='ibm-q/open/main')\n",
    "    backend  = provider.get_backend('ibm_osaka')\n",
    "    sampler = BackendSampler(\n",
    "        backend=backend,\n",
    "        options = {\n",
    "            'shots' : shots\n",
    "        }\n",
    "    )\n",
    "\n",
    "elif backend_type == 'local_noisy':\n",
    "    # Local noisy simulation\n",
    "    from qiskit_aer import AerSimulator\n",
    "    from qiskit.primitives import BackendSampler\n",
    "    from qiskit.providers.fake_provider import FakeMumbai\n",
    "    \n",
    "    noisy_backend = FakeMumbai()\n",
    "    \n",
    "    backend = AerSimulator.from_backend(noisy_backend)\n",
    "    sampler = BackendSampler(\n",
    "        backend=backend,\n",
    "        options = {\n",
    "            'shots' : shots\n",
    "        }\n",
    "    )\n",
    "\n",
    "else:\n",
    "    # Local noiseless simulation\n",
    "    from qiskit_aer import AerSimulator\n",
    "    from qiskit.primitives import BackendSampler\n",
    "    backend = AerSimulator(shots=shots)\n",
    "    sampler = BackendSampler(\n",
    "        backend=backend,\n",
    "        options = {\n",
    "            'shots' : shots\n",
    "        }\n",
    "    )"
   ]
  },
  {
   "cell_type": "markdown",
   "metadata": {},
   "source": [
    "***\n",
    "## Dataset\n",
    "***"
   ]
  },
  {
   "cell_type": "code",
   "execution_count": 4,
   "metadata": {},
   "outputs": [],
   "source": [
    "# Dataset load.\n",
    "seed = 42\n",
    "\n",
    "# Here you can choose the dataset classes. For example: [3], [0,1], [1,8], [2,4,7], etc.\n",
    "sample_total, training_input, test_input, class_labels = digits.load(classes=classes,\n",
    "                                                                     training_size=training_size,\n",
    "                                                                     test_size=test_size,\n",
    "                                                                     random_seed=seed,\n",
    "                                                                     features=2**n_qubits)\n",
    "feature_dim = len(training_input[class_labels[0]][0])\n",
    "n_qubits = int(np.ceil(np.log2(feature_dim)))\n",
    "\n",
    "# Variables to collect data for the summary.\n",
    "fidelities = [[],[],[]]\n",
    "figures = [[],[],[]]"
   ]
  },
  {
   "cell_type": "code",
   "execution_count": 5,
   "metadata": {},
   "outputs": [
    {
     "name": "stdout",
     "output_type": "stream",
     "text": [
      "(160, 64)\n",
      "(160, 64)\n",
      "(10, 64)\n",
      "(10, 64)\n"
     ]
    }
   ],
   "source": [
    "# Prints information on training and test datasets.\n",
    "for _, train_samples in training_input.items():\n",
    "    print(train_samples.shape)\n",
    "for _, test_samples in test_input.items():\n",
    "    print(test_samples.shape)"
   ]
  },
  {
   "cell_type": "markdown",
   "metadata": {},
   "source": [
    "***\n",
    "## Experiment main routine\n",
    "***"
   ]
  },
  {
   "cell_type": "code",
   "execution_count": 6,
   "metadata": {},
   "outputs": [],
   "source": [
    "def calc_fidelity(state1, state2):\n",
    "    bra = np.conj(state1)\n",
    "    ket = state2\n",
    "\n",
    "    return np.power(np.abs(bra.dot(ket)), 2)\n",
    "\n",
    "def measurement(circuit, n_qubits, classical_register, backend, shots):\n",
    "    \"\"\" run circuit and return measurements \"\"\"\n",
    "    circuit.measure(range(n_qubits), classical_register)\n",
    "\n",
    "    result = sampler.run(circuit).result()\n",
    "\n",
    "    counts = result.quasi_dists[0]\n",
    "\n",
    "    counts2 = {}\n",
    "    for k in range(2 ** n_qubits):\n",
    "        if k in counts:\n",
    "            counts2[k] = counts[k]\n",
    "        else:\n",
    "            counts2[k] = 0.0\n",
    "\n",
    "    return np.array([value for (_, value) in counts2.items()])\n",
    "\n",
    "def plot_digits(vectors, num_data_qubits, text=''):\n",
    "    import matplotlib.pyplot as plt\n",
    "    _dpi = 96\n",
    "    matrix_dim_1 = 2**(int(np.ceil(num_data_qubits/2)))\n",
    "    matrix_dim_2 = 2**(int(np.floor(num_data_qubits/2)))\n",
    "\n",
    "    ncols = len(vectors)\n",
    "    _, axes = plt.subplots(\n",
    "        nrows=1,\n",
    "        ncols=ncols,\n",
    "        figsize=(\n",
    "            ncols*10*matrix_dim_1/_dpi,\n",
    "            10*matrix_dim_2/_dpi\n",
    "        ),\n",
    "        dpi=_dpi\n",
    "    )\n",
    "    for ax, vector in zip(axes, vectors):\n",
    "        ax.set_axis_off()\n",
    "        image = vector.reshape(matrix_dim_1, matrix_dim_2)\n",
    "        ax.imshow(image, cmap=plt.cm.gray, interpolation='none')\n",
    "\n",
    "    plt.show()\n",
    "\n",
    "def calc_probabilities(circuit, test_sample):\n",
    "    \n",
    "    if calc_type == 'tomography':\n",
    "        st = StateTomography(\n",
    "            circuit,\n",
    "            measurement_indices=range(n_qubits)\n",
    "        )\n",
    "        st_data = st.run(\n",
    "            backend,\n",
    "            basis_gates=basis_gates,\n",
    "            coupling_map=coupling_map,\n",
    "            shots=shots\n",
    "        ).block_for_results()\n",
    "        state = st_data.analysis_results(\"state\").value\n",
    "        rho = DensityMatrix(state)\n",
    "        sigma = DensityMatrix(test_sample, dims=2**n_qubits)\n",
    "        fidelity = state_fidelity(sigma.data, rho.data)\n",
    "        output_probs = rho.probabilities(range(n_qubits))\n",
    "    else:\n",
    "        c_reg = ClassicalRegister(n_qubits)\n",
    "        circuit.add_register(c_reg)\n",
    "        output_probs = measurement(circuit, n_qubits, c_reg, backend, shots)\n",
    "        fidelity = calc_fidelity(test_sample, np.sqrt(output_probs))\n",
    "\n",
    "    return output_probs, fidelity\n",
    "\n",
    "# Creates an example of the circuit.\n",
    "def complete_circuit(initializer, compressor, decompressor, reference=None):\n",
    "\n",
    "    # Info about the auxiliary space.\n",
    "    len_aux = 0\n",
    "    len_reference = 0\n",
    "    if reference is not None:\n",
    "        len_aux = reference[0].num_qubits // 2\n",
    "        len_reference = len(reference)\n",
    "\n",
    "    n_trash_qubits = len(compressor.trash_qubits)\n",
    "    n_aux_qubits = len_aux * len_reference\n",
    "\n",
    "    # Creates the quantum circuit.\n",
    "    circuit = QuantumCircuit(n_qubits + n_trash_qubits + n_aux_qubits)\n",
    "\n",
    "    latent_qubits = np.array(compressor.latent_qubits)\n",
    "    trash_qubits = np.array(range(n_qubits, n_qubits+n_trash_qubits))\n",
    "    aux_qubits = np.array(range(n_qubits+n_trash_qubits, n_qubits + n_trash_qubits + n_aux_qubits))\n",
    "\n",
    "    # Circuit on Alice's side.\n",
    "    alice_register = np.array([None] * compressor.num_qubits)\n",
    "    alice_register[compressor.trash_qubits] = trash_qubits[:]\n",
    "    alice_register[compressor.latent_qubits] = latent_qubits[:]\n",
    "    \n",
    "    circuit.append(initializer.definition, [*alice_register])\n",
    "    circuit.append(compressor.definition, [*alice_register])\n",
    "\n",
    "    # Circuit on Bob's side.\n",
    "    bob_register = list(range(n_qubits))\n",
    "\n",
    "    if reference is not None:\n",
    "        circuit.barrier()\n",
    "        bob_trash_qubits = np.array(decompressor.trash_qubits)\n",
    "        for i, ref_initializer in enumerate(reference):\n",
    "            qubits_idx = list(range(i * len_aux, (i+1) * len_aux))\n",
    "            circuit.compose(\n",
    "                ref_initializer.definition,\n",
    "                [*aux_qubits[qubits_idx], *bob_trash_qubits[qubits_idx]],\n",
    "                inplace=True\n",
    "            )\n",
    "        circuit.barrier()\n",
    "    circuit.append(decompressor.definition, bob_register)\n",
    "\n",
    "    return circuit  \n",
    "\n",
    "def experiment(test_input, compressor, decompressor, references=None, verbose=1):\n",
    "    # Applies the compression-decompression process to each of the test samples.\n",
    "\n",
    "    fidelities = []\n",
    "    figures = []\n",
    "\n",
    "    # Iterates through all test samples.\n",
    "    for i, test_sample in enumerate(np.concatenate([test_samples for _, test_samples in test_input.items()])):\n",
    "        reference = None\n",
    "        if references is not None:\n",
    "            reference = references[i]\n",
    "\n",
    "        # initializer = StatePreparation(test_sample)\n",
    "        initializer = BaaLowRankInitialize(\n",
    "            test_sample,\n",
    "            opt_params={\n",
    "                'max_fidelity_loss': max_fidelity_loss,\n",
    "                'strategy': baa_strategy,\n",
    "                'use_low_rank': use_low_rank\n",
    "            }\n",
    "        )\n",
    "        circuit = complete_circuit(initializer, compressor, decompressor, reference=reference)\n",
    "\n",
    "        output_probs, fidelity = calc_probabilities(circuit, test_sample)\n",
    "        \n",
    "        # Calculates the approximate state vector\n",
    "        node = adaptive_approximation(\n",
    "            test_sample,\n",
    "            max_fidelity_loss=max_fidelity_loss,\n",
    "            strategy=baa_strategy,\n",
    "            use_low_rank=use_low_rank\n",
    "        )\n",
    "\n",
    "        # Stores and prints the results.\n",
    "        fidelities.append(fidelity)\n",
    "        figures.append([np.abs(test_sample)**2, np.abs(node.state_vector())**2, output_probs])\n",
    "        if verbose > 0:\n",
    "            print(i, '- Recovered state fidelity =', fidelity)\n",
    "        if verbose > 1:\n",
    "            plot_digits([np.abs(test_sample)**2, np.abs(node.state_vector())**2, output_probs], n_qubits)\n",
    "\n",
    "    return fidelities, figures"
   ]
  },
  {
   "cell_type": "markdown",
   "metadata": {},
   "source": [
    "***\n",
    "## Calculates the typical state\n",
    "***"
   ]
  },
  {
   "cell_type": "code",
   "execution_count": 7,
   "metadata": {},
   "outputs": [
    {
     "name": "stdout",
     "output_type": "stream",
     "text": [
      "(64,)\n"
     ]
    }
   ],
   "source": [
    "# Estimate the centroid.\n",
    "# Simply the average of the training samples (or a random selection of samples).\n",
    "\n",
    "centroid = np.zeros(2**n_qubits)\n",
    "for train_sample in np.concatenate([train_samples for _, train_samples in training_input.items()]):\n",
    "    # Calculates the approximate state vector\n",
    "    node = adaptive_approximation(\n",
    "        train_sample,\n",
    "        max_fidelity_loss=max_fidelity_loss,\n",
    "        strategy=baa_strategy,\n",
    "        use_low_rank=use_low_rank\n",
    "    )\n",
    "    centroid += node.state_vector()\n",
    "\n",
    "typical_state = centroid / np.linalg.norm(centroid)\n",
    "\n",
    "print(typical_state.shape)"
   ]
  },
  {
   "cell_type": "code",
   "execution_count": 8,
   "metadata": {},
   "outputs": [
    {
     "data": {
      "text/plain": [
       "1.0"
      ]
     },
     "execution_count": 8,
     "metadata": {},
     "output_type": "execute_result"
    }
   ],
   "source": [
    "np.linalg.norm(typical_state)"
   ]
  },
  {
   "cell_type": "markdown",
   "metadata": {},
   "source": [
    "***\n",
    "## Find the best partitioning configuration.\n",
    "***"
   ]
  },
  {
   "cell_type": "code",
   "execution_count": 9,
   "metadata": {},
   "outputs": [
    {
     "name": "stdout",
     "output_type": "stream",
     "text": [
      "trash_qubits (0, 1, 2) entropy 0.2671940046300695\n",
      "trash_qubits (0, 1, 3) entropy 0.9286829198048681\n",
      "trash_qubits (0, 1, 4) entropy 0.9405683918342369\n",
      "trash_qubits (0, 1, 5) entropy 0.4312852752224746\n",
      "trash_qubits (0, 2, 3) entropy 0.9722818204677055\n",
      "trash_qubits (0, 2, 4) entropy 0.9615693411987976\n",
      "trash_qubits (0, 2, 5) entropy 0.43194813154194395\n",
      "trash_qubits (0, 3, 4) entropy 0.3896715799342443\n",
      "trash_qubits (0, 3, 5) entropy 0.9311020598127034\n",
      "trash_qubits (0, 4, 5) entropy 0.948098211267135\n"
     ]
    }
   ],
   "source": [
    "# Defines the number of latent qubits.\n",
    "# `0 < n_latent_qubits < n_qubits`.\n",
    "n_latent_qubits = n_qubits // 2\n",
    "\n",
    "n_trash_qubits = n_qubits - n_latent_qubits\n",
    "\n",
    "def von_neumann_entropy(singular_values):\n",
    "    squared_singular_values = np.power([s for s in singular_values if s >= 1e-17], 2)\n",
    "    return -np.sum(squared_singular_values * np.log(squared_singular_values))\n",
    "\n",
    "# Set `min_entropy` equal to the maximum entropy for the system.\n",
    "min_entropy = von_neumann_entropy(\n",
    "    [1/np.sqrt(2**n_latent_qubits)] * 2**n_latent_qubits\n",
    ")\n",
    "\n",
    "for trash_qubits in _split_combinations(range(n_qubits), n_trash_qubits):\n",
    "    rank, svd_u, singular_values, svd_v = schmidt_decomposition(\n",
    "        typical_state, trash_qubits, rank=0, svd='auto'\n",
    "    )\n",
    "    \n",
    "    entropy = von_neumann_entropy(singular_values)\n",
    "\n",
    "    print('trash_qubits', trash_qubits, 'entropy', entropy)\n",
    "    if entropy <= min_entropy:\n",
    "        min_entropy = entropy\n",
    "        latent_qubits = sorted(set(range(n_qubits)).difference(set(trash_qubits)))"
   ]
  },
  {
   "cell_type": "code",
   "execution_count": 10,
   "metadata": {},
   "outputs": [
    {
     "name": "stdout",
     "output_type": "stream",
     "text": [
      "Best channel: [3, 4, 5]\n"
     ]
    }
   ],
   "source": [
    "print('Best channel:', latent_qubits)"
   ]
  },
  {
   "cell_type": "markdown",
   "metadata": {},
   "source": [
    "***\n",
    "## Creates the compressor and the decompressor\n",
    "***"
   ]
  },
  {
   "cell_type": "code",
   "execution_count": 11,
   "metadata": {},
   "outputs": [],
   "source": [
    "# Creates the compressor.\n",
    "\n",
    "# These are the qubits of the quantum channel for data transmission.\n",
    "# It can take on any configuration. For example: [0], [0,1,2,3,4], [1,3,5], etc.\n",
    "# latent_qubits = [3,4,5]\n",
    "\n",
    "compressor = SchmidtCompressor(\n",
    "    typical_state,\n",
    "    opt_params={'partition': latent_qubits, 'lr': low_rank}\n",
    ")\n",
    "decompressor = compressor.inverse()"
   ]
  },
  {
   "cell_type": "code",
   "execution_count": 12,
   "metadata": {},
   "outputs": [
    {
     "name": "stdout",
     "output_type": "stream",
     "text": [
      "43\n"
     ]
    }
   ],
   "source": [
    "print(get_cnot_count(compressor.definition))"
   ]
  },
  {
   "cell_type": "markdown",
   "metadata": {},
   "source": [
    "***\n",
    "## Experiment without optimization\n",
    "***\n",
    "Using |0> as the reference state."
   ]
  },
  {
   "cell_type": "markdown",
   "metadata": {},
   "source": [
    "\n",
    "### Draw an example of the circuit\n"
   ]
  },
  {
   "cell_type": "code",
   "execution_count": 13,
   "metadata": {},
   "outputs": [
    {
     "data": {
      "image/png": "[encoded data removed]",
      "text/plain": [
       "<Figure size 394.582x392.972 with 1 Axes>"
      ]
     },
     "execution_count": 13,
     "metadata": {},
     "output_type": "execute_result"
    }
   ],
   "source": [
    "circuit = complete_circuit(\n",
    "    BaaLowRankInitialize(\n",
    "        typical_state,\n",
    "        opt_params={\n",
    "            'max_fidelity_loss': max_fidelity_loss,\n",
    "            'strategy': baa_strategy,\n",
    "            'use_low_rank': use_low_rank\n",
    "        }\n",
    "    ),\n",
    "    compressor,\n",
    "    decompressor\n",
    ")\n",
    "# Draw the circuit diagram.\n",
    "circuit.draw('mpl', scale=0.5, style=\"iqp\")"
   ]
  },
  {
   "cell_type": "code",
   "execution_count": 14,
   "metadata": {},
   "outputs": [
    {
     "name": "stdout",
     "output_type": "stream",
     "text": [
      "133\n"
     ]
    }
   ],
   "source": [
    "print(get_cnot_count(circuit))"
   ]
  },
  {
   "cell_type": "markdown",
   "metadata": {},
   "source": [
    "### Run the experiment without optimization"
   ]
  },
  {
   "cell_type": "code",
   "execution_count": 15,
   "metadata": {},
   "outputs": [
    {
     "name": "stdout",
     "output_type": "stream",
     "text": [
      "0 - Recovered state fidelity = 0.8675603636595267\n"
     ]
    },
    {
     "data": {
      "image/png": "[encoded data removed]",
      "text/plain": [
       "<Figure size 240x80 with 3 Axes>"
      ]
     },
     "metadata": {},
     "output_type": "display_data"
    },
    {
     "name": "stdout",
     "output_type": "stream",
     "text": [
      "1 - Recovered state fidelity = 0.6750814343613838\n"
     ]
    },
    {
     "data": {
      "image/png": "[encoded data removed]",
      "text/plain": [
       "<Figure size 240x80 with 3 Axes>"
      ]
     },
     "metadata": {},
     "output_type": "display_data"
    },
    {
     "name": "stdout",
     "output_type": "stream",
     "text": [
      "2 - Recovered state fidelity = 0.8541329493127416\n"
     ]
    },
    {
     "data": {
      "image/png": "[encoded data removed]",
      "text/plain": [
       "<Figure size 240x80 with 3 Axes>"
      ]
     },
     "metadata": {},
     "output_type": "display_data"
    },
    {
     "name": "stdout",
     "output_type": "stream",
     "text": [
      "3 - Recovered state fidelity = 0.7724655814808706\n"
     ]
    },
    {
     "data": {
      "image/png": "[encoded data removed]",
      "text/plain": [
       "<Figure size 240x80 with 3 Axes>"
      ]
     },
     "metadata": {},
     "output_type": "display_data"
    },
    {
     "name": "stdout",
     "output_type": "stream",
     "text": [
      "4 - Recovered state fidelity = 0.6179585272092195\n"
     ]
    },
    {
     "data": {
      "image/png": "[encoded data removed]",
      "text/plain": [
       "<Figure size 240x80 with 3 Axes>"
      ]
     },
     "metadata": {},
     "output_type": "display_data"
    },
    {
     "name": "stdout",
     "output_type": "stream",
     "text": [
      "5 - Recovered state fidelity = 0.7586469290003383\n"
     ]
    },
    {
     "data": {
      "image/png": "[encoded data removed]",
      "text/plain": [
       "<Figure size 240x80 with 3 Axes>"
      ]
     },
     "metadata": {},
     "output_type": "display_data"
    },
    {
     "name": "stdout",
     "output_type": "stream",
     "text": [
      "6 - Recovered state fidelity = 0.7961715588687016\n"
     ]
    },
    {
     "data": {
      "image/png": "[encoded data removed]",
      "text/plain": [
       "<Figure size 240x80 with 3 Axes>"
      ]
     },
     "metadata": {},
     "output_type": "display_data"
    },
    {
     "name": "stdout",
     "output_type": "stream",
     "text": [
      "7 - Recovered state fidelity = 0.6416531922131602\n"
     ]
    },
    {
     "data": {
      "image/png": "[encoded data removed]",
      "text/plain": [
       "<Figure size 240x80 with 3 Axes>"
      ]
     },
     "metadata": {},
     "output_type": "display_data"
    },
    {
     "name": "stdout",
     "output_type": "stream",
     "text": [
      "8 - Recovered state fidelity = 0.6555940024261881\n"
     ]
    },
    {
     "data": {
      "image/png": "[encoded data removed]",
      "text/plain": [
       "<Figure size 240x80 with 3 Axes>"
      ]
     },
     "metadata": {},
     "output_type": "display_data"
    },
    {
     "name": "stdout",
     "output_type": "stream",
     "text": [
      "9 - Recovered state fidelity = 0.66569624707277\n"
     ]
    },
    {
     "data": {
      "image/png": "[encoded data removed]",
      "text/plain": [
       "<Figure size 240x80 with 3 Axes>"
      ]
     },
     "metadata": {},
     "output_type": "display_data"
    },
    {
     "name": "stdout",
     "output_type": "stream",
     "text": [
      "10 - Recovered state fidelity = 0.5889098367625941\n"
     ]
    },
    {
     "data": {
      "image/png": "[encoded data removed]",
      "text/plain": [
       "<Figure size 240x80 with 3 Axes>"
      ]
     },
     "metadata": {},
     "output_type": "display_data"
    },
    {
     "name": "stdout",
     "output_type": "stream",
     "text": [
      "11 - Recovered state fidelity = 0.5760108045210722\n"
     ]
    },
    {
     "data": {
      "image/png": "[encoded data removed]",
      "text/plain": [
       "<Figure size 240x80 with 3 Axes>"
      ]
     },
     "metadata": {},
     "output_type": "display_data"
    },
    {
     "name": "stdout",
     "output_type": "stream",
     "text": [
      "12 - Recovered state fidelity = 0.41641384402107906\n"
     ]
    },
    {
     "data": {
      "image/png": "[encoded data removed]",
      "text/plain": [
       "<Figure size 240x80 with 3 Axes>"
      ]
     },
     "metadata": {},
     "output_type": "display_data"
    },
    {
     "name": "stdout",
     "output_type": "stream",
     "text": [
      "13 - Recovered state fidelity = 0.6189516170432499\n"
     ]
    },
    {
     "data": {
      "image/png": "[encoded data removed]",
      "text/plain": [
       "<Figure size 240x80 with 3 Axes>"
      ]
     },
     "metadata": {},
     "output_type": "display_data"
    },
    {
     "name": "stdout",
     "output_type": "stream",
     "text": [
      "14 - Recovered state fidelity = 0.6587816675034431\n"
     ]
    },
    {
     "data": {
      "image/png": "[encoded data removed]",
      "text/plain": [
       "<Figure size 240x80 with 3 Axes>"
      ]
     },
     "metadata": {},
     "output_type": "display_data"
    },
    {
     "name": "stdout",
     "output_type": "stream",
     "text": [
      "15 - Recovered state fidelity = 0.5375236094267828\n"
     ]
    },
    {
     "data": {
      "image/png": "[encoded data removed]",
      "text/plain": [
       "<Figure size 240x80 with 3 Axes>"
      ]
     },
     "metadata": {},
     "output_type": "display_data"
    },
    {
     "name": "stdout",
     "output_type": "stream",
     "text": [
      "16 - Recovered state fidelity = 0.46037254994149424\n"
     ]
    },
    {
     "data": {
      "image/png": "[encoded data removed]",
      "text/plain": [
       "<Figure size 240x80 with 3 Axes>"
      ]
     },
     "metadata": {},
     "output_type": "display_data"
    },
    {
     "name": "stdout",
     "output_type": "stream",
     "text": [
      "17 - Recovered state fidelity = 0.7205807330135221\n"
     ]
    },
    {
     "data": {
      "image/png": "[encoded data removed]",
      "text/plain": [
       "<Figure size 240x80 with 3 Axes>"
      ]
     },
     "metadata": {},
     "output_type": "display_data"
    },
    {
     "name": "stdout",
     "output_type": "stream",
     "text": [
      "18 - Recovered state fidelity = 0.7707479103729646\n"
     ]
    },
    {
     "data": {
      "image/png": "[encoded data removed]",
      "text/plain": [
       "<Figure size 240x80 with 3 Axes>"
      ]
     },
     "metadata": {},
     "output_type": "display_data"
    },
    {
     "name": "stdout",
     "output_type": "stream",
     "text": [
      "19 - Recovered state fidelity = 0.5334803259028755\n"
     ]
    },
    {
     "data": {
      "image/png": "[encoded data removed]",
      "text/plain": [
       "<Figure size 240x80 with 3 Axes>"
      ]
     },
     "metadata": {},
     "output_type": "display_data"
    }
   ],
   "source": [
    "fidelities[0], figures[0] = experiment(\n",
    "    test_input,\n",
    "    compressor,\n",
    "    decompressor,\n",
    "    verbose=2\n",
    ")"
   ]
  },
  {
   "cell_type": "markdown",
   "metadata": {},
   "source": [
    "***\n",
    "## Experiment with optimization 1\n",
    "***\n",
    "This optimization is based on the conservation of entropy.\n",
    "As we are dealing with a pure state (Alice's side), our goal is to produce an initial state of zero entropy (or close to zero) on Bob's side."
   ]
  },
  {
   "cell_type": "markdown",
   "metadata": {},
   "source": [
    "### Constructs the set of gates to initialize the mixed-states."
   ]
  },
  {
   "cell_type": "code",
   "execution_count": 16,
   "metadata": {},
   "outputs": [],
   "source": [
    "# Applies the compression process to each of the train samples,\n",
    "# calculates the correspondent trash state,\n",
    "# and stores the correspondent mixed state initializer gate.\n",
    "\n",
    "references_1 = []\n",
    "for i, test_sample in enumerate(np.concatenate([test_samples for _, test_samples in test_input.items()])):\n",
    "    initializer = BaaLowRankInitialize(\n",
    "        test_sample,\n",
    "        opt_params={\n",
    "            'max_fidelity_loss': max_fidelity_loss,\n",
    "            'strategy': baa_strategy,\n",
    "            'use_low_rank': use_low_rank\n",
    "        }\n",
    "    )\n",
    "\n",
    "    circuit = QuantumCircuit(n_qubits)\n",
    "    circuit.append(initializer.definition, range(n_qubits))\n",
    "    circuit.append(compressor.definition, range(n_qubits))\n",
    "\n",
    "    trash_state = partial_trace(Statevector(circuit), compressor.latent_qubits)\n",
    "    references_1.append([\n",
    "        MixedInitialize(\n",
    "            trash_state.data.T,\n",
    "            classical=True,\n",
    "            reset=False,\n",
    "            initializer=BaaLowRankInitialize,\n",
    "            opt_params={\n",
    "                'max_fidelity_loss': max_fidelity_loss,\n",
    "                'strategy': baa_strategy,\n",
    "                'use_low_rank': use_low_rank\n",
    "            }\n",
    "        )\n",
    "    ])"
   ]
  },
  {
   "cell_type": "markdown",
   "metadata": {},
   "source": [
    "### Draw an example of the reference state initializer"
   ]
  },
  {
   "cell_type": "code",
   "execution_count": 17,
   "metadata": {},
   "outputs": [
    {
     "data": {
      "image/png": "[encoded data removed]",
      "text/plain": [
       "<Figure size 202.981x267.556 with 1 Axes>"
      ]
     },
     "execution_count": 17,
     "metadata": {},
     "output_type": "execute_result"
    }
   ],
   "source": [
    "references_1[0][0].definition.draw('mpl', scale=0.5, style=\"iqp\")"
   ]
  },
  {
   "cell_type": "markdown",
   "metadata": {},
   "source": [
    "### Draws an example of the complete circuit"
   ]
  },
  {
   "cell_type": "code",
   "execution_count": 18,
   "metadata": {},
   "outputs": [
    {
     "data": {
      "image/png": "[encoded data removed]",
      "text/plain": [
       "<Figure size 654.429x518.389 with 1 Axes>"
      ]
     },
     "execution_count": 18,
     "metadata": {},
     "output_type": "execute_result"
    }
   ],
   "source": [
    "circuit = complete_circuit(\n",
    "    BaaLowRankInitialize(\n",
    "        typical_state,\n",
    "        opt_params={\n",
    "            'max_fidelity_loss': max_fidelity_loss,\n",
    "            'strategy': baa_strategy,\n",
    "            'use_low_rank': use_low_rank\n",
    "        }\n",
    "    ),\n",
    "    compressor,\n",
    "    decompressor,\n",
    "    references_1[0]\n",
    ")\n",
    "# Draw an example of the circuit.\n",
    "circuit.draw('mpl', scale=0.5, style=\"iqp\")"
   ]
  },
  {
   "cell_type": "code",
   "execution_count": 19,
   "metadata": {},
   "outputs": [
    {
     "name": "stdout",
     "output_type": "stream",
     "text": [
      "178\n"
     ]
    }
   ],
   "source": [
    "print(get_cnot_count(circuit))"
   ]
  },
  {
   "cell_type": "markdown",
   "metadata": {},
   "source": [
    "## Optimized experiment:\n",
    "Uses the exact trash state as the reference state.\n",
    "This relies on classical communication, as the trash state must be transmited between Alice and Bob for each execution."
   ]
  },
  {
   "cell_type": "code",
   "execution_count": 20,
   "metadata": {},
   "outputs": [
    {
     "name": "stdout",
     "output_type": "stream",
     "text": [
      "0 - Recovered state fidelity = 0.8927392483531622\n",
      "1 - Recovered state fidelity = 0.6917549522647357\n",
      "2 - Recovered state fidelity = 0.8737518455806903\n",
      "3 - Recovered state fidelity = 0.7901746805985294\n",
      "4 - Recovered state fidelity = 0.6797472494683613\n",
      "5 - Recovered state fidelity = 0.8145828194956741\n",
      "6 - Recovered state fidelity = 0.8303605766929563\n",
      "7 - Recovered state fidelity = 0.6714614796410787\n",
      "8 - Recovered state fidelity = 0.6989831998624132\n",
      "9 - Recovered state fidelity = 0.662379130449898\n",
      "10 - Recovered state fidelity = 0.7899431873919811\n",
      "11 - Recovered state fidelity = 0.6032230023374329\n",
      "12 - Recovered state fidelity = 0.6738939075880326\n",
      "13 - Recovered state fidelity = 0.7742404157015292\n",
      "14 - Recovered state fidelity = 0.89209695103553\n",
      "15 - Recovered state fidelity = 0.6227662789119451\n",
      "16 - Recovered state fidelity = 0.49895853684638636\n",
      "17 - Recovered state fidelity = 0.7685983350237209\n",
      "18 - Recovered state fidelity = 0.8629746521763528\n",
      "19 - Recovered state fidelity = 0.9249554870839983\n"
     ]
    }
   ],
   "source": [
    "fidelities[1], figures[1] = experiment(\n",
    "    test_input,\n",
    "    compressor,\n",
    "    decompressor,\n",
    "    references=references_1,\n",
    "    verbose=1\n",
    ")"
   ]
  },
  {
   "cell_type": "markdown",
   "metadata": {},
   "source": [
    "***\n",
    "## Experiment with optimization 2\n",
    "***\n",
    "This optimization reduces the cost of the previous one by relying on single-qubit tomography. That way, the cost of the tomography is linear on the number of trash qubits, O(n_t), and the cost of the classical communication is also O(n_t)."
   ]
  },
  {
   "cell_type": "markdown",
   "metadata": {},
   "source": [
    "### Constructs the set of gates to initialize the mixed-states."
   ]
  },
  {
   "cell_type": "code",
   "execution_count": 21,
   "metadata": {},
   "outputs": [],
   "source": [
    "references_2 = []\n",
    "\n",
    "for i, test_sample in enumerate(np.concatenate([test_samples for _, test_samples in test_input.items()])):\n",
    "    initializer = BaaLowRankInitialize(\n",
    "        test_sample,\n",
    "        opt_params={\n",
    "            'max_fidelity_loss': max_fidelity_loss,\n",
    "            'strategy': baa_strategy,\n",
    "            'use_low_rank': use_low_rank\n",
    "        }\n",
    "    )\n",
    "\n",
    "    circuit = QuantumCircuit(n_qubits)\n",
    "    circuit.append(initializer.definition, range(n_qubits))\n",
    "    circuit.append(compressor.definition, range(n_qubits))\n",
    "\n",
    "    single_qubit_initializers = []\n",
    "    for trash_qubit in compressor.trash_qubits:\n",
    "        trash_qubits = list(set(compressor.trash_qubits) - set([trash_qubit]))\n",
    "        trash_state = partial_trace(Statevector(circuit), trash_qubits + compressor.latent_qubits)\n",
    "        single_qubit_initializers.append(\n",
    "            MixedInitialize(\n",
    "                trash_state.data.T,\n",
    "                classical=True,\n",
    "                reset=False\n",
    "            )\n",
    "        )\n",
    "\n",
    "    references_2.append(single_qubit_initializers)"
   ]
  },
  {
   "cell_type": "markdown",
   "metadata": {},
   "source": [
    "### Draw an example of the reference state initializer"
   ]
  },
  {
   "cell_type": "code",
   "execution_count": 22,
   "metadata": {},
   "outputs": [
    {
     "data": {
      "image/png": "[encoded data removed]",
      "text/plain": [
       "<Figure size 193.765x100.333 with 1 Axes>"
      ]
     },
     "execution_count": 22,
     "metadata": {},
     "output_type": "execute_result"
    }
   ],
   "source": [
    "references_2[0][0].definition.draw('mpl', scale=0.5, style=\"iqp\")"
   ]
  },
  {
   "cell_type": "markdown",
   "metadata": {},
   "source": [
    "### Draw an example of the complete circuit"
   ]
  },
  {
   "cell_type": "code",
   "execution_count": 23,
   "metadata": {},
   "outputs": [
    {
     "data": {
      "image/png": "[encoded data removed]",
      "text/plain": [
       "<Figure size 905.263x518.389 with 1 Axes>"
      ]
     },
     "execution_count": 23,
     "metadata": {},
     "output_type": "execute_result"
    }
   ],
   "source": [
    "circuit = complete_circuit(\n",
    "    BaaLowRankInitialize(\n",
    "        typical_state,\n",
    "        opt_params={\n",
    "            'max_fidelity_loss': max_fidelity_loss,\n",
    "            'strategy': baa_strategy,\n",
    "            'use_low_rank': use_low_rank\n",
    "        }\n",
    "    ),\n",
    "    compressor,\n",
    "    decompressor,\n",
    "    references_2[0]\n",
    ")\n",
    "# Draw an example of the circuit.\n",
    "circuit.draw('mpl', scale=0.5, style=\"iqp\")"
   ]
  },
  {
   "cell_type": "code",
   "execution_count": 24,
   "metadata": {},
   "outputs": [
    {
     "name": "stdout",
     "output_type": "stream",
     "text": [
      "136\n"
     ]
    }
   ],
   "source": [
    "print(get_cnot_count(circuit))"
   ]
  },
  {
   "cell_type": "markdown",
   "metadata": {},
   "source": [
    "## Optimized experiment:\n",
    "Uses the single-qubit trash states as the reference state.\n",
    "This relies on classical communication, as the trash state must be transmited between Alice and Bob for each execution, but the cost is only O(n_t)."
   ]
  },
  {
   "cell_type": "code",
   "execution_count": 25,
   "metadata": {},
   "outputs": [
    {
     "name": "stdout",
     "output_type": "stream",
     "text": [
      "0 - Recovered state fidelity = 0.8863101872104165\n",
      "1 - Recovered state fidelity = 0.6865288750913623\n",
      "2 - Recovered state fidelity = 0.8691256941991231\n",
      "3 - Recovered state fidelity = 0.7840581023229367\n",
      "4 - Recovered state fidelity = 0.65508040969423\n",
      "5 - Recovered state fidelity = 0.8018233407271513\n",
      "6 - Recovered state fidelity = 0.8255985905880241\n",
      "7 - Recovered state fidelity = 0.6428739455384754\n",
      "8 - Recovered state fidelity = 0.6664703859196667\n",
      "9 - Recovered state fidelity = 0.6499336187942336\n",
      "10 - Recovered state fidelity = 0.5615280389734407\n",
      "11 - Recovered state fidelity = 0.5516049096973018\n",
      "12 - Recovered state fidelity = 0.468265109583054\n",
      "13 - Recovered state fidelity = 0.6297726688263772\n",
      "14 - Recovered state fidelity = 0.8710156062485823\n",
      "15 - Recovered state fidelity = 0.504465790680518\n",
      "16 - Recovered state fidelity = 0.42377657495681326\n",
      "17 - Recovered state fidelity = 0.7313465862635634\n",
      "18 - Recovered state fidelity = 0.818046583343552\n",
      "19 - Recovered state fidelity = 0.8762365414841924\n"
     ]
    }
   ],
   "source": [
    "fidelities[2], figures[2] = experiment(\n",
    "    test_input,\n",
    "    compressor,\n",
    "    decompressor,\n",
    "    references=references_2,\n",
    "    verbose=1\n",
    ")"
   ]
  },
  {
   "cell_type": "markdown",
   "metadata": {},
   "source": [
    "***\n",
    "## Summary\n",
    "***"
   ]
  },
  {
   "cell_type": "code",
   "execution_count": 26,
   "metadata": {},
   "outputs": [
    {
     "name": "stdout",
     "output_type": "stream",
     "text": [
      "0 - 0.8675603636595267 0.8927392483531622 0.8863101872104165\n",
      "1 - 0.6750814343613838 0.6917549522647357 0.6865288750913623\n",
      "2 - 0.8541329493127416 0.8737518455806903 0.8691256941991231\n",
      "3 - 0.7724655814808706 0.7901746805985294 0.7840581023229367\n",
      "4 - 0.6179585272092195 0.6797472494683613 0.65508040969423\n",
      "5 - 0.7586469290003383 0.8145828194956741 0.8018233407271513\n",
      "6 - 0.7961715588687016 0.8303605766929563 0.8255985905880241\n",
      "7 - 0.6416531922131602 0.6714614796410787 0.6428739455384754\n",
      "8 - 0.6555940024261881 0.6989831998624132 0.6664703859196667\n",
      "9 - 0.66569624707277 0.662379130449898 0.6499336187942336\n",
      "10 - 0.5889098367625941 0.7899431873919811 0.5615280389734407\n",
      "11 - 0.5760108045210722 0.6032230023374329 0.5516049096973018\n",
      "12 - 0.41641384402107906 0.6738939075880326 0.468265109583054\n",
      "13 - 0.6189516170432499 0.7742404157015292 0.6297726688263772\n",
      "14 - 0.6587816675034431 0.89209695103553 0.8710156062485823\n",
      "15 - 0.5375236094267828 0.6227662789119451 0.504465790680518\n",
      "16 - 0.46037254994149424 0.49895853684638636 0.42377657495681326\n",
      "17 - 0.7205807330135221 0.7685983350237209 0.7313465862635634\n",
      "18 - 0.7707479103729646 0.8629746521763528 0.818046583343552\n",
      "19 - 0.5334803259028755 0.9249554870839983 0.8762365414841924\n",
      "\n",
      "avg 0.6593366842056989 0.7508792968252205 0.6951930780071508\n",
      "min 0.41641384402107906 0.49895853684638636 0.42377657495681326\n",
      "max 0.8675603636595267 0.9249554870839983 0.8863101872104165\n",
      "std 0.11916134607486582 0.11075462375105555 0.1404884187931016\n"
     ]
    }
   ],
   "source": [
    "zip_fidelities = list(zip(fidelities[0],fidelities[1],fidelities[2]))\n",
    "for i, (item1, item2, item3) in enumerate(zip_fidelities):\n",
    "    print(i, '-', item1, item2, item3)\n",
    "\n",
    "print('\\navg', *np.average(zip_fidelities, axis=0))\n",
    "print('min', *np.min(zip_fidelities, axis=0))\n",
    "print('max', *np.max(zip_fidelities, axis=0))\n",
    "print('std', *np.std(zip_fidelities, axis=0))"
   ]
  },
  {
   "cell_type": "code",
   "execution_count": 27,
   "metadata": {},
   "outputs": [
    {
     "name": "stdout",
     "output_type": "stream",
     "text": [
      "0\n"
     ]
    },
    {
     "data": {
      "image/png": "[encoded data removed]",
      "text/plain": [
       "<Figure size 400x80 with 5 Axes>"
      ]
     },
     "metadata": {},
     "output_type": "display_data"
    },
    {
     "name": "stdout",
     "output_type": "stream",
     "text": [
      "1\n"
     ]
    },
    {
     "data": {
      "image/png": "[encoded data removed]",
      "text/plain": [
       "<Figure size 400x80 with 5 Axes>"
      ]
     },
     "metadata": {},
     "output_type": "display_data"
    },
    {
     "name": "stdout",
     "output_type": "stream",
     "text": [
      "2\n"
     ]
    },
    {
     "data": {
      "image/png": "[encoded data removed]",
      "text/plain": [
       "<Figure size 400x80 with 5 Axes>"
      ]
     },
     "metadata": {},
     "output_type": "display_data"
    },
    {
     "name": "stdout",
     "output_type": "stream",
     "text": [
      "3\n"
     ]
    },
    {
     "data": {
      "image/png": "[encoded data removed]",
      "text/plain": [
       "<Figure size 400x80 with 5 Axes>"
      ]
     },
     "metadata": {},
     "output_type": "display_data"
    },
    {
     "name": "stdout",
     "output_type": "stream",
     "text": [
      "4\n"
     ]
    },
    {
     "data": {
      "image/png": "[encoded data removed]",
      "text/plain": [
       "<Figure size 400x80 with 5 Axes>"
      ]
     },
     "metadata": {},
     "output_type": "display_data"
    },
    {
     "name": "stdout",
     "output_type": "stream",
     "text": [
      "5\n"
     ]
    },
    {
     "data": {
      "image/png": "[encoded data removed]",
      "text/plain": [
       "<Figure size 400x80 with 5 Axes>"
      ]
     },
     "metadata": {},
     "output_type": "display_data"
    },
    {
     "name": "stdout",
     "output_type": "stream",
     "text": [
      "6\n"
     ]
    },
    {
     "data": {
      "image/png": "[encoded data removed]",
      "text/plain": [
       "<Figure size 400x80 with 5 Axes>"
      ]
     },
     "metadata": {},
     "output_type": "display_data"
    },
    {
     "name": "stdout",
     "output_type": "stream",
     "text": [
      "7\n"
     ]
    },
    {
     "data": {
      "image/png": "[encoded data removed]",
      "text/plain": [
       "<Figure size 400x80 with 5 Axes>"
      ]
     },
     "metadata": {},
     "output_type": "display_data"
    },
    {
     "name": "stdout",
     "output_type": "stream",
     "text": [
      "8\n"
     ]
    },
    {
     "data": {
      "image/png": "[encoded data removed]",
      "text/plain": [
       "<Figure size 400x80 with 5 Axes>"
      ]
     },
     "metadata": {},
     "output_type": "display_data"
    },
    {
     "name": "stdout",
     "output_type": "stream",
     "text": [
      "9\n"
     ]
    },
    {
     "data": {
      "image/png": "[encoded data removed]",
      "text/plain": [
       "<Figure size 400x80 with 5 Axes>"
      ]
     },
     "metadata": {},
     "output_type": "display_data"
    },
    {
     "name": "stdout",
     "output_type": "stream",
     "text": [
      "10\n"
     ]
    },
    {
     "data": {
      "image/png": "[encoded data removed]",
      "text/plain": [
       "<Figure size 400x80 with 5 Axes>"
      ]
     },
     "metadata": {},
     "output_type": "display_data"
    },
    {
     "name": "stdout",
     "output_type": "stream",
     "text": [
      "11\n"
     ]
    },
    {
     "data": {
      "image/png": "[encoded data removed]",
      "text/plain": [
       "<Figure size 400x80 with 5 Axes>"
      ]
     },
     "metadata": {},
     "output_type": "display_data"
    },
    {
     "name": "stdout",
     "output_type": "stream",
     "text": [
      "12\n"
     ]
    },
    {
     "data": {
      "image/png": "[encoded data removed]",
      "text/plain": [
       "<Figure size 400x80 with 5 Axes>"
      ]
     },
     "metadata": {},
     "output_type": "display_data"
    },
    {
     "name": "stdout",
     "output_type": "stream",
     "text": [
      "13\n"
     ]
    },
    {
     "data": {
      "image/png": "[encoded data removed]",
      "text/plain": [
       "<Figure size 400x80 with 5 Axes>"
      ]
     },
     "metadata": {},
     "output_type": "display_data"
    },
    {
     "name": "stdout",
     "output_type": "stream",
     "text": [
      "14\n"
     ]
    },
    {
     "data": {
      "image/png": "[encoded data removed]",
      "text/plain": [
       "<Figure size 400x80 with 5 Axes>"
      ]
     },
     "metadata": {},
     "output_type": "display_data"
    },
    {
     "name": "stdout",
     "output_type": "stream",
     "text": [
      "15\n"
     ]
    },
    {
     "data": {
      "image/png": "[encoded data removed]",
      "text/plain": [
       "<Figure size 400x80 with 5 Axes>"
      ]
     },
     "metadata": {},
     "output_type": "display_data"
    },
    {
     "name": "stdout",
     "output_type": "stream",
     "text": [
      "16\n"
     ]
    },
    {
     "data": {
      "image/png": "[encoded data removed]",
      "text/plain": [
       "<Figure size 400x80 with 5 Axes>"
      ]
     },
     "metadata": {},
     "output_type": "display_data"
    },
    {
     "name": "stdout",
     "output_type": "stream",
     "text": [
      "17\n"
     ]
    },
    {
     "data": {
      "image/png": "[encoded data removed]",
      "text/plain": [
       "<Figure size 400x80 with 5 Axes>"
      ]
     },
     "metadata": {},
     "output_type": "display_data"
    },
    {
     "name": "stdout",
     "output_type": "stream",
     "text": [
      "18\n"
     ]
    },
    {
     "data": {
      "image/png": "[encoded data removed]",
      "text/plain": [
       "<Figure size 400x80 with 5 Axes>"
      ]
     },
     "metadata": {},
     "output_type": "display_data"
    },
    {
     "name": "stdout",
     "output_type": "stream",
     "text": [
      "19\n"
     ]
    },
    {
     "data": {
      "image/png": "[encoded data removed]",
      "text/plain": [
       "<Figure size 400x80 with 5 Axes>"
      ]
     },
     "metadata": {},
     "output_type": "display_data"
    }
   ],
   "source": [
    "for i, (item1, item2, item3) in enumerate(zip(figures[0],figures[1],figures[2])):\n",
    "    print(i)\n",
    "    plot_digits([item1[0], item1[1], item1[2], item2[2], item3[2]], n_qubits)"
   ]
  },
  {
   "cell_type": "code",
   "execution_count": null,
   "metadata": {},
   "outputs": [],
   "source": []
  }
 ],
 "metadata": {
  "kernelspec": {
   "display_name": "py39",
   "language": "python",
   "name": "python3"
  },
  "language_info": {
   "codemirror_mode": {
    "name": "ipython",
    "version": 3
   },
   "file_extension": ".py",
   "mimetype": "text/x-python",
   "name": "python",
   "nbconvert_exporter": "python",
   "pygments_lexer": "ipython3",
   "version": "3.11.5"
  },
  "orig_nbformat": 4
 },
 "nbformat": 4,
 "nbformat_minor": 2
}

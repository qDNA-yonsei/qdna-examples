{
 "cells": [
  {
   "cell_type": "code",
   "execution_count": 1,
   "metadata": {},
   "outputs": [
    {
     "name": "stderr",
     "output_type": "stream",
     "text": [
      "2024-04-21 12:36:23.763814: I tensorflow/core/util/port.cc:113] oneDNN custom operations are on. You may see slightly different numerical results due to floating-point round-off errors from different computation orders. To turn them off, set the environment variable `TF_ENABLE_ONEDNN_OPTS=0`.\n",
      "2024-04-21 12:36:23.793345: I tensorflow/core/platform/cpu_feature_guard.cc:210] This TensorFlow binary is optimized to use available CPU instructions in performance-critical operations.\n",
      "To enable the following instructions: AVX2 AVX_VNNI FMA, in other operations, rebuild TensorFlow with the appropriate compiler flags.\n",
      "2024-04-21 12:36:24.328646: W tensorflow/compiler/tf2tensorrt/utils/py_utils.cc:38] TF-TRT Warning: Could not find TensorRT\n"
     ]
    }
   ],
   "source": [
    "import numpy as np\n",
    "from torch import tensor\n",
    "from torch.nn import CrossEntropyLoss\n",
    "from dataset.mnist import get_data as get_mnist\n",
    "from qiskit.providers.fake_provider import Fake27QPulseV1\n",
    "\n",
    "from qdna.embedding import (\n",
    "    AeFeatureMap,\n",
    ")\n",
    "from qdna.ansatz import (\n",
    "    Qcnn,\n",
    "    ConvSimple,\n",
    "    PoolSimple\n",
    ")"
   ]
  },
  {
   "attachments": {},
   "cell_type": "markdown",
   "metadata": {},
   "source": [
    "## Configuration"
   ]
  },
  {
   "cell_type": "code",
   "execution_count": 2,
   "metadata": {},
   "outputs": [],
   "source": [
    "num_qubits = 4\n",
    "feature_map_type = AeFeatureMap\n",
    "conv_block_type = ConvSimple\n",
    "pool_block_type = PoolSimple\n",
    "noisy_device_type = None # Fake27QPulseV1 (None=ideal simulation)\n",
    "get_dataset = get_mnist\n",
    "loss_func = CrossEntropyLoss()\n",
    "epochs = 10\n",
    "batch_size = 8\n",
    "\n",
    "num_measurements = int(np.ceil(np.log2(num_qubits)))\n",
    "num_features = feature_map_type(num_qubits, reps=1).num_parameters_settable"
   ]
  },
  {
   "cell_type": "code",
   "execution_count": 3,
   "metadata": {},
   "outputs": [
    {
     "name": "stdout",
     "output_type": "stream",
     "text": [
      "num_measurements= 2\n",
      "num_features= 16\n"
     ]
    }
   ],
   "source": [
    "print('num_measurements=', num_measurements)\n",
    "print('num_features=', num_features)"
   ]
  },
  {
   "attachments": {},
   "cell_type": "markdown",
   "metadata": {},
   "source": [
    "## Dataset"
   ]
  },
  {
   "cell_type": "code",
   "execution_count": 4,
   "metadata": {},
   "outputs": [],
   "source": [
    "from torch.utils.data import DataLoader\n",
    "from sklearn.preprocessing import normalize\n",
    "\n",
    "# labels must be in {0, 1}.\n",
    "train_data, test_data = get_dataset(num_features)"
   ]
  },
  {
   "cell_type": "code",
   "execution_count": 5,
   "metadata": {},
   "outputs": [],
   "source": [
    "# must normalize the data.\n",
    "train_data.data = tensor(normalize(train_data.data))\n",
    "test_data.data = tensor(normalize(test_data.data))\n",
    "\n",
    "train_loader = DataLoader(list(zip(train_data.data, train_data.targets)), batch_size=batch_size, shuffle=True)\n",
    "test_loader = DataLoader(list(zip(test_data.data, test_data.targets)), batch_size=batch_size, shuffle=True)"
   ]
  },
  {
   "attachments": {},
   "cell_type": "markdown",
   "metadata": {},
   "source": [
    "## Device and sampler"
   ]
  },
  {
   "cell_type": "code",
   "execution_count": 6,
   "metadata": {},
   "outputs": [],
   "source": [
    "from qiskit.primitives import BackendSampler\n",
    "\n",
    "if noisy_device_type is None:\n",
    "    # Local exact count simulation\n",
    "    sampler = None\n",
    "else:\n",
    "    # Local noisy simulation\n",
    "    noisy_backend = noisy_device_type()\n",
    "    sampler = BackendSampler(backend = noisy_backend)"
   ]
  },
  {
   "attachments": {},
   "cell_type": "markdown",
   "metadata": {},
   "source": [
    "## Define and create QNNs"
   ]
  },
  {
   "cell_type": "code",
   "execution_count": 7,
   "metadata": {},
   "outputs": [],
   "source": [
    "# Define and create QNNs\n",
    "from qiskit import QuantumCircuit, ClassicalRegister\n",
    "from qiskit_algorithms.utils import algorithm_globals\n",
    "from qiskit_machine_learning.neural_networks import SamplerQNN\n",
    "\n",
    "algorithm_globals.random_seed = 12345\n",
    "\n",
    "def null_interpret(x):\n",
    "    # To define `output_shape` we must also define an `interpret` function,\n",
    "    # even if it do nothing. If `output_shape` is not defined, the measurement\n",
    "    # will always return an array with 2^n quasi-probabilities, padding with\n",
    "    # zeroes the amplitudes not associated with measured qubits.\n",
    "    return x\n",
    "\n",
    "def place_measurements(qc):\n",
    "    cbit = 0\n",
    "    block_size = num_qubits\n",
    "    while block_size > 1:\n",
    "        qbit = num_qubits - block_size\n",
    "        qc.measure(qbit, cbit)\n",
    "        cbit += 1\n",
    "        block_size = int(np.ceil(block_size / 2))\n",
    "\n",
    "def create_qnn(traditional_qcnn=False):\n",
    "\n",
    "    feature_map = feature_map_type(num_qubits, reps=1)\n",
    "    ansatz = Qcnn(num_qubits, conv_block=conv_block_type(), pool_block=pool_block_type())\n",
    "\n",
    "    qc = QuantumCircuit(num_qubits)\n",
    "    qc.compose(feature_map, inplace=True)\n",
    "    qc.compose(ansatz.decompose(), inplace=True)\n",
    "\n",
    "    if traditional_qcnn:\n",
    "        qc.add_register(ClassicalRegister(1))\n",
    "        qc.measure(num_qubits-2, 0)\n",
    "        output_shape=2\n",
    "    else:\n",
    "        qc.add_register(ClassicalRegister(num_measurements))\n",
    "        place_measurements(qc)\n",
    "        output_shape=2**(num_measurements)\n",
    "\n",
    "    # REMEMBER TO SET input_gradients=True FOR ENABLING HYBRID GRADIENT BACKPROP\n",
    "    qnn = SamplerQNN(\n",
    "        sampler=sampler,\n",
    "        circuit=qc,\n",
    "        input_params=feature_map.parameters,\n",
    "        weight_params=ansatz.parameters,\n",
    "        input_gradients=True,\n",
    "        interpret=null_interpret,\n",
    "        output_shape=output_shape\n",
    "    )\n",
    "\n",
    "    return qnn\n",
    "\n",
    "qnn_new = create_qnn()\n",
    "qnn_traditional = create_qnn(traditional_qcnn=True)"
   ]
  },
  {
   "attachments": {},
   "cell_type": "markdown",
   "metadata": {},
   "source": [
    "## Define torch NN module"
   ]
  },
  {
   "cell_type": "code",
   "execution_count": 8,
   "metadata": {},
   "outputs": [],
   "source": [
    "# Define torch NN module\n",
    "from torch import concat, sum as tsum\n",
    "from torch.nn import (\n",
    "    Module,\n",
    "    Linear,\n",
    "    Sequential,\n",
    "    CELU,\n",
    "    Sigmoid\n",
    ")\n",
    "from qiskit_machine_learning.connectors import TorchConnector\n",
    "\n",
    "def get_counts(x, num_measurements):\n",
    "    # Calculates the probability of measuring zero on each qubit\n",
    "    # separately from the measurement probability vector.\n",
    "\n",
    "    size = 2**(num_measurements)\n",
    "\n",
    "    idx = [v for i, v in enumerate(range(size)) if i % 2 < 1]\n",
    "    new_x = tsum(x[:,idx], 1, True)\n",
    "\n",
    "    for bit in range(1, num_measurements):\n",
    "        idx = [v for i, v in enumerate(range(size)) if i % 2**(bit+1) < 2**bit]\n",
    "        new_x = concat([new_x, tsum(x[:,idx], 1, True)], 1)\n",
    "\n",
    "    return new_x\n",
    "\n",
    "class Net(Module):\n",
    "    def __init__(self, qnn, layers_sizes, traditional_qcnn=False):\n",
    "        input_size, hidden_size, output_size = layers_sizes\n",
    "        super().__init__()\n",
    "        if not traditional_qcnn:\n",
    "            self.linear_stack = Sequential(\n",
    "                Linear(input_size, hidden_size),\n",
    "                CELU(),\n",
    "                Linear(hidden_size, hidden_size),\n",
    "                CELU(),\n",
    "                Linear(hidden_size, output_size),\n",
    "                Sigmoid()\n",
    "            )\n",
    "        self.qnn = TorchConnector(qnn)\n",
    "        self._traditional_qcnn = traditional_qcnn\n",
    "\n",
    "    def forward(self, x):\n",
    "        if self._traditional_qcnn:\n",
    "            x = get_counts(self.qnn(x), num_measurements=1)\n",
    "        else:\n",
    "            x = get_counts(self.qnn(x), num_measurements=num_measurements)\n",
    "            x = self.linear_stack(x)\n",
    "        # Uncomment the line below to visually follow the convergence.\n",
    "        # print(x.reshape(-1))\n",
    "        return x.reshape(-1)\n",
    "\n",
    "input_size = num_measurements\n",
    "layers_sizes = (input_size, 3 * input_size, 1)\n"
   ]
  },
  {
   "attachments": {},
   "cell_type": "markdown",
   "metadata": {},
   "source": [
    "## Training"
   ]
  },
  {
   "cell_type": "code",
   "execution_count": 9,
   "metadata": {},
   "outputs": [],
   "source": [
    "import torch.optim as optim\n",
    "from torch import save\n",
    "\n",
    "def training(model, train_loader):\n",
    "    # Define optimizer and loss function\n",
    "    optimizer = optim.Adam(model.parameters(), lr=0.01)\n",
    "\n",
    "    # Start training\n",
    "    loss_list = [] # Store loss history\n",
    "    model.train()  # Set model to training mode\n",
    "\n",
    "    for epoch in range(epochs):\n",
    "        total_loss = []\n",
    "        for batch_idx, (data, target) in enumerate(train_loader):\n",
    "            data = data.squeeze()\n",
    "            target = target.float()\n",
    "\n",
    "            optimizer.zero_grad(set_to_none=True) # Initialize gradient\n",
    "            output = model(data)                  # Forward pass\n",
    "            loss = loss_func(output, target)      # Calculate loss\n",
    "            loss.backward()                       # Backward pass\n",
    "            optimizer.step()                      # Optimize weights\n",
    "            total_loss.append(loss.item())        # Store loss\n",
    "\n",
    "        loss_list.append(sum(total_loss) / len(total_loss))\n",
    "        print(\"Training [{:.0f}%]\\tLoss: {:.4f}\".format(100.0 * (epoch + 1) / epochs, loss_list[-1]))\n",
    "\n",
    "    return loss_list\n",
    "\n",
    "def save_training_data(model, loss_list, file_suffix):\n",
    "    save(model.state_dict(), f\"./save/model_dict_{file_suffix}.pt\")\n",
    "\n",
    "    with open(f\"./save/loss_list_{file_suffix}.txt\",'w') as f:\n",
    "        np.savetxt(f, loss_list, delimiter=\",\")"
   ]
  },
  {
   "attachments": {},
   "cell_type": "markdown",
   "metadata": {},
   "source": [
    "### train new model"
   ]
  },
  {
   "cell_type": "code",
   "execution_count": 10,
   "metadata": {},
   "outputs": [
    {
     "name": "stdout",
     "output_type": "stream",
     "text": [
      "Training [10%]\tLoss: 8.3043\n",
      "Training [20%]\tLoss: 7.8676\n",
      "Training [30%]\tLoss: 7.1405\n",
      "Training [40%]\tLoss: 7.0361\n",
      "Training [50%]\tLoss: 7.0246\n",
      "Training [60%]\tLoss: 6.9631\n",
      "Training [70%]\tLoss: 6.9821\n",
      "Training [80%]\tLoss: 7.0753\n",
      "Training [90%]\tLoss: 6.9855\n",
      "Training [100%]\tLoss: 6.9870\n"
     ]
    }
   ],
   "source": [
    "model_new = Net(qnn_new, layers_sizes)\n",
    "loss_list_new = training(model_new, train_loader)"
   ]
  },
  {
   "cell_type": "code",
   "execution_count": 11,
   "metadata": {},
   "outputs": [],
   "source": [
    "save_training_data(model_new, loss_list_new, 'new')"
   ]
  },
  {
   "attachments": {},
   "cell_type": "markdown",
   "metadata": {},
   "source": [
    "### train traditional model (comparison basis)"
   ]
  },
  {
   "cell_type": "code",
   "execution_count": 12,
   "metadata": {},
   "outputs": [
    {
     "name": "stdout",
     "output_type": "stream",
     "text": [
      "Training [10%]\tLoss: 7.9754\n",
      "Training [20%]\tLoss: 7.8856\n",
      "Training [30%]\tLoss: 7.8409\n",
      "Training [40%]\tLoss: 7.7284\n",
      "Training [50%]\tLoss: 7.6962\n",
      "Training [60%]\tLoss: 7.6315\n",
      "Training [70%]\tLoss: 7.6780\n",
      "Training [80%]\tLoss: 7.6130\n",
      "Training [90%]\tLoss: 7.6650\n",
      "Training [100%]\tLoss: 7.6131\n"
     ]
    }
   ],
   "source": [
    "model_traditional = Net(qnn_traditional, layers_sizes, traditional_qcnn=True)\n",
    "loss_list_traditional = training(model_traditional, train_loader)"
   ]
  },
  {
   "cell_type": "code",
   "execution_count": 13,
   "metadata": {},
   "outputs": [],
   "source": [
    "save_training_data(model_traditional, loss_list_traditional, 'traditional')"
   ]
  },
  {
   "attachments": {},
   "cell_type": "markdown",
   "metadata": {},
   "source": [
    "## Plot training history"
   ]
  },
  {
   "cell_type": "code",
   "execution_count": 14,
   "metadata": {},
   "outputs": [
    {
     "data": {
      "image/png": "[encoded data removed]",
      "text/plain": [
       "<Figure size 640x480 with 1 Axes>"
      ]
     },
     "metadata": {},
     "output_type": "display_data"
    }
   ],
   "source": [
    "# Plot loss convergence\n",
    "import matplotlib.pyplot as plt\n",
    "import pandas as pd\n",
    "from matplotlib import rc\n",
    "\n",
    "new_model_data = np.loadtxt(\n",
    "    './save/loss_list_new.txt', delimiter=','\n",
    ")\n",
    "\n",
    "traditional_model_data = np.loadtxt(\n",
    "    './save/loss_list_traditional.txt', delimiter=','\n",
    ")\n",
    "\n",
    "r = list(range(epochs))\n",
    "\n",
    "# Data\n",
    "df=pd.DataFrame(\n",
    "    { 'x_values': r, 'QCNN': traditional_model_data,\n",
    "      'AQCNN': new_model_data,      \n",
    "    }\n",
    ")\n",
    "\n",
    "# multiple line plots\n",
    "plt.plot( 'x_values', 'QCNN' , data=df, marker='o', markersize=8)\n",
    "plt.plot( 'x_values', 'AQCNN' , data=df, marker='^', markersize=8)\n",
    "\n",
    "plt.title(\"Hybrid NN training convergence\")\n",
    "plt.xlabel(\"Training iterations\")\n",
    "plt.ylabel(\"Loss\")\n",
    "plt.xticks(r)\n",
    "plt.legend()\n",
    "plt.show()"
   ]
  },
  {
   "attachments": {},
   "cell_type": "markdown",
   "metadata": {},
   "source": [
    "## Testing"
   ]
  },
  {
   "cell_type": "code",
   "execution_count": 15,
   "metadata": {},
   "outputs": [
    {
     "data": {
      "text/plain": [
       "<All keys matched successfully>"
      ]
     },
     "execution_count": 15,
     "metadata": {},
     "output_type": "execute_result"
    }
   ],
   "source": [
    "from torch import load\n",
    "\n",
    "model_new_2 = Net(qnn_new, layers_sizes)\n",
    "model_new_2.load_state_dict(load(\"./save/model_dict_new.pt\"))\n",
    "\n",
    "model_traditional_2 = Net(qnn_traditional, layers_sizes, traditional_qcnn=True)\n",
    "model_traditional_2.load_state_dict(load(\"./save/model_dict_traditional.pt\"))"
   ]
  },
  {
   "cell_type": "code",
   "execution_count": 16,
   "metadata": {},
   "outputs": [],
   "source": [
    "def test_model(model, test_loader):\n",
    "    from torch import no_grad\n",
    "    \n",
    "    model.eval()  # set model to evaluation mode\n",
    "    with no_grad():\n",
    "        total_loss = []\n",
    "        correct = 0\n",
    "        for batch_idx, (data, target) in enumerate(test_loader):\n",
    "            data = data.squeeze()\n",
    "            target = target.float()\n",
    "\n",
    "            output = model(data)\n",
    "\n",
    "            pred = np.round(output, 0)\n",
    "            \n",
    "            correct += pred.eq(target.view_as(pred)).sum().item()\n",
    "\n",
    "            loss = loss_func(output, target)\n",
    "            total_loss.append(loss.item())\n",
    "\n",
    "        print(\n",
    "            \"Performance on test data:\\n\\tLoss: {:.4f}\\n\\tAccuracy: {:.1f}%\".format(\n",
    "                sum(total_loss) / len(total_loss), correct / len(test_loader) / batch_size * 100\n",
    "            )\n",
    "        )"
   ]
  },
  {
   "cell_type": "code",
   "execution_count": 17,
   "metadata": {},
   "outputs": [
    {
     "name": "stdout",
     "output_type": "stream",
     "text": [
      "Performance on test data:\n",
      "\tLoss: 7.1332\n",
      "\tAccuracy: 97.7%\n"
     ]
    }
   ],
   "source": [
    "test_model(model_new_2, test_loader)"
   ]
  },
  {
   "cell_type": "code",
   "execution_count": 18,
   "metadata": {},
   "outputs": [
    {
     "name": "stdout",
     "output_type": "stream",
     "text": [
      "Performance on test data:\n",
      "\tLoss: 7.5391\n",
      "\tAccuracy: 97.7%\n"
     ]
    }
   ],
   "source": [
    "test_model(model_traditional_2, test_loader)"
   ]
  },
  {
   "attachments": {},
   "cell_type": "markdown",
   "metadata": {},
   "source": [
    "### Plot a couple of tests"
   ]
  },
  {
   "cell_type": "code",
   "execution_count": 19,
   "metadata": {},
   "outputs": [],
   "source": [
    "def plot_test_model(model, test_loader):\n",
    "    # Plot predicted labels\n",
    "    from torch import no_grad\n",
    "    import matplotlib.pyplot as plt\n",
    "\n",
    "    n_samples_show = 6\n",
    "    count = 0\n",
    "    fig, axes = plt.subplots(nrows=1, ncols=n_samples_show, figsize=(10, 3))\n",
    "\n",
    "    model.eval()\n",
    "    with no_grad():\n",
    "        for batch_idx, (data, target) in enumerate(test_loader):\n",
    "            data = data.squeeze()\n",
    "            target = target.float()\n",
    "            if count == n_samples_show:\n",
    "                break\n",
    "            output = model(data)\n",
    "            \n",
    "            pred = np.round([output[0]], 0)\n",
    "\n",
    "            axes[count].imshow(\n",
    "                data[0].numpy().reshape(\n",
    "                    len(data[0])//int(np.floor(np.sqrt(len(data[0])))),\n",
    "                    int(np.floor(np.sqrt(len(data[0]))))\n",
    "                ),\n",
    "                cmap=\"gray\"\n",
    "            )\n",
    "\n",
    "            axes[count].set_xticks([])\n",
    "            axes[count].set_yticks([])\n",
    "            axes[count].set_title(\"Tgt {} Pred {}\".format(int(target[0]), int(pred.item())))\n",
    "\n",
    "            count += 1"
   ]
  },
  {
   "cell_type": "code",
   "execution_count": 20,
   "metadata": {},
   "outputs": [
    {
     "data": {
      "image/png": "[encoded data removed]",
      "text/plain": [
       "<Figure size 1000x300 with 6 Axes>"
      ]
     },
     "metadata": {},
     "output_type": "display_data"
    }
   ],
   "source": [
    "plot_test_model(model_new_2, test_loader)"
   ]
  },
  {
   "cell_type": "code",
   "execution_count": 21,
   "metadata": {},
   "outputs": [
    {
     "data": {
      "image/png": "[encoded data removed]",
      "text/plain": [
       "<Figure size 1000x300 with 6 Axes>"
      ]
     },
     "metadata": {},
     "output_type": "display_data"
    }
   ],
   "source": [
    "plot_test_model(model_traditional_2, test_loader)"
   ]
  }
 ],
 "metadata": {
  "kernelspec": {
   "display_name": "py38",
   "language": "python",
   "name": "python3"
  },
  "language_info": {
   "codemirror_mode": {
    "name": "ipython",
    "version": 3
   },
   "file_extension": ".py",
   "mimetype": "text/x-python",
   "name": "python",
   "nbconvert_exporter": "python",
   "pygments_lexer": "ipython3",
   "version": "3.11.8"
  },
  "orig_nbformat": 4
 },
 "nbformat": 4,
 "nbformat_minor": 2
}
